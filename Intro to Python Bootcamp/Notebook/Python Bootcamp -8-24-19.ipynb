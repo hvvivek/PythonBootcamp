{
 "cells": [
  {
   "cell_type": "markdown",
   "metadata": {},
   "source": [
    "![General Assembly Logo](https://camo.githubusercontent.com/1a91b05b8f4d44b5bbfb83abac2b0996d8e26c92/687474703a2f2f692e696d6775722e636f6d2f6b6538555354712e706e67)\n",
    "\n",
    "# TABLE OF CONTENTS\n",
    "\n",
    "-  HELLO WORLD \n",
    "-  IMPORTING MODULES \n",
    "-  CODE COMMENTS \n",
    "-  VARIABLE TYPES \n",
    "-  DECLARING VARIABLES \n",
    "-  STRINGS\n",
    "  -  declaration \n",
    "  -  length \n",
    "  -  returning values\n",
    "  -  escaped characters \n",
    "  -  multiline strings \n",
    "  -  string concatenation \n",
    "  -  slicing \n",
    "-  INTEGERS AND FLOATS \n",
    "  -  declaration \n",
    "  -  operators \n",
    "  -  conversion  \n",
    "  -  incrementing in place \n",
    "  -  rounding floats \n",
    "  -  order of operations \n",
    "-  LISTS \n",
    "  -  declaration \n",
    "  -  length \n",
    "  -  indexing / slicing\n",
    "-  indexing multidimensional lists \n",
    "  -  list ordering\n",
    "  -  adding / deleting / changing values\n",
    "    -  changing values\n",
    "    -  adding values\n",
    "    -  deleting values\n",
    "  -  unpacking\n",
    "-  TUPLES\n",
    "  -  declaration \n",
    "-  DICTS\n",
    "  -  declaration \n",
    "  -  pretty printing a dict\n",
    "  -  indexing \n",
    "  -  listing keys and values \n",
    "  -  adding / removing / changing key values \n",
    "    -  adding / changing \n",
    "    -  removing \n",
    "  -  json to dict \n",
    "-  BOOLEANS \n",
    "  -  logical operators \n",
    "  -  equality vs identity\n",
    "  -  logical combinations\n",
    "  -  in operator \n",
    "-  CONTROL FLOW \n",
    "  -  if statements \n",
    "  -  for \n",
    "  -  while \n",
    "-  FUNCTIONS \n",
    "  -  declaration\n",
    "  -  parameters \n",
    "  -  scope \n",
    "-  ADDITIONAL RESOURCES \n",
    "-  THE KOAN OF PYTHON\n",
    "- BONUS SECTION"
   ]
  },
  {
   "cell_type": "markdown",
   "metadata": {},
   "source": [
    "# HELLO WORLD\n",
    "\n",
    "Welcome to Python! Let's start where we always start with programming languages, \"hello world\". This simple statement demonstrates all of the elements of the Read, Evaluate, Print loop (**REPL**):\n",
    "\n",
    "- **READ** - read in the statement below as typed by the user\n",
    "- **EVALUATE** - run the 'print' method and take it's argument 'hello world' \n",
    "- **PRINT** - takes the result yielded by **EVALUATE** and prints it to the terminal\n",
    "- **LOOP** - you can enter more statements to evaluate which will start the loop again \n",
    "\n",
    "```python\n",
    "print('hello world!')\n",
    "```\n",
    "\n",
    "> NOTE: `print` is a built in function in Python that we can use to return text and values to our screen."
   ]
  },
  {
   "cell_type": "code",
   "execution_count": null,
   "metadata": {},
   "outputs": [],
   "source": []
  },
  {
   "cell_type": "markdown",
   "metadata": {},
   "source": [
    "# IMPORTING MODULES\n",
    "\n",
    "Modules are pre-packaged bundles of code that provide us with useful functions, variables, and classes. Some modules come built-in with Python, while others come from packages that can be installed optionally\n",
    "\n",
    "Here is the basic module import syntax:\n",
    "\n",
    "```python\n",
    "import os\n",
    "\n",
    "os.getcwd() # returns current working directory\n",
    "\n",
    "```"
   ]
  },
  {
   "cell_type": "code",
   "execution_count": null,
   "metadata": {},
   "outputs": [],
   "source": []
  },
  {
   "cell_type": "markdown",
   "metadata": {},
   "source": [
    "We can also import modules and alias them to other names:\n",
    "\n",
    "```python\n",
    "# numpy is a powerful matrix math package for Python\n",
    "# that by standard convention is imported as  'np'\n",
    "import numpy as np\n",
    "np.pi # returns value of pi\n",
    "```"
   ]
  },
  {
   "cell_type": "code",
   "execution_count": null,
   "metadata": {},
   "outputs": [],
   "source": []
  },
  {
   "cell_type": "markdown",
   "metadata": {},
   "source": [
    "# CODE COMMENTS\n",
    "\n",
    "Comments should  be used when it is not obvious what your code is doing. \n",
    "Although Python is easy to read and code can often be simplified, it is best practice to leave comments about complicated code, or to explain decisions when the logic may not be clearly obvious to someone else (or yourself six-months from now when you come back to edit this)\n",
    "\n",
    "Here are the two types of comments:\n",
    "\n",
    "```python\n",
    "'''\n",
    "this is a multiline comment\n",
    "we can put as many lines of comment between these triple quotes as we want!\n",
    "these comments are often used to document what a function or class does\n",
    "'''\n",
    "\n",
    "# this is a single line comment! \n",
    "\n",
    "# everything after the # is a comment\n",
    "# everything before is evaluated\n",
    "# all comments will be ignored by the interpreter!\n",
    "\n",
    "print('hi') # this line will print 'this' to the standard output\n",
    "```"
   ]
  },
  {
   "cell_type": "code",
   "execution_count": null,
   "metadata": {},
   "outputs": [],
   "source": []
  },
  {
   "cell_type": "markdown",
   "metadata": {},
   "source": [
    "# DATA TYPES\n",
    "\n",
    "Python has a few important and commonly used variable types, along with some more exotic types you don't see used quite as often.\n",
    "\n",
    "\n",
    "We are going to be concerned, today, with the following most commonly used types:\n",
    "\n",
    "- **Strings**: ordered collections of characters, ex. `\"General Assembly\"`\n",
    "- **Integers/Floats**: numeric values, integer (ex. `5`) of floating point (ex. `3.14`)\n",
    "- **Booleans**: `True` or `False` values\n",
    "- **Lists**: ordered collections of values that can be modified programatically\n",
    "- **Tuples**: exactly like lists, but a Tuple cannot be changed one declared\n",
    "- **Dicts**: collections of values that can be referenced by their names (called **keys**)\n",
    "- **Functions**: blocks of code that received some value, execute some logic / calculation, and return a result\n",
    "- **Classes**: blueprints for making objects which are simplified models of real world objects and their characteristics and behaviors\n"
   ]
  },
  {
   "cell_type": "markdown",
   "metadata": {},
   "source": [
    "# DECLARING VARIABLES\n",
    "\n",
    "We declare variables by name and set their value using the `=` assignment operator \n",
    "\n",
    "```python\n",
    "my_first_var = 'Hello'\n",
    "my_second_var = \"Hi\"\n",
    "my_third_var = 2\n",
    "my_fourth_var = True\n",
    "my_fifth_var = 36.2\n",
    "```"
   ]
  },
  {
   "cell_type": "code",
   "execution_count": null,
   "metadata": {},
   "outputs": [],
   "source": []
  },
  {
   "cell_type": "markdown",
   "metadata": {},
   "source": [
    "Python is a dynamically-typed language; this means that Python determines the type of the \n",
    "variable for you automatically given the context that the variable is declared in \n",
    "and the value passed to the variable\n",
    "\n",
    "```python\n",
    "print(type(my_first_var))\n",
    "print(type(my_second_var))\n",
    "print(type(my_third_var))\n",
    "print(type(my_fourth_var))\n",
    "print(type(my_fifth_var))\n",
    "```"
   ]
  },
  {
   "cell_type": "code",
   "execution_count": null,
   "metadata": {},
   "outputs": [],
   "source": []
  },
  {
   "cell_type": "markdown",
   "metadata": {},
   "source": [
    "Variable naming conventions: all lowercase, starting with a letter or \n",
    "underscore, with underscores between words don't use special characters! \n",
    "don't use dashes!\n",
    "[PEP-8 naming standards for Python](https://www.python.org/dev/peps/pep-0008/)\n",
    "\n",
    "```python\n",
    "my_var = 1\n",
    "invalid-var = 1\n",
    "0invalid_var = 1\n",
    "invalid_var@ = 1\n",
    "```"
   ]
  },
  {
   "cell_type": "code",
   "execution_count": null,
   "metadata": {},
   "outputs": [],
   "source": []
  },
  {
   "cell_type": "markdown",
   "metadata": {},
   "source": [
    "Overwriting a variable is as simply as reassigning it:\n",
    "\n",
    "```python\n",
    "my_var = 'Hello'\n",
    "```"
   ]
  },
  {
   "cell_type": "code",
   "execution_count": null,
   "metadata": {},
   "outputs": [],
   "source": []
  },
  {
   "cell_type": "markdown",
   "metadata": {},
   "source": [
    "A re-assigned variable can be of any type; it is not constrained to be of the\n",
    "same type as it was originally declared:\n",
    "\n",
    "```python\n",
    "print(type(my_var))\n",
    "```"
   ]
  },
  {
   "cell_type": "code",
   "execution_count": null,
   "metadata": {},
   "outputs": [],
   "source": []
  },
  {
   "cell_type": "markdown",
   "metadata": {},
   "source": [
    "You can declare multiple variables at once:\n",
    "\n",
    "```python\n",
    "name, age, sex = 'Bethany', 24, 'F'\n",
    "```"
   ]
  },
  {
   "cell_type": "code",
   "execution_count": null,
   "metadata": {},
   "outputs": [],
   "source": []
  },
  {
   "cell_type": "markdown",
   "metadata": {},
   "source": [
    "# STRINGS\n",
    "\n",
    "Strings are ordered collections of characters which are enclosed in single or double quotation marks. Single letters, words, sentences, paragraphs, emojis, kanji... these are all represented as strings. \n",
    "\n",
    "## declaration\n",
    "\n",
    "```python\n",
    "my_string = 'this'\n",
    "# or\n",
    "my_string = \"this\"\n",
    "```"
   ]
  },
  {
   "cell_type": "code",
   "execution_count": null,
   "metadata": {},
   "outputs": [],
   "source": []
  },
  {
   "cell_type": "markdown",
   "metadata": {},
   "source": [
    "## length\n",
    "\n",
    "You can use a builtin function called `len` to calculate the length of variables:\n",
    "\n",
    "```python\n",
    "len(my_string)\n",
    "```"
   ]
  },
  {
   "cell_type": "code",
   "execution_count": null,
   "metadata": {},
   "outputs": [],
   "source": []
  },
  {
   "cell_type": "markdown",
   "metadata": {},
   "source": [
    "## returning values\n",
    "\n",
    "Once you make a string, or really any variable, you can see it's value in two different ways:\n",
    "\n",
    "```python\n",
    "my_string\n",
    "# vs\n",
    "print(my_string)\n",
    "```\n",
    "\n",
    "Are these different?\n",
    "\n",
    "> ## TRY IT  \n",
    "\n",
    "\n",
    "Look at the contents of `my_string` by both viewing it using `print` or just entering it's name. What is the difference? Why?\n",
    "\n",
    "```python\n",
    "my_string = 'first line\\nsecond line'\n",
    "```\n",
    "\n",
    "<details>\n",
    "<summary>Solution</summary>\n",
    "\n",
    "When you print `my_string`, Python converts the `'\\n'` substring to a line break\n",
    "ie printing will actually replace special placeholder characters called **escaped characters** (such as `'\\n'`) with their text representation, whereas simply evaluating the name of the string will give the value\n",
    "of the string, including the escaped characters\n",
    "\n",
    "</details>"
   ]
  },
  {
   "cell_type": "code",
   "execution_count": null,
   "metadata": {},
   "outputs": [],
   "source": []
  },
  {
   "cell_type": "markdown",
   "metadata": {},
   "source": [
    "## escaped characters\n",
    "\n",
    "These characters are called **escaped characters** because the `\\` \"escapes\" / changes the normal meaning of the following letter(s), and they return a special designated string when printed, instead of just their\n",
    "character contents.\n",
    "\n",
    "Here are some common string **escape character**:\n",
    "> NOTE: these work in many / most programming languages!\n",
    "\n",
    "- `\\n` - newline\n",
    "- `\\t` - tab\n",
    "- `\\'` - escaped single quote\n",
    "  - allows you to use a `'` in the middle of a string which has starting and ending `'` characters without prematurely ending the string declaration\n",
    "- `\\\"` - escaped double quote\n",
    "  - same as escaped single quote but for string declared with `\"` starting and ending characters\n",
    "\n",
    "```python\n",
    "print('first line\\n\\ttabbed second line\\n\\'I can use single quotes if I escape them\\'')\n",
    "```"
   ]
  },
  {
   "cell_type": "code",
   "execution_count": null,
   "metadata": {},
   "outputs": [],
   "source": []
  },
  {
   "cell_type": "markdown",
   "metadata": {},
   "source": [
    "You can get unicode characters outside of the standard alphanumeric characters by using\n",
    "strings starting with \"u\" to indicate unicode, and `\\u<unicode char number>` for unicode symbols references.\n",
    "\n",
    "[Here are a ton of unicode character code mappings](http://unicode.org/charts/)\n",
    "\n",
    "```python\n",
    "ustring = u'I have to get to work, \\u2602 or \\u2600..\\u2639'\n",
    "print(ustring)\n",
    "```"
   ]
  },
  {
   "cell_type": "code",
   "execution_count": null,
   "metadata": {},
   "outputs": [],
   "source": []
  },
  {
   "cell_type": "markdown",
   "metadata": {},
   "source": [
    "> ## TRY IT\n",
    "\n",
    "Declare a string that prints the following string value (double quotation\n",
    "marks and new lines included, but you can ignore the ''' characters):\n",
    "\n",
    "```python\n",
    "'''\n",
    "\"We may have all come on different ships, but we're in the same boat now.\"\n",
    "     - MLK\n",
    "'''\n",
    "\n",
    "```\n",
    "\n",
    "<details>\n",
    "<summary>Solution</summary>\n",
    "\n",
    "Notice how the escaped quote allows us to use the same type of quotation mark as those used to declare the string:\n",
    "\n",
    "```python\n",
    "quote = '\"We may have come on different ships, but we\\'re in the same boat now.\"\\n\\t- MLK'\n",
    "# or\n",
    "quote = \"\\\"We may have come on different ships, but we're in the same boat now.\\\"\\n\\t- MLK\"\n",
    "```\n",
    "\n",
    "</details>"
   ]
  },
  {
   "cell_type": "code",
   "execution_count": null,
   "metadata": {},
   "outputs": [],
   "source": []
  },
  {
   "cell_type": "markdown",
   "metadata": {},
   "source": [
    "## multiline strings\n",
    "\n",
    "Multiline strings are exactly the same as multiline comments, but you can in fact save their values in variable for later use:\n",
    "\n",
    "```python\n",
    "multiline_string = '''\n",
    "my name is Bethany\n",
    "and I'm a teacher at General Assembly\n",
    "'''\n",
    "# or\n",
    "multiline_string = \"\"\"\n",
    "my name is Bethany\n",
    "and I'm a teacher at General Assembly\n",
    "\"\"\"\n",
    "```"
   ]
  },
  {
   "cell_type": "code",
   "execution_count": null,
   "metadata": {},
   "outputs": [],
   "source": []
  },
  {
   "cell_type": "markdown",
   "metadata": {},
   "source": [
    "## string concatenation\n",
    "\n",
    "Concatenation means adding two values together, in this case, joining to strings end to end.\n",
    "\n",
    "A string can simply be added together using the `+` operator:\n",
    "\n",
    "```python\n",
    "str_1 = 'Once upon a time, '\n",
    "str_2 = 'in a galaxy far, far away...'\n",
    "str_3 = str_1 + str_2\n",
    "print(str_3)\n",
    "```"
   ]
  },
  {
   "cell_type": "code",
   "execution_count": null,
   "metadata": {},
   "outputs": [],
   "source": []
  },
  {
   "cell_type": "markdown",
   "metadata": {},
   "source": [
    "You can also use the `+=` operator as a shorthand way of saying incrementing an existing value by another value. In the case of strings, you end up concatenating a string value to a preexisting on:\n",
    "\n",
    "```python\n",
    "\n",
    "str_4 = \"PROLOGUE: \"\n",
    "str_4 += str_3\n",
    "print(str_4)\n",
    "\n",
    "# vs the longer way\n",
    "str_5 = \"PROLUGUE: \"\n",
    "str_5 = str_5 + str_3\n",
    "print(str_5)\n",
    "```"
   ]
  },
  {
   "cell_type": "code",
   "execution_count": null,
   "metadata": {},
   "outputs": [],
   "source": []
  },
  {
   "cell_type": "markdown",
   "metadata": {},
   "source": [
    "In order to add non-string variables with strings, you must convert them to strings first using the builtin `str` function:\n",
    "> NOTE: This is not always the most elegant way to combine variables and string (we'll learn better ways in the **STRING SUBSTITUTION** section below)\n",
    "\n",
    "```python\n",
    "# notice the difference in the value printed for these two statements\n",
    "print(5)\n",
    "print(str(5))\n",
    "\n",
    "# now use str method to convert an integer to a string for concatenation\n",
    "print('Here is a string plus a number: ' + str(5))\n",
    "```"
   ]
  },
  {
   "cell_type": "code",
   "execution_count": null,
   "metadata": {},
   "outputs": [],
   "source": []
  },
  {
   "cell_type": "markdown",
   "metadata": {},
   "source": [
    "> ## TRY IT\n",
    "\n",
    "Print a string that says `\"my name is <name>, and I am <age> years old\"` using the `name` and `age` vars\n",
    "provided below:\n",
    "\n",
    "```python\n",
    "name = 'Jerermy'\n",
    "age = 4\n",
    "\n",
    "```\n",
    "\n",
    "<details>\n",
    "<summary>Solution</summary>\n",
    "\n",
    "```python\n",
    "name = 'Jerermy'\n",
    "age = 4\n",
    "\n",
    "print('my name is ' + name + ', and I am ' + str(age) + ' years old')\n",
    "```\n",
    "\n",
    "</details>"
   ]
  },
  {
   "cell_type": "code",
   "execution_count": null,
   "metadata": {},
   "outputs": [],
   "source": []
  },
  {
   "cell_type": "markdown",
   "metadata": {},
   "source": [
    "## splitting\n",
    "\n",
    "The `split` method allows a string can be split into a list of substrings. We have not talked abut list variables yet, but all you need to know for now is that they are a ordered set of comma-separated values inside of square brackets, ex. `['the', 'quick', 'brown', 'fox']`.\n",
    "\n",
    "\n",
    "`split` also has a default \"split-at\" value of `' '`. Let's try using the default value and other values:\n",
    "\n",
    "```python\n",
    "sentence = \"i AIm tO BeCoMe a PytHOn HaCkEr!\"\n",
    "```"
   ]
  },
  {
   "cell_type": "code",
   "execution_count": null,
   "metadata": {},
   "outputs": [],
   "source": []
  },
  {
   "cell_type": "markdown",
   "metadata": {},
   "source": [
    "```python\n",
    "\n",
    "# split at every space (default)\n",
    "sentence.split()\n",
    "```"
   ]
  },
  {
   "cell_type": "code",
   "execution_count": null,
   "metadata": {},
   "outputs": [],
   "source": []
  },
  {
   "cell_type": "markdown",
   "metadata": {},
   "source": [
    "```python\n",
    "# split at every 'a'\n",
    "sentence.split('a')\n",
    "```"
   ]
  },
  {
   "cell_type": "code",
   "execution_count": null,
   "metadata": {},
   "outputs": [],
   "source": []
  },
  {
   "cell_type": "markdown",
   "metadata": {},
   "source": [
    "A very easy way to split a string into a list of characters is using the `list` method, with the string as the argument:\n",
    "\n",
    "```python\n",
    "list(sentence)\n",
    "```\n",
    "\n",
    "> ## TRY IT\n",
    "\n",
    "Take the `weird_string` below, remove the trailing spaces on the left and the trailing repetitions of the word 'end' from the right, then split it into words:\n",
    "\n",
    "```python\n",
    "weird_string = '\\n\\t   well~isn\\'t~this~a~weird~string?endendend'\n",
    "```\n",
    "\n",
    "<details>\n",
    "<summary>Solution</summary>\n",
    "\n",
    "One of the key details in this solution the you can pass multi-character string to `rstrip` and it will strip using each character of the multi-character string!\n",
    "\n",
    "```python\n",
    "weird_string.lstrip().rstrip('end').split('~')\n",
    "```\n",
    "\n",
    "</details>"
   ]
  },
  {
   "cell_type": "code",
   "execution_count": null,
   "metadata": {},
   "outputs": [],
   "source": []
  },
  {
   "cell_type": "markdown",
   "metadata": {},
   "source": [
    "## slicing\n",
    "\n",
    "Python provides a way to get parts of a string by specifying start and stop positions. This is called **slicing**, and later we will see that this syntax works on lists as well.\n",
    "\n",
    "Slicing takes three positional arguments separated by ':' and placed within square brackets:\n",
    "\n",
    "- starting index (inclusive) _default value: `0`_\n",
    "- ending index (exclusive) _default value: the end of the string_\n",
    "- skipping - how many positions to move forward between each retrieved value, starting at starting index until the ending index is reached _default value: `1`_\n",
    "\n",
    "> NOTE: string indices, and counting in general in Python and other programming languages starts at `0`. For example, in this string `'hello'` the index of the letter `h` is `0`, not `1`!\n",
    "\n",
    "```python\n",
    "sentence[2:5]\n",
    "sentence[:5]\n",
    "sentence[5:]\n",
    "sentence[:]\n",
    "sentence[::2]\n",
    "```"
   ]
  },
  {
   "cell_type": "code",
   "execution_count": null,
   "metadata": {},
   "outputs": [],
   "source": []
  },
  {
   "cell_type": "markdown",
   "metadata": {},
   "source": [
    "> ## TRY IT\n",
    "\n",
    "Unscramble the message in `scrambled`.\n",
    "\n",
    "- hint 1: the first letter of the hidden message is `y`\n",
    "- hint 2: the message is embedded in scrambled at regular intervals\n",
    "\n",
    "```python\n",
    "scrambled = 'T{vSzXyJ^osatoCJuWZOurtwnDi cAIxMFhXkB\\\\caaoTpLVnvSqIppfe_TYDAc TrJrbamRuPvGPas[rGqWniqfduIahZ_YvVgHxWpVheXDYy_{dsIur{^ L[hQTrt`j^n`voaPKzpF IIOnWodrxpEcjehcThaTcbtoJZ`obH[aSZdEuVfT[eK]fptE TfcCs]t[RX]e\\\\hxcgtOairYORWcsNNekoB wqp^FmsHRkExGenyRlrGnUc\\\\pTrtgW{rHheUYOIUJnUREozScYjwH\\\\ae'\n",
    "```\n",
    "\n",
    "<details>\n",
    "<summary>Solution</summary>\n",
    "\n",
    "The first thing to do is start at the left and find the index of the first `y`, which is `6`, then try different skipping values until a meaningful message appears.\n",
    "\n",
    "```python\n",
    "scrambled[6::7]\n",
    "```\n",
    "\n",
    "\n",
    "</details>"
   ]
  },
  {
   "cell_type": "code",
   "execution_count": null,
   "metadata": {},
   "outputs": [],
   "source": []
  },
  {
   "cell_type": "markdown",
   "metadata": {},
   "source": [
    "# INTEGERS AND FLOATS\n",
    "\n",
    "Integer and Floats (floating point numbers) are some of the most commonly used numeric variable types. There are a few others but they are not used very often unless you are doing math with imaginary numbers, or math with very large or very small numbers (yes, a representation of infinity exists).\n",
    "\n",
    "Any number with a decimal in it will be determined as a float:\n",
    "- `3.14` is a float\n",
    "- so is `8.` and `1.000000` even though we might think of these as basically integer values\n",
    "\n",
    "## declaration\n",
    "\n",
    "```python\n",
    "my_int = 10\n",
    "my_float = 1.6\n",
    "type(my_int)\n",
    "type(my_float)\n",
    "```"
   ]
  },
  {
   "cell_type": "code",
   "execution_count": null,
   "metadata": {},
   "outputs": [],
   "source": []
  },
  {
   "cell_type": "markdown",
   "metadata": {},
   "source": [
    "## operators\n",
    "\n",
    "Since we are talking about numbers, we expect to have all of the standard mathematical operators used with numeric computation. Here are the basic math operators in Python:\n",
    "\n",
    "- `+`   addition\n",
    "- `-`   subtraction\n",
    "- `*`   multiplication\n",
    "- `/`   division\n",
    "- `**`  power\n",
    "- `%`   remainder on division (modulus)\n",
    "\n",
    "> NOTE: In **Python2**, when you divide integers by other integers, it will only return whole integer values (rounded down), but in **Python3** it will output a floating point result if a non-integer result is to be expected.\n",
    "\n",
    "```python\n",
    "my_int = 20\n",
    "\n",
    "my_int / 3\n",
    "my_int % 3\n",
    "```"
   ]
  },
  {
   "cell_type": "code",
   "execution_count": null,
   "metadata": {},
   "outputs": [],
   "source": []
  },
  {
   "cell_type": "markdown",
   "metadata": {},
   "source": [
    "## conversion\n",
    "\n",
    "You can easily convert Integers to Floats and vice versa.\n",
    "\n",
    "To convert an Integer to a Float, you simply need to have a decimal place somewhere in the calculation:\n",
    "\n",
    "```python\n",
    "# notice how dividing / multiplying by 1. does not change the actual value of my_int\n",
    "my_int = 256\n",
    "\n",
    "type(my_int / 1.)\n",
    "type(my_int * 1.)\n",
    "```"
   ]
  },
  {
   "cell_type": "code",
   "execution_count": null,
   "metadata": {},
   "outputs": [],
   "source": []
  },
  {
   "cell_type": "markdown",
   "metadata": {},
   "source": [
    "To convert a Float to an Integer, you can use the `int` builtin function:\n",
    "\n",
    "```python\n",
    "my_float = 20\n",
    "\n",
    "int(my_float)\n",
    "type(int(my_float))\n",
    "```"
   ]
  },
  {
   "cell_type": "code",
   "execution_count": null,
   "metadata": {},
   "outputs": [],
   "source": []
  },
  {
   "cell_type": "markdown",
   "metadata": {},
   "source": [
    "## incrementing in place\n",
    "\n",
    "You can combine the arithmetic operators with the assignment operator (`=`) to create an increment operator to modify numeric values in place. We saw this before when we were learning about string methods, as strings also support the `+=` operator, albeit for to a different purpose.\n",
    "\n",
    "Let's try out some increment operators:\n",
    "\n",
    "```python\n",
    "my_int = 24\n",
    "\n",
    "my_int += 2\n",
    "print(my_int)\n",
    "\n",
    "my_int -= 1\n",
    "print(my_int)\n",
    "\n",
    "my_int *= 6\n",
    "print(my_int)\n",
    "\n",
    "my_int /= 2\n",
    "print(my_int)\n",
    "```"
   ]
  },
  {
   "cell_type": "code",
   "execution_count": null,
   "metadata": {},
   "outputs": [],
   "source": []
  },
  {
   "cell_type": "markdown",
   "metadata": {},
   "source": [
    "## Rounding Methods for Floats\n",
    "\n",
    "You can round Floats to their nearest Integer value using methods from the builtin `math` module.\n",
    "\n",
    "- `math.ceil` - round up\n",
    "- `math.floor` - round down\n",
    "\n",
    "```python\n",
    "# you must import this module to access it's methods\n",
    "import math\n",
    "\n",
    "math.ceil(3.14157)\n",
    "math.floor(6.62607004)\n",
    "```"
   ]
  },
  {
   "cell_type": "code",
   "execution_count": null,
   "metadata": {},
   "outputs": [],
   "source": []
  },
  {
   "cell_type": "markdown",
   "metadata": {},
   "source": [
    "You can round floats to a set number of decimal places using the builtin `round` function.\n",
    "\n",
    "> NOTE: There are some significant issues with representing base 10 numbers as binary numbers, with binary being the representation that the computer actually stores. [These issues can show up in rounding amongst other places.](https://docs.python.org/2/tutorial/floatingpoint.html)\n",
    "\n",
    "```python\n",
    "# default number of decimal places is 0\n",
    "round(3.14157) \n",
    "\n",
    "round(3.14157, 3)\n",
    "```"
   ]
  },
  {
   "cell_type": "code",
   "execution_count": null,
   "metadata": {},
   "outputs": [],
   "source": []
  },
  {
   "cell_type": "code",
   "execution_count": null,
   "metadata": {},
   "outputs": [],
   "source": []
  },
  {
   "cell_type": "markdown",
   "metadata": {},
   "source": [
    "## Order of Operations\n",
    "\n",
    "Python arithmetic operators have a set order of operations that is similar but not exactly the same as what was taught in math class in school. You can use the parentheses operator `()` (not the same as the function call `()`) to set an order to avoid arbitrary miscalculations due to remembering the order or Python operations incorrectly.\n",
    "\n",
    "**HIGHEST PRECEDENCE**\n",
    "\n",
    "- `()`\n",
    "- `**`\n",
    "- `*`\n",
    "- `/`\n",
    "- `+`\n",
    "- `-`\n",
    "\n",
    "**LOWEST PRECEDENCE**\n",
    "\n",
    "> ## TRY IT\n",
    "\n",
    "Calculate the surface area of a cone using the set `height`, `radius` variable values and formula below.\n",
    "\n",
    "\n",
    "\n",
    "\n",
    "$A= \\pi r(r+\\sqrt{h^2 + r^2})$\n",
    "- hint: to perform a square root, you simply raise a value to the power 0.5 (`value ** 0.5`)\n",
    "\n",
    "```python\n",
    "height = 225\n",
    "radius = 200\n",
    "\n",
    "\n",
    "```\n",
    "\n",
    "<details>\n",
    "<summary>Solution</summary>\n",
    "\n",
    "```python\n",
    "\n",
    "\n",
    "print(area) \n",
    "```\n",
    "</details>"
   ]
  },
  {
   "cell_type": "code",
   "execution_count": null,
   "metadata": {},
   "outputs": [],
   "source": []
  },
  {
   "cell_type": "markdown",
   "metadata": {},
   "source": [
    "# LISTS\n",
    "\n",
    "Lists are collections of values in a set order, and the values are **mutable** ie changeable, addable and deleteable. Lists is Python are **heterogenous** meaning all of the List values do not have to be of the same type.\n",
    "\n",
    "Lists are declared as a collection or values separated by commas, between square brackets.\n",
    "\n",
    "## declaration\n",
    "\n",
    "A heterogeneous list:\n",
    "\n",
    "```python\n",
    "my_list = [\"string\", 20, True, 36.33, [0,1,2]]\n",
    "```"
   ]
  },
  {
   "cell_type": "code",
   "execution_count": null,
   "metadata": {},
   "outputs": [],
   "source": []
  },
  {
   "cell_type": "markdown",
   "metadata": {},
   "source": [
    "Two-dimensional homogeneous (all of same type) list:\n",
    "\n",
    "```python\n",
    "tic_tac_toe_pos = [[0,1,1],\n",
    "                   [1,2,0],\n",
    "                   [0,2,0]]\n",
    "# or\n",
    "tic_tac_toe_pos = [[0, 1, 1], [1, 2, 0], [0, 2, 0]]\n",
    "```"
   ]
  },
  {
   "cell_type": "code",
   "execution_count": null,
   "metadata": {},
   "outputs": [],
   "source": []
  },
  {
   "cell_type": "markdown",
   "metadata": {},
   "source": [
    "> ## TRY IT\n",
    "\n",
    "How would we declare a 3-dimensional list? What does that even mean? &#128579;\n",
    "\n",
    "Take the two 2-d lists below and put them together into a list called `list3`\n",
    "\n",
    "```python\n",
    "list1 = [['Irish Wolfhound', 'Great Dane'], ['Beagle', 'Collie'], ['Chihuahua', 'Toy Poodle']]\n",
    "list2 = [['Tiger', 'Lion'], ['Jaguar', 'Bobcat'], ['Ocelot', 'Maine Coon']]\n",
    "\n",
    "```\n",
    "\n",
    "<details>\n",
    "<summary>Solution</summary>\n",
    "\n",
    "```python\n",
    "list3 = [list1, list2]\n",
    "```\n",
    "\n",
    "Also a neat trick to print out this list or any python variable in a prettier format, is to use the `dumps` method from the `json` builtin module:\n",
    "\n",
    "```\n",
    "import json\n",
    "print(json.dumps(list3, indent=2))\n",
    "```\n",
    "\n",
    "</details>"
   ]
  },
  {
   "cell_type": "code",
   "execution_count": null,
   "metadata": {},
   "outputs": [],
   "source": []
  },
  {
   "cell_type": "markdown",
   "metadata": {},
   "source": [
    "## length\n",
    "\n",
    "Calculating the length from a list uses the same builtin function `len` as when we calculated string length:\n",
    "\n",
    "```python\n",
    "my_list = [\"string\", 20, True, 36.33, [0,1,2]]\n",
    "len(my_list)\n",
    "```"
   ]
  },
  {
   "cell_type": "code",
   "execution_count": null,
   "metadata": {},
   "outputs": [],
   "source": []
  },
  {
   "cell_type": "markdown",
   "metadata": {},
   "source": [
    "## indexing / slicing\n",
    "\n",
    "Since lists have a set element order, you can select elements by index, or slice parts of them, just like with strings:\n",
    "\n",
    "```python\n",
    "my_list[0]\n",
    "my_list[-2]\n",
    "my_list[0:1]\n",
    "my_list[::3]\n",
    "```"
   ]
  },
  {
   "cell_type": "code",
   "execution_count": null,
   "metadata": {},
   "outputs": [],
   "source": []
  },
  {
   "cell_type": "markdown",
   "metadata": {},
   "source": [
    "## indexing multidimensional lists\n",
    "\n",
    "Sometimes you end up with lists inside of lists. How do you index a value when it's in a list nested within another list? You simply index into the outer list, to select one of the inner lists, and then you index into that inner list!\n",
    "\n",
    "For example, consider this tic-tac-toe board again:\n",
    "\n",
    "```python\n",
    "tic_tac_toe_pos = [['a','b','c'],\n",
    "                   ['d','e','f'],\n",
    "                   ['g''h','i']]\n",
    "row0 = tic_tac_toe_pos[0]\n",
    "row0_col2 = tic_tac_toe_pos[0][2]\n",
    "```"
   ]
  },
  {
   "cell_type": "code",
   "execution_count": null,
   "metadata": {},
   "outputs": [],
   "source": []
  },
  {
   "cell_type": "markdown",
   "metadata": {},
   "source": [
    "## list ordering\n",
    "\n",
    "When working with lists, there are some methods and tricks to manipulate the ordering of a list efficiently.\n",
    "\n",
    "We can reverse a list using both the slice operator `[]` skip argument:\n",
    "\n",
    "```python\n",
    "my_list[::-1]\n",
    "```"
   ]
  },
  {
   "cell_type": "code",
   "execution_count": null,
   "metadata": {},
   "outputs": [],
   "source": []
  },
  {
   "cell_type": "markdown",
   "metadata": {},
   "source": [
    "Or with the list `reverse` method:\n",
    "\n",
    "```python\n",
    "my_list.reverse()\n",
    "```"
   ]
  },
  {
   "cell_type": "code",
   "execution_count": null,
   "metadata": {},
   "outputs": [],
   "source": []
  },
  {
   "cell_type": "markdown",
   "metadata": {},
   "source": [
    "Sorting a list can be done two ways:\n",
    "\n",
    "- list `sort` method: sort a list in-place\n",
    "  - sort the actual list itself\n",
    "- `sorted` builtin function: return a sorted copy of the list\n",
    "  - leave the original list alone\n",
    "\n",
    "\n",
    "Returning a new sorted list:\n",
    "\n",
    "```python\n",
    "out_of_order = [0,6,2,7,8,3,1]\n",
    "\n",
    "sorted(out_of_order)\n",
    "print(out_of_order)\n",
    "```"
   ]
  },
  {
   "cell_type": "code",
   "execution_count": null,
   "metadata": {},
   "outputs": [],
   "source": []
  },
  {
   "cell_type": "markdown",
   "metadata": {},
   "source": [
    "In-place list sorting:\n",
    "\n",
    "```python\n",
    "out_of_order = [0,6,2,7,8,3,1]\n",
    "\n",
    "out_of_order.sort()\n",
    "print(out_of_order)\n",
    "```"
   ]
  },
  {
   "cell_type": "code",
   "execution_count": null,
   "metadata": {},
   "outputs": [],
   "source": []
  },
  {
   "cell_type": "markdown",
   "metadata": {},
   "source": [
    "## adding / deleting / changing values\n",
    "\n",
    "We can add, delete, or change list values (otherwise known as mutating the list) using a variety of methods.\n",
    "\n",
    "### changing values\n",
    "\n",
    "We can use the index to change list values using the assignment `=` operator:\n",
    "\n",
    "```python\n",
    "print(my_list[3])\n",
    "my_list[3] = 'changed'\n",
    "print(my_list)\n",
    "```"
   ]
  },
  {
   "cell_type": "code",
   "execution_count": null,
   "metadata": {},
   "outputs": [],
   "source": []
  },
  {
   "cell_type": "markdown",
   "metadata": {},
   "source": [
    "### adding values\n",
    "\n",
    "We can add values at a certain index in a list using the `insert` list method:\n",
    "\n",
    "```python\n",
    "colors = ['Red', 'Orange', 'Yellow', 'Green', 'Blue', 'Indigo', 'Violet']\n",
    "colors.insert(1, 'Red-Orange')\n",
    "```"
   ]
  },
  {
   "cell_type": "code",
   "execution_count": null,
   "metadata": {},
   "outputs": [],
   "source": []
  },
  {
   "cell_type": "markdown",
   "metadata": {},
   "source": [
    "We can also add values to the end of the list using `append` and `extend` list methods\"\n",
    "\n",
    "- `append`: takes the value you pass it and adds it as the next index in the list\n",
    "- `extend`: takes the value you pass it as an list, and adds the contents of that list to the end of the list\n",
    "\n",
    "Let's use `append` to add a value to our `topics` list:\n",
    "\n",
    "```python\n",
    "topics = ['Statistics', 'Biology', 'Architecture', 'Microeconomics', 'Computational Complexity', 'Art', 'Composition']\n",
    "topics.append('English')\n",
    "```"
   ]
  },
  {
   "cell_type": "code",
   "execution_count": null,
   "metadata": {},
   "outputs": [],
   "source": []
  },
  {
   "cell_type": "markdown",
   "metadata": {},
   "source": [
    "Now let's use `extend` to add another two values to our `topics` list. Notice the difference in syntax for the arguments to each method:\n",
    "\n",
    "```python\n",
    "topics.extend(['French', 'Skiing'])\n",
    "```"
   ]
  },
  {
   "cell_type": "code",
   "execution_count": null,
   "metadata": {},
   "outputs": [],
   "source": []
  },
  {
   "cell_type": "markdown",
   "metadata": {},
   "source": [
    "### deleting values\n",
    "\n",
    "We can remove a list item both by it's value or by it's index using:\n",
    "\n",
    "- `remove` list method: remove element by value\n",
    "- `del` keyword: remove element by index\n",
    "- `pop` list method: remove element by index and return it\n",
    "  - this allows us to save the \"popped\" value in a variable if we choose\n",
    "\n",
    "You can remove a list element by it's value:\n",
    "\n",
    "```python\n",
    "colors.remove('Red-Orange')\n",
    "```"
   ]
  },
  {
   "cell_type": "code",
   "execution_count": null,
   "metadata": {},
   "outputs": [],
   "source": []
  },
  {
   "cell_type": "markdown",
   "metadata": {},
   "source": [
    "You can remove a list element by it's index:\n",
    "\n",
    "```python\n",
    "del colors[1]\n",
    "print(colors)\n",
    "```"
   ]
  },
  {
   "cell_type": "code",
   "execution_count": null,
   "metadata": {},
   "outputs": [],
   "source": []
  },
  {
   "cell_type": "markdown",
   "metadata": {},
   "source": [
    "And you can remove a list element by it's index and save the removed element:\n",
    "\n",
    "```python\n",
    "popped_color = colors.pop(-1)\n",
    "print(popped_color, colors)\n",
    "```"
   ]
  },
  {
   "cell_type": "code",
   "execution_count": null,
   "metadata": {},
   "outputs": [],
   "source": []
  },
  {
   "cell_type": "markdown",
   "metadata": {},
   "source": [
    "> ## TRY IT\n",
    "\n",
    "What happens when you run this? Why?\n",
    "\n",
    "```python\n",
    "topics = ['Statistics', 'Biology', 'Architecture', 'Microeconomics', 'Computational Complexity', 'Art', 'Composition']\n",
    "topics.extend('World History')\n",
    "```\n",
    "\n",
    "<details>\n",
    "<summary>Solution</summary>\n",
    "\n",
    "`extend` treats the argument (which is a string) as a list of characters, adding the contents of that list, letter\n",
    "by letter, to the end of `topics`.\n",
    "\n",
    "</details>"
   ]
  },
  {
   "cell_type": "code",
   "execution_count": null,
   "metadata": {},
   "outputs": [],
   "source": []
  },
  {
   "cell_type": "markdown",
   "metadata": {},
   "source": [
    "> ## TRY IT\n",
    "\n",
    "Replace the colors `'Red'` and `'Orange'` from `colors` with `'Red-Orange'` and add `'Ultraviolet'` and add `'X-Ray'` to the end of the list:\n",
    "\n",
    "```python\n",
    "colors = ['Red', 'Orange', 'Yellow', 'Green', 'Blue', 'Indigo', 'Violet']\n",
    "```\n",
    "\n",
    "<details>\n",
    "<summary>Solution</summary>\n",
    "\n",
    "```python\n",
    "colors.remove('Red')\n",
    "colors.remove('Orange')\n",
    "colors.insert(0, 'Red-Orange')\n",
    "colors.extend(['Ultraviolet', 'X-Ray'])\n",
    "```\n",
    "\n",
    "\n",
    "</details>"
   ]
  },
  {
   "cell_type": "code",
   "execution_count": null,
   "metadata": {},
   "outputs": [],
   "source": []
  },
  {
   "cell_type": "markdown",
   "metadata": {},
   "source": [
    "## unpacking\n",
    "\n",
    "You can get the values from a list and automatically declare multiple vars with those values simultaneously:\n",
    "\n",
    "```python\n",
    "topic1, topic2 =  topics[0:2]\n",
    "print(topic1, topic2)\n",
    "```"
   ]
  },
  {
   "cell_type": "code",
   "execution_count": null,
   "metadata": {},
   "outputs": [],
   "source": []
  },
  {
   "cell_type": "markdown",
   "metadata": {},
   "source": [
    "# TUPLES\n",
    "\n",
    "Tuples are just like lists except they are a fixed length and their values are immutable. This makes them more computationally efficient at scale than lists, since the mutability of lists requires more computational resources under the hood than an immutable tuple.\n",
    "\n",
    "\n",
    "## declaration\n",
    "\n",
    "Tuples are declared as comma separated values between parentheses.\n",
    "\n",
    "```python\n",
    "my_tuple = ('Yes', 'No', 'Maybe')\n",
    "```\n",
    "\n",
    "Once declared, a tuple cannot be changed:\n",
    "\n",
    "```python\n",
    "# none of these will work since tuples are immutable and fixed length\n",
    "my_tuple[0] = 'Oui'\n",
    "my_tuple.append('Sort of')\n",
    "```"
   ]
  },
  {
   "cell_type": "code",
   "execution_count": null,
   "metadata": {},
   "outputs": [],
   "source": []
  },
  {
   "cell_type": "markdown",
   "metadata": {},
   "source": [
    "We can see that tuples are more efficient than lists if we run the following to\n",
    "see how long declaring either type takes when run each 10 million times:\n",
    "\n",
    "```python\n",
    "# timeit allows us to time our code, allowing us to \n",
    "# optimize our code for speed!\n",
    "import timeit\n",
    "\n",
    "timeit.timeit(\"x=(1,2,3,4,5,6,7,8)\", number=10000000)\n",
    "timeit.timeit(\"x=[1,2,3,4,5,6,7,8]\", number=10000000)\n",
    "```"
   ]
  },
  {
   "cell_type": "code",
   "execution_count": null,
   "metadata": {},
   "outputs": [],
   "source": []
  },
  {
   "cell_type": "markdown",
   "metadata": {},
   "source": [
    "It turns out that tuples also take far less low-level commands to store in physical memory. Keep in mind, the low level assembly language commands are the commands the machine uses to store bits and bytes, so efficiency at the level of computation can have big ramifications for efficiency at higher, more complex levels of computation such as in Python:\n",
    "\n",
    "```python\n",
    "# see how many operations each requires when the commands are disassembled into assembly\n",
    "import dis\n",
    "def a():\n",
    "   x=(1,2,3,4,5,6,7,8)\n",
    "\n",
    "\n",
    "def b():\n",
    "   x=[1,2,3,4,5,6,7,8]\n",
    "\n",
    "\n",
    "dis.dis(a)\n",
    "dis.dis(b)\n",
    "```"
   ]
  },
  {
   "cell_type": "code",
   "execution_count": null,
   "metadata": {},
   "outputs": [],
   "source": []
  },
  {
   "cell_type": "markdown",
   "metadata": {},
   "source": [
    "# DICTS\n",
    "\n",
    "Dictionaries (dicts) store key-value pairs, where the key must be a string, and the value can be any variable type. Below vesion **Python3.6**, the keys are ambiguously ordered, unlike list indices, but in **Python3.6** and above, their order is based on the order they are put in the dictionary.\n",
    "\n",
    "## declaration\n",
    "\n",
    "Dicts use curly braces to enclose key value pairs, where the key is a quotation enclosed string, and the value is\n",
    "written however the type you'd like to assign to the key is normally written. Instead of using `=` to assign values,\n",
    "dicts use `:`, and the key value pairs are separated by commas.\n",
    "\n",
    "Here's an example of a simple dict:\n",
    "```python\n",
    "simple_dict = {\n",
    "    'food': 'sandwich',\n",
    "    'amount': 1,\n",
    "    'calories': 200,\n",
    "    'eaten': False\n",
    "}\n",
    "```"
   ]
  },
  {
   "cell_type": "code",
   "execution_count": null,
   "metadata": {},
   "outputs": [],
   "source": []
  },
  {
   "cell_type": "markdown",
   "metadata": {},
   "source": [
    "And here is a more complex dict, where some of the key's values are dicts themselves:\n",
    "\n",
    "```python\n",
    "my_dict = {\n",
    "   'first_name': 'Arjun',\n",
    "   'last_name': 'Ray',\n",
    "   'birthday': {\n",
    "       'year': 1984,\n",
    "       'month': 'September',\n",
    "       'day': 11\n",
    "   },\n",
    "   'fav_colors': [\n",
    "       'black',\n",
    "       'red'\n",
    "   ],\n",
    "   'alive': True,\n",
    "}\n",
    "```"
   ]
  },
  {
   "cell_type": "code",
   "execution_count": null,
   "metadata": {},
   "outputs": [],
   "source": []
  },
  {
   "cell_type": "markdown",
   "metadata": {},
   "source": [
    "## pretty printing a dict\n",
    "\n",
    "JSON (JavaScript Object Notation) is a nearly universal data format that uses key value pairs. Python dicts are\n",
    "interconvertible to this data type which is essentially a string that other language can parse back into data objects.\n",
    "Pythons `json` module methods also allow us to print out data structures in more readable ways\n",
    "\n",
    "Let's use `json.dumps` again to print out `my_dict` in a more readable way:\n",
    "\n",
    "```python\n",
    "# without json.dumps\n",
    "print(my_dict)\n",
    "\n",
    "# with json.dumps\n",
    "import json\n",
    "print(json.dumps(my_dict, indent=4))\n",
    "```"
   ]
  },
  {
   "cell_type": "code",
   "execution_count": null,
   "metadata": {},
   "outputs": [],
   "source": []
  },
  {
   "cell_type": "markdown",
   "metadata": {},
   "source": [
    "## indexing\n",
    "\n",
    "Dictionary values are selected by their key name:\n",
    "\n",
    "```python\n",
    "my_dict['first_name']\n",
    "my_dict['birthday']\n",
    "```\n",
    "\n",
    "Dictionaries can be nested inside of dictionaries, and we index into nested dicts the same general way we index into nested lists:\n",
    "\n",
    "```python\n",
    "my_dict['birthday']['year']\n",
    "```"
   ]
  },
  {
   "cell_type": "code",
   "execution_count": null,
   "metadata": {},
   "outputs": [],
   "source": []
  },
  {
   "cell_type": "markdown",
   "metadata": {},
   "source": [
    "## listing keys and values\n",
    "\n",
    "Dicts have methods for getting back a list of either their keys or values, called `keys` and `values`:\n",
    "\n",
    "```python\n",
    "my_dict.keys()\n",
    "my_dict.values()\n",
    "```\n",
    "\n",
    "> ## TRY IT\n",
    "\n",
    "Make a dictionary with a bunch of keys in non alphabetical order called `test`\n",
    "look at output from `test.keys()`. what do you notice?\n",
    "\n",
    "<details>\n",
    "<summary>Solution</summary>\n",
    "\n",
    "If you are on not on **Python3.6** or above, dictionaries have ambiguous key order. `test.keys()` likely outputs the keys in an order is\n",
    "not the order you declared them in. If you are on **Python3.6** or above, the dictionary key order resembles the order that the dictionary was declared in:\n",
    "\n",
    "```python\n",
    "test = {\n",
    "    'zebra': 3,\n",
    "    'halo': False,\n",
    "    'jersey': [34, 45, 545],\n",
    "    'magnet': 4.6\n",
    "}\n",
    "\n",
    "test.keys()\n",
    "```\n",
    "\n",
    "</details>"
   ]
  },
  {
   "cell_type": "code",
   "execution_count": null,
   "metadata": {},
   "outputs": [],
   "source": []
  },
  {
   "cell_type": "markdown",
   "metadata": {},
   "source": [
    "## adding / removing / changing key values\n",
    "\n",
    "You can change a pre-existing key value the same way you add a new key, using the key string within square brackets and the assignment operator to assign a new value.\n",
    "\n",
    "### adding / changing\n",
    "\n",
    "Changing a pre-existing key value:\n",
    "\n",
    "```python\n",
    "my_dict['alive'] = False\n",
    "```"
   ]
  },
  {
   "cell_type": "code",
   "execution_count": null,
   "metadata": {},
   "outputs": [],
   "source": []
  },
  {
   "cell_type": "markdown",
   "metadata": {},
   "source": [
    "Adding a new key with a new value:\n",
    "\n",
    "```python\n",
    "my_dict['occupation'] = 'instructor'\n",
    "```"
   ]
  },
  {
   "cell_type": "code",
   "execution_count": null,
   "metadata": {},
   "outputs": [],
   "source": []
  },
  {
   "cell_type": "markdown",
   "metadata": {},
   "source": [
    "### removing\n",
    "\n",
    "Two methods are available for removing key-value pairs from a Dict:\n",
    "\n",
    "- `del` operator: remove element by key\n",
    "- `pop` list method: remove element by key and return it's value\n",
    "\n",
    "You can remove a key-value pair using `del`:\n",
    "\n",
    "```python\n",
    "del my_dict['alive']\n",
    "print(my_dict)\n",
    "```"
   ]
  },
  {
   "cell_type": "code",
   "execution_count": null,
   "metadata": {},
   "outputs": [],
   "source": []
  },
  {
   "cell_type": "markdown",
   "metadata": {},
   "source": [
    "You can remove a key-value pair and save the value using `pop`:\n",
    "\n",
    "```python\n",
    "occupation = my_dict.pop('occupation')\n",
    "print(occupation, my_dict)\n",
    "```"
   ]
  },
  {
   "cell_type": "code",
   "execution_count": null,
   "metadata": {},
   "outputs": [],
   "source": []
  },
  {
   "cell_type": "markdown",
   "metadata": {},
   "source": [
    "> ## TRY IT\n",
    "\n",
    "Rename the `alive` key in `my_dict` to `hungry`:\n",
    "\n",
    "- hint: You aren't actually renaming the key. Think about the add / remove methods above\n",
    "\n",
    "<details>\n",
    "<summary>Solution</summary>\n",
    "\n",
    "Remember that `pop` returns the value for the key-value pair that was removed, so we can grab out the value of `'alive'` while removing the key and immediately assign it to a new `'hungry'` key.\n",
    "\n",
    "```python\n",
    "my_dict['hungry'] = my_dict.pop('alive')\n",
    "```\n",
    "\n",
    "</details>"
   ]
  },
  {
   "cell_type": "code",
   "execution_count": null,
   "metadata": {},
   "outputs": [],
   "source": []
  },
  {
   "cell_type": "markdown",
   "metadata": {},
   "source": [
    "## json to dict\n",
    "\n",
    "The JSON data format is used for all kinds of language-agnostic things these days. For example, JSON is the main data format that is used for sending and receiving data over the internet. In Python, you can easily load JSON data directly into a python dictionary as the two data structures are interconvertible.\n",
    "\n",
    "Let's get a JSON string loaded into Python:\n",
    "\n",
    "> NOTE: Notice how this is actually not a Dict, even though it has the same \"shape\"\n",
    "it is in fact a long multi-line string with very strict (JSON) formatting.\n",
    "\n",
    "```python\n",
    "json_string = \\\n",
    "'''{\n",
    "   \"id\": \"0001\",\n",
    "   \"type\": \"donut\",\n",
    "   \"name\": \"Cake\",\n",
    "   \"ppu\": 0.55,\n",
    "   \"batters\":\n",
    "       {\n",
    "           \"batter\":\n",
    "               [\n",
    "                   { \"id\": \"1001\", \"type\": \"Regular\" },\n",
    "                   { \"id\": \"1002\", \"type\": \"Chocolate\" },\n",
    "                   { \"id\": \"1003\", \"type\": \"Blueberry\" },\n",
    "                   { \"id\": \"1004\", \"type\": \"Devil's Food\" }\n",
    "               ]\n",
    "       },\n",
    "   \"topping\":\n",
    "       [\n",
    "           { \"id\": \"5001\", \"type\": \"None\" },\n",
    "           { \"id\": \"5002\", \"type\": \"Glazed\" },\n",
    "           { \"id\": \"5005\", \"type\": \"Sugar\" },\n",
    "           { \"id\": \"5007\", \"type\": \"Powdered Sugar\" },\n",
    "           { \"id\": \"5006\", \"type\": \"Chocolate with Sprinkles\" },\n",
    "           { \"id\": \"5003\", \"type\": \"Chocolate\" },\n",
    "           { \"id\": \"5004\", \"type\": \"Maple\" }\n",
    "       ]\n",
    "}'''\n",
    "```"
   ]
  },
  {
   "cell_type": "code",
   "execution_count": null,
   "metadata": {},
   "outputs": [],
   "source": []
  },
  {
   "cell_type": "markdown",
   "metadata": {},
   "source": [
    "Now we can convert it to a Dict using the `loads` method from the aforementioned Python `json` module:\n",
    "\n",
    "```python\n",
    "import json\n",
    "cake_dict = json.loads(json_string)\n",
    "\n",
    "```"
   ]
  },
  {
   "cell_type": "code",
   "execution_count": null,
   "metadata": {},
   "outputs": [],
   "source": []
  },
  {
   "cell_type": "markdown",
   "metadata": {},
   "source": [
    "And now we can access data inside `cake_dict` just like we would any other Python Dict!\n",
    "\n",
    "```python\n",
    "print (cake_dict['batters']['batter'][0])\n",
    "```"
   ]
  },
  {
   "cell_type": "code",
   "execution_count": null,
   "metadata": {},
   "outputs": [],
   "source": []
  },
  {
   "cell_type": "markdown",
   "metadata": {},
   "source": [
    "> ## TRY IT\n",
    "\n",
    "Pretty print the `topping` key list within `cake_dict` with an indent of `5` using `json.dumps`:\n",
    "\n",
    "```python\n",
    "```\n",
    "\n",
    "<details>\n",
    "<summary>Solution</summary>\n",
    "\n",
    "```python\n",
    "print(json.dumps(cake_dict['topping'], indent=5))\n",
    "```\n",
    "\n",
    "</details>"
   ]
  },
  {
   "cell_type": "code",
   "execution_count": null,
   "metadata": {},
   "outputs": [],
   "source": []
  },
  {
   "cell_type": "markdown",
   "metadata": {},
   "source": [
    "# BOOLEANS\n",
    "\n",
    "Booleans are simply `True` and `False` values and are an extremely important and powerful part of any programming language's logic. When you use a logical operator for a set of expressions, it will return a boolean value of `True` or `False`. For example, the expression `5 > 3` resolves to (basically turns into) `True`.\n",
    "\n",
    "## logical operators\n",
    "\n",
    "Python provides several standard operators for performing comparative and associative logic:\n",
    "\n",
    "- `==` :          equal in value\n",
    "- `is` :          identity\n",
    "- `!=` :           not equal in value\n",
    "- `<` :           less than\n",
    "- `>` :           greater than\n",
    "- `<=` :          less than or equal to\n",
    "- `>=` :          greater than or equal to\n",
    "- `and` :         and operator\n",
    "- `or` :          or operator\n",
    "- `not` :         inverse modifier\n",
    "- `in` :          membership operator\n",
    "\n",
    "Logical operators always compare **2** values against eachother and return a Boolean:\n",
    "\n",
    "```python\n",
    "5 < 6\n",
    "\n",
    "3 in [3, 4, 6]\n",
    "```"
   ]
  },
  {
   "cell_type": "code",
   "execution_count": null,
   "metadata": {},
   "outputs": [],
   "source": []
  },
  {
   "cell_type": "markdown",
   "metadata": {},
   "source": [
    "## equality vs identity\n",
    "\n",
    "Equality `==` compares the values of the two statements, whereas identity `is` compares whether or not the two\n",
    "statements refer to the same object:\n",
    "\n",
    "```python\n",
    "a = [1, 2, 3]\n",
    "```"
   ]
  },
  {
   "cell_type": "code",
   "execution_count": null,
   "metadata": {},
   "outputs": [],
   "source": []
  },
  {
   "cell_type": "markdown",
   "metadata": {},
   "source": [
    "Assignment does not make a copy of `a`, but actually sets `b` to point to `a`:\n",
    "\n",
    "```python\n",
    "b = a\n",
    "```"
   ]
  },
  {
   "cell_type": "code",
   "execution_count": null,
   "metadata": {},
   "outputs": [],
   "source": []
  },
  {
   "cell_type": "markdown",
   "metadata": {},
   "source": [
    "Both of these statements will be `True`:\n",
    "\n",
    "```python\n",
    "a == b\n",
    "a is b\n",
    "```"
   ]
  },
  {
   "cell_type": "code",
   "execution_count": null,
   "metadata": {},
   "outputs": [],
   "source": []
  },
  {
   "cell_type": "markdown",
   "metadata": {},
   "source": [
    "You can see that `a` and `b` are actually the same list as modifications of `a` modify `b` as well:\n",
    "\n",
    "```python\n",
    "a.insert(0, 'first')\n",
    "print(a, b)\n",
    "```"
   ]
  },
  {
   "cell_type": "code",
   "execution_count": null,
   "metadata": {},
   "outputs": [],
   "source": []
  },
  {
   "cell_type": "markdown",
   "metadata": {},
   "source": [
    "To make a copy of a list, you can use the `list` method with a list as it's argument:\n",
    "\n",
    "```python\n",
    "c = list(a)\n",
    "```"
   ]
  },
  {
   "cell_type": "code",
   "execution_count": null,
   "metadata": {},
   "outputs": [],
   "source": []
  },
  {
   "cell_type": "markdown",
   "metadata": {},
   "source": [
    "While the `a` and `c` have equality, they don't share identity:\n",
    "\n",
    "```python\n",
    "c == a\n",
    "c is a\n",
    "```"
   ]
  },
  {
   "cell_type": "code",
   "execution_count": null,
   "metadata": {},
   "outputs": [],
   "source": []
  },
  {
   "cell_type": "markdown",
   "metadata": {},
   "source": [
    "This point is further emphasized by the fact that modifications of `a` are not reflected in `c`:\n",
    "\n",
    "```python\n",
    "a.remove('first')\n",
    "print(a, c)\n",
    "```"
   ]
  },
  {
   "cell_type": "code",
   "execution_count": null,
   "metadata": {},
   "outputs": [],
   "source": []
  },
  {
   "cell_type": "markdown",
   "metadata": {},
   "source": [
    "> ## TRY IT\n",
    "\n",
    "Make the following comparisons:\n",
    "\n",
    "1. 4 is greater than 5\n",
    "2. 5 is not equal to 4\n",
    "3. 5 is greater than or equal to 4 and 4 is greater than or equal to 6\n",
    "4. list `a` shares identity with list `b` or list `a` shares identity with list `c`\n",
    "\n",
    "```python\n",
    "\n",
    "```\n",
    "\n",
    "<details>\n",
    "<summary>Solution</summary>\n",
    "\n",
    "1\n",
    "```python\n",
    "4 > 5\n",
    "```\n",
    "\n",
    "2\n",
    "```python\n",
    "5 != 4\n",
    "# or\n",
    "not 5 == 4\n",
    "```\n",
    "\n",
    "3\n",
    "```python\n",
    "5 >= 4 and 4 >= 6\n",
    "```\n",
    "\n",
    "4\n",
    "```python\n",
    "a is b or a is c\n",
    "```\n",
    "\n",
    "</details>"
   ]
  },
  {
   "cell_type": "code",
   "execution_count": null,
   "metadata": {},
   "outputs": [],
   "source": []
  },
  {
   "cell_type": "markdown",
   "metadata": {},
   "source": [
    "## logical combinations\n",
    "\n",
    "Statements joined with `and` are all required to be `True` to return `True`, otherwise they return `False`. One way to think of it is that one bad `False` spoils the bunch.\n",
    "\n",
    "Let's see what happens when we combine Boolean values with `and` associative logic:\n",
    "\n",
    "```python\n",
    "True and True\n",
    "True and False\n",
    "False and False\n",
    "True and True and True and True and False\n",
    "```"
   ]
  },
  {
   "cell_type": "code",
   "execution_count": null,
   "metadata": {},
   "outputs": [],
   "source": []
  },
  {
   "cell_type": "markdown",
   "metadata": {},
   "source": [
    "Statements joined with `or` require any of the statements to be `True` to return `True`, otherwise they return `False`.\n",
    "\n",
    "Let's see what happens when we combine Boolean values with `or` associative logic:\n",
    "\n",
    "```python\n",
    "True or False\n",
    "False or False\n",
    "False or False or False or False or True\n",
    "```"
   ]
  },
  {
   "cell_type": "code",
   "execution_count": null,
   "metadata": {},
   "outputs": [],
   "source": []
  },
  {
   "cell_type": "markdown",
   "metadata": {},
   "source": [
    "So what happens if you combine `and` and `or`? what if you use `not` as well?\n",
    "The following precedence is followed for logical operators:\n",
    "\n",
    "HIGHEST PRECEDENCE\n",
    "\n",
    "- `not`\n",
    "- `and`\n",
    "- `or`\n",
    "\n",
    "LOWEST PRECEDENCE\n",
    "\n",
    "[more info on logical operator precedence](https://docs.python.org/2/reference/expressions.html#operator-precedence)\n",
    "\n",
    "Let's test out some of these combinations, using parentheses to emphasize the natural order or precedence for the logic:\n",
    "\n",
    "```python\n",
    "True and False or False\n",
    "\n",
    "# equivalent to\n",
    "(True and False) or False\n",
    "```"
   ]
  },
  {
   "cell_type": "code",
   "execution_count": null,
   "metadata": {},
   "outputs": [],
   "source": []
  },
  {
   "cell_type": "markdown",
   "metadata": {},
   "source": [
    "```python\n",
    "not True and False or False\n",
    "\n",
    "# equivalent to\n",
    "(not (True and False)) or False\n",
    "```"
   ]
  },
  {
   "cell_type": "code",
   "execution_count": null,
   "metadata": {},
   "outputs": [],
   "source": []
  },
  {
   "cell_type": "markdown",
   "metadata": {},
   "source": [
    "## in operator\n",
    "\n",
    "The `in` operator can be used to check if a value exists within a collection variable (such as a dict, list, tuple, and it works with strings as well).\n",
    "\n",
    "```python\n",
    "'hello' in 'hello world'\n",
    "5 in [1, 2, 3, 4, 5]\n",
    "'5' in [1, 2, 3, 4, 5]\n",
    "'5' not in [1, 2, 3, 4, 5]\n",
    "'my_key' in {'first_key': 0, 'my_key': 1}\n",
    "```"
   ]
  },
  {
   "cell_type": "code",
   "execution_count": null,
   "metadata": {},
   "outputs": [],
   "source": []
  },
  {
   "cell_type": "markdown",
   "metadata": {},
   "source": [
    "# CONTROL FLOW\n",
    "\n",
    "Control flow is a way of breaking up the flow of execution in a program based on logical conditions.\n",
    "\n",
    "The main control flow statements are `for`, `if`/`elif`/`else`, and `while`. \n",
    "\n",
    "## if statements\n",
    "\n",
    "`if` statements allow us to evaluate whether a logic statement is `True`, and if so, it will run the indented code block, ie:\n",
    "\n",
    "```python\n",
    "if some_logic_statement_is_True:\n",
    "   # do something\n",
    "```\n",
    "\n",
    "Notice how one of these blocks will **always** run because `5 > 4` will always be `True`, and one of these blocks will **never** run becasue `5 < 4` will always be `False`:\n",
    "\n",
    "```python\n",
    "if 5 > 4:\n",
    "   print('5 is greater than 4')\n",
    "   print('great')\n",
    "\n",
    "if 5 < 4:\n",
    "   print('5 is less than 4')\n",
    "```"
   ]
  },
  {
   "cell_type": "code",
   "execution_count": null,
   "metadata": {},
   "outputs": [],
   "source": []
  },
  {
   "cell_type": "markdown",
   "metadata": {},
   "source": [
    "> ## TRY IT\n",
    "\n",
    "Try running the statement below. Why doesn't it work?\n",
    "\n",
    "```python\n",
    "if 5 > 4:\n",
    "print('5 is greater than 4')\n",
    "```\n",
    "\n",
    "<details>\n",
    "<summary>Solution</summary>\n",
    "\n",
    "Conditional blocks such as `if` statements require the block below the condition to be indented.\n",
    "\n",
    "</details>"
   ]
  },
  {
   "cell_type": "code",
   "execution_count": null,
   "metadata": {},
   "outputs": [],
   "source": []
  },
  {
   "cell_type": "markdown",
   "metadata": {},
   "source": [
    "You can chain multiple conditions using `elif` (else if) statements after an `if`. the program will try each condition\n",
    "until it reaches one that evaluated to `True`, and only run the indented code block for that condition. If it passes\n",
    "through all `if` and `elif` conditions without a True evaluation, it will run the indented code block within the\n",
    "`else` statement, if it is provided.\n",
    "\n",
    "```python\n",
    "my_val = 20\n",
    "if my_val > 10:\n",
    "   print('greater than 10')\n",
    "elif my_val < 0:\n",
    "   print('is negative')\n",
    "elif my_val == 0:\n",
    "   print('is 0')\n",
    "else:\n",
    "   print('neither greater than 10 nor negative')\n",
    "```"
   ]
  },
  {
   "cell_type": "code",
   "execution_count": null,
   "metadata": {},
   "outputs": [],
   "source": []
  },
  {
   "cell_type": "markdown",
   "metadata": {},
   "source": [
    "> ## TRY IT\n",
    "\n",
    "Write an `if`/`elif`/`else` block that will check if a string var called `my_val2`:\n",
    "\n",
    "1. if it contains the letter `'a'`, print `'contains the letter a'`\n",
    "2. or else if it is greater than `5` characters long, print `'is greater than 5 characters long'`\n",
    "3. or else --> print `'oh well'`\n",
    "\n",
    "```python\n",
    "my_val2 = 'hello my name is'\n",
    "\n",
    "```\n",
    "\n",
    "<details>\n",
    "<summary>Solution</summary>\n",
    "\n",
    "One important thing to notice is that only one of these blocks will ever run, so even though `my_val2` both contains the letter `'a'` and is longer than `5`, only the first condition will run:\n",
    "\n",
    "```python\n",
    "my_val2 = 'hello my name is'\n",
    "\n",
    "if 'a' in my_val2:\n",
    "   print('contains the letter a')\n",
    "elif len(my_val2) > 5:\n",
    "   print('is greater than 5 characters long')\n",
    "else:\n",
    "   print('oh well')\n",
    "```\n",
    "\n",
    "</details>"
   ]
  },
  {
   "cell_type": "code",
   "execution_count": null,
   "metadata": {},
   "outputs": [],
   "source": []
  },
  {
   "cell_type": "markdown",
   "metadata": {},
   "source": [
    "> ## TRY IT\n",
    "\n",
    "Reverse the order of the first two conditions in the above solution. What happens? Why?\n",
    "\n",
    "```python\n",
    "\n",
    "```\n",
    "\n",
    "<details>\n",
    "<summary>Solution</summary>\n",
    "\n",
    "Now only the new first condition will run, so we'll never see `'contains the letter a'` unless the first condition is false for this variable:\n",
    "\n",
    "```python\n",
    "if len(my_val2) > 5:\n",
    "   print('is greater than 5 characters long')\n",
    "elif 'a' in my_val2:\n",
    "   print('contains the letter a')\n",
    "else:\n",
    "   print('oh well)\n",
    "```\n",
    "\n",
    "If we wanted both of the first condition blocks to potentially run, we could write two `if` blocks such as:\n",
    "\n",
    "```python\n",
    "if len(my_val2) > 5:\n",
    "   print('is greater than 5 characters long')\n",
    "\n",
    "# it's good code style to put a space between your `if` blocks\n",
    "if 'a' in my_val2:\n",
    "   print('contains the letter a')\n",
    "```\n",
    "\n",
    "</details>"
   ]
  },
  {
   "cell_type": "code",
   "execution_count": null,
   "metadata": {},
   "outputs": [],
   "source": []
  },
  {
   "cell_type": "markdown",
   "metadata": {},
   "source": [
    "## for\n",
    "\n",
    "For loops are used when you have a known number of loops you want to perform. You can use for loops to iterate through all of the elements in an iterable variable type, types that include lists, dicts, strings, and ranges.\n",
    "\n",
    "> NOTE: A range is actually just two values, a **start**, and a **stop** value within a range, such as `4` and `10`. When the range is actually declared, all you write is:\n",
    "> ```python\n",
    "> my_range = range(<start>, <stop>)\n",
    "> ```\n",
    "> When the range is actually used, Python automatically expands the range into a list, starting at the **start** value (inclusive) and ending _before_ the **stop** value (exclusive) so that `my_range` would turn into `[4,5,6,7,8,9]` when it was then used for something after it's declaration. Storing ranges in this way takes up less memory as the ranges are only expanded into list if and when they are used, as opposed to lists which take up their full amount of memory right when they are declared whether or not they end up being used.\n",
    "\n",
    "For loops always start with a `for` keyword, and then there is an expression that describes how you want to handle receiving each element in your iteration within the block of the `for` loop then a `:`. Notice below that the block is simply the indented region immediately following the `for` line, all of whose lines will be run for each iteration of the loop. The block will have each element available within it for each iteration, named as whatever you called it in the expression.\n",
    "\n",
    "Let's look at an example of how to use `for` loops on a list. Out iteration expression is `item in our_list` which tells the for loop that you want to iterate through elements in `our_list` and within the block of the `for` loop, have access to that element as the local variable (only available inside the block) called `item`. See how this works:\n",
    "\n",
    "```python\n",
    "our_list = ['hi', 'there', 'how', 'are', 'you?']\n",
    "for item in our_list:\n",
    "   print(item)\n",
    "```"
   ]
  },
  {
   "cell_type": "code",
   "execution_count": null,
   "metadata": {},
   "outputs": [],
   "source": []
  },
  {
   "cell_type": "markdown",
   "metadata": {},
   "source": [
    "You can use for loops to iterate through values in a range:\n",
    "\n",
    "```python\n",
    "for n in range(0,200):\n",
    "   print(n)\n",
    "```"
   ]
  },
  {
   "cell_type": "code",
   "execution_count": null,
   "metadata": {},
   "outputs": [],
   "source": []
  },
  {
   "cell_type": "markdown",
   "metadata": {},
   "source": [
    "Sometimes you also want to get the index of the element you are on during iteration, not just the value. For that, you can use the `enumerate` built in function which turns an iterable variable into a list of `(<index>, <value>)` pairs, allowing you to capture them both as named local variable in the `for` block and use them:\n",
    "\n",
    "```python\n",
    "for index, item in enumerate(our_list):\n",
    "   print('index of item: {}\\nvalue of item: {}\\n'.format(index, item))\n",
    "```"
   ]
  },
  {
   "cell_type": "code",
   "execution_count": null,
   "metadata": {},
   "outputs": [],
   "source": []
  },
  {
   "cell_type": "markdown",
   "metadata": {},
   "source": [
    "> ## TRY IT\n",
    "\n",
    "How might we iterate through the first `4` items in a list of length `8` created with the following code?\n",
    "```python\n",
    "eight_list = range(0,8)\n",
    "``` \n",
    "\n",
    "<details>\n",
    "<summary>Solution</summary>\n",
    "\n",
    "You could use a range and be clever by slicing the range on usage:\n",
    "\n",
    "```python\n",
    "for val in eight_list[0:4]:\n",
    "    print(val)\n",
    "```\n",
    "\n",
    "Or, you could use the `break` keyword which allows you to break out of a for loop at any time:\n",
    "\n",
    "```python\n",
    "my_list = ['hello', 'how', 'are', 'you', 'doing', 'today?', 'I\\'m', 'well']\n",
    "for idx, val in enumerate(my_list):\n",
    "    if idx > 3:\n",
    "        break\n",
    "    else:\n",
    "        print(val)\n",
    "```\n",
    "\n",
    "</details>"
   ]
  },
  {
   "cell_type": "code",
   "execution_count": null,
   "metadata": {},
   "outputs": [],
   "source": []
  },
  {
   "cell_type": "markdown",
   "metadata": {},
   "source": [
    "It is possible to iterate through the keys in a dict using the `in` operator:\n",
    "\n",
    "```python\n",
    "our_dict = {\n",
    "   'robots': 0,\n",
    "   'ninjas': 1\n",
    "}\n",
    "\n",
    "# iterate through keys in dict\n",
    "for key in our_dict:\n",
    "   print(key)\n",
    "```"
   ]
  },
  {
   "cell_type": "code",
   "execution_count": null,
   "metadata": {},
   "outputs": [],
   "source": []
  },
  {
   "cell_type": "markdown",
   "metadata": {},
   "source": [
    "You can iterate through the keys and values in a dict by using the dict method `iteritems()` which returns a list of `(<key>, <value>)` pairs from a list, allowing you to iterate through them, very much like `enumerate` for lists:\n",
    "\n",
    "```python\n",
    "# iterate through keys and values in dict\n",
    "for key, value in our_dict.iteritems():\n",
    "   print('key: {}\\nvalue: {}\\n'.format(key, value))\n",
    "```"
   ]
  },
  {
   "cell_type": "code",
   "execution_count": null,
   "metadata": {},
   "outputs": [],
   "source": []
  },
  {
   "cell_type": "markdown",
   "metadata": {},
   "source": [
    "You may have notices that string act pretty much like lists, and indeed, you can iterate through a string's characters:\n",
    "\n",
    "```python\n",
    "# iterate through string\n",
    "for char in 'hello':\n",
    "   print char\n",
    "```"
   ]
  },
  {
   "cell_type": "code",
   "execution_count": null,
   "metadata": {},
   "outputs": [],
   "source": []
  },
  {
   "cell_type": "markdown",
   "metadata": {},
   "source": [
    "Importantly, you can always break out a `for` loop by using the `break` keyword:\n",
    "\n",
    "```python\n",
    "for i in range(0, 10000000):\n",
    "   print(i)\n",
    "   if i == 100:\n",
    "       break\n",
    "```"
   ]
  },
  {
   "cell_type": "code",
   "execution_count": null,
   "metadata": {},
   "outputs": [],
   "source": []
  },
  {
   "cell_type": "markdown",
   "metadata": {},
   "source": [
    "Similarly, you can skip particular iterations by using the `continue` keyword, which forces the `for` loop to go to the next iteration without running any more lines of code in the current iteration:\n",
    "\n",
    "```python\n",
    "for i in range(0,10):\n",
    "   if i % 2 == 0:\n",
    "       continue\n",
    "   print(i)\n",
    "```"
   ]
  },
  {
   "cell_type": "code",
   "execution_count": null,
   "metadata": {},
   "outputs": [],
   "source": []
  },
  {
   "cell_type": "markdown",
   "metadata": {},
   "source": [
    "## while\n",
    "\n",
    "`while` loops should be used when you want to wait for some process that takes an unknown amount of time to finish. If you know how many loop iterations you will have, such as in the case of iterating over a enumerable variable, consider using a `for` loop instead. `while` loops keep looping as long as the condition following the `while` statement remains `True`. `while` loops can also be ended using the `break` keyword and loops can be continued using the `continue` keyword.\n",
    "\n",
    "Let's create a process that takes a random amount of time to finish:\n",
    "\n",
    "```python\n",
    "import time\n",
    "import random\n",
    "\n",
    "milliseconds = 0\n",
    "# here is the random number of milliseconds this process will run for\n",
    "# between 20 and 200 milliseconds\n",
    "max_milliseconds = random.randint(20, 200)\n",
    "\n",
    "while milliseconds <= max_milliseconds:\n",
    "   print('{} milliseconds elapsed'.format(milliseconds))\n",
    "\n",
    "   # this method will pause the the program for 1 millisecond\n",
    "   time.sleep(0.1)\n",
    "   milliseconds += 1\n",
    "```"
   ]
  },
  {
   "cell_type": "code",
   "execution_count": null,
   "metadata": {},
   "outputs": [],
   "source": []
  },
  {
   "cell_type": "markdown",
   "metadata": {},
   "source": [
    "# FUNCTIONS\n",
    "\n",
    "Functions define blocks of code which take in arguments, perform some logical operations on those argument and then return something. To declare a function, we use the `def` keyword followed by the name of the function, then a `()` containing comma separated parameters (sometimes none), then `:`.\n",
    "\n",
    "Parameters are all of the variables the function needs to execute as defined between the `()`. When a function is run, the actual values passed in for each parameter name are called the arguments.\n",
    "\n",
    "As we have seen, functions must be called using '<function name>(<function arguments>)' in order to run it. A function block execution finishes when it reaches the end of it's indented code block, or it hits a `return` statement, which ends function execution and returns a value. Functions that reach their end without hitting a `return` keyword automatically return the `undefined` value.\n",
    "\n",
    "## declaration\n",
    "\n",
    "A `return` keyword can be useful to return data to the line where a function is run from, allowing us to save the value in a variable. In the example below, `my_func` is declared using `def my_func(name, age):`, and then it returns the value of a template string which has interpolated the parameter values for `name` and `age`. When the function is run using the argument `\"Arjun\"` for the `name` parameter and `33` for the `age` parameter, we save the returned string as `info_str`, allowing us to print it:\n",
    "\n",
    "```python\n",
    "def my_func(name, age):\n",
    "   return 'my name is {} and I am {} years old'.format(name, age)\n",
    "\n",
    "info_str = my_func('Arjun', 33)\n",
    "print(info_str)\n",
    "```"
   ]
  },
  {
   "cell_type": "code",
   "execution_count": null,
   "metadata": {},
   "outputs": [],
   "source": []
  },
  {
   "cell_type": "markdown",
   "metadata": {},
   "source": [
    "## parameters\n",
    "\n",
    "You can set default parameters for functions, which is the value they will take on if no argument is passed for that parameter.\n",
    "\n",
    "> NOTE: Parameters with default values **must** always come after arguments that do not have default values.\n",
    "\n",
    "```python\n",
    "def say_it(exclamation, name='You'):\n",
    "   print('{} {}!'.format(exclamation ,name.upper())\n",
    "\n",
    "say_it('Wow')\n",
    "say_it('Oh my god', 'Becky')\n",
    "```"
   ]
  },
  {
   "cell_type": "code",
   "execution_count": null,
   "metadata": {},
   "outputs": [],
   "source": []
  },
  {
   "cell_type": "markdown",
   "metadata": {},
   "source": [
    "> ## TRY IT\n",
    "\n",
    "Write a function called `print_if_key_in_list` that takes a `prefix` argument with a default value of `'\\t'`, a list\n",
    "argument as `*args` and a dict arguments as `**kwargs`. For every key in `kwargs`, if the key is also in `args`, print\n",
    "the `prefix` and the key value:\n",
    "\n",
    "```python\n",
    "\n",
    "```\n",
    "\n",
    "<details>\n",
    "<summary>Solution</summary>\n",
    "\n",
    "Remember that list params have to be defined after positional params, and dict params after that!\n",
    "\n",
    "```python\n",
    "def print_if_key_in_list(prefix='\\t', *args, **kwargs):\n",
    "   for key, val in kwargs.iteritems():\n",
    "       if key in args:\n",
    "           print('{} {}'.format(prefix, val))\n",
    "\n",
    "print_if_key_in_list('~~~~', 'tele', 'email', tele='7742700099', address='32 Franklin ave', email='georger@got.org')\n",
    "```\n",
    "\n",
    "</details>"
   ]
  },
  {
   "cell_type": "code",
   "execution_count": null,
   "metadata": {},
   "outputs": [],
   "source": []
  },
  {
   "cell_type": "markdown",
   "metadata": {},
   "source": [
    "## scope\n",
    "\n",
    "The indented block of code inside a function `def` statement is scoped to the function, which means that it only available locally within the function block. If you declare new variables inside of the function block, they will not be accessible outside the function block. However,\n",
    "you can access values of pre-existing variable from the outer scope from within the function.\n",
    "\n",
    "You can access the variables made outside of the function within it:\n",
    "\n",
    "```python\n",
    "my_var = 20\n",
    "\n",
    "def get_my_var():\n",
    "    print(my_var)\n",
    "\n",
    "get_my_var()\n",
    "```"
   ]
  },
  {
   "cell_type": "code",
   "execution_count": null,
   "metadata": {},
   "outputs": [],
   "source": []
  },
  {
   "cell_type": "markdown",
   "metadata": {},
   "source": [
    "However, you cannot change the variable in the outer scope:\n",
    "\n",
    "```python\n",
    "my_var = 20\n",
    "\n",
    "\n",
    "def change_my_var():\n",
    "    my_var = 30\n",
    "    # this is a different 'my_var' variable than what is in the outer scope\n",
    "    print(my_var)\n",
    "\n",
    "change_my_var()\n",
    "print(my_var)\n",
    "```"
   ]
  },
  {
   "cell_type": "code",
   "execution_count": null,
   "metadata": {},
   "outputs": [],
   "source": []
  },
  {
   "cell_type": "markdown",
   "metadata": {},
   "source": [
    "The outer scope cannot access variables declared within the function:\n",
    "\n",
    "```python\n",
    "def in_the_block():\n",
    "    block_var = 'hi'\n",
    "\n",
    "in_the_block()\n",
    "print(block_var)\n",
    "```"
   ]
  },
  {
   "cell_type": "code",
   "execution_count": null,
   "metadata": {},
   "outputs": [],
   "source": []
  },
  {
   "cell_type": "markdown",
   "metadata": {},
   "source": [
    "# Bonus Section"
   ]
  },
  {
   "cell_type": "markdown",
   "metadata": {},
   "source": [
    "## PROGRAMMING IN A PYTHONIC WAY"
   ]
  },
  {
   "cell_type": "markdown",
   "metadata": {},
   "source": [
    "## The Koan of Python\n",
    "\n",
    "Let's take a look at THE KOAN OF PYTHON (more about `import` later on):\n",
    "\n",
    "```python\n",
    "import this\n",
    "```"
   ]
  },
  {
   "cell_type": "code",
   "execution_count": null,
   "metadata": {},
   "outputs": [],
   "source": []
  },
  {
   "cell_type": "markdown",
   "metadata": {},
   "source": [
    "## More on String Manipulations"
   ]
  },
  {
   "cell_type": "markdown",
   "metadata": {},
   "source": [
    "## text transformations\n",
    "\n",
    "String comes pre-packaged with all kinds of handy methods that allow us to transform them. \n",
    "> NOTE: Notice that when we talk about calling a function by it's name such as `len` or `str`, we call them **functions** whereas when we use a function with the syntax `<my variable>.<function name>`, we call these **methods**. Methods are simply functions that belong to variables, and are specialized to be used with those variable. All functions are run by using parentheses where we put any required data called **arguments** to the function between the parentheses: `<function name>(<arguments>)`\n",
    "\n",
    "```python\n",
    "sentence = \"I aim to become a Python hacker!\"\n",
    "sentence.upper()\n",
    "sentence.lower()\n",
    "sentence.capitalize()\n",
    "```"
   ]
  },
  {
   "cell_type": "code",
   "execution_count": null,
   "metadata": {},
   "outputs": [],
   "source": []
  },
  {
   "cell_type": "markdown",
   "metadata": {},
   "source": [
    "Some methods allow you to chain one method after another. It runs the methods in order, outputting the resultant value. Method chaining is also possible with some but not all methods in other types:\n",
    "\n",
    "```python\n",
    "sentence = \"i AIm tO BeCoMe a PytHOn HaCkEr!\"\n",
    "sentence.lower().capitalize()\n",
    "```"
   ]
  },
  {
   "cell_type": "code",
   "execution_count": null,
   "metadata": {},
   "outputs": [],
   "source": []
  },
  {
   "cell_type": "markdown",
   "metadata": {},
   "source": [
    "## stripping\n",
    "\n",
    "Stripping allows the removal of trailing space or characters around a string using the `strip` method. To remove spaces / characters from left and right sides, you can use `lstrip` or `rstrip`, respectively:\n",
    "\n",
    "```python\n",
    "padded = '\\t    There are a lot of spaces and tabs around this string\\'s contents    \\t\\t'\n",
    "padded.strip()\n",
    "padded.lstrip()\n",
    "padded.rstrip()\n",
    "```"
   ]
  },
  {
   "cell_type": "code",
   "execution_count": null,
   "metadata": {},
   "outputs": [],
   "source": []
  },
  {
   "cell_type": "markdown",
   "metadata": {},
   "source": [
    "All of the stripping methods optionally take an argument for what kind of character to strip. By default, this character is set to `' '` (a single space), so running `strip()` is the same as running `strip(' ')`\n",
    "\n",
    "Let's try stripping a non-space character:\n",
    "\n",
    "```python\n",
    "num_padded = '00000why are there zeros surrounding this string?0000'\n",
    "num_padded.strip('0')\n",
    "```"
   ]
  },
  {
   "cell_type": "code",
   "execution_count": null,
   "metadata": {},
   "outputs": [],
   "source": []
  },
  {
   "cell_type": "markdown",
   "metadata": {},
   "source": [
    "## searching\n",
    "\n",
    "There are a few different ways that we can search within a string to see if a substring exists within it.\n",
    "\n",
    "Let's consider this `paragraph`\n",
    "\n",
    "```python\n",
    "paragraph = '''In the works of Tarantino, a predominant concept is the distinction between\n",
    "ground and figure. In a sense, Sartre suggests the use of rationalism to attack\n",
    "colonialist perceptions of sexuality. Marx uses the term ‘subcapitalist\n",
    "materialism’ to denote the rubicon, and subsequent futility, of conceptualist\n",
    "class.\n",
    "“Society is used in the service of class divisions,” says Derrida. Thus,\n",
    "Sargeant[1] suggests that the works of Tarantino are\n",
    "empowering. The main theme of Finnis’s[2] model of\n",
    "rationalism is the role of the participant as artist.'''\n",
    "```\n",
    "\n",
    "To simply check for the presence of a substring, we can use the `in` operator:\n",
    "\n",
    "```python\n",
    "# this statement will evaluate to True or False\n",
    "'Tarantino' in paragraph\n",
    "```"
   ]
  },
  {
   "cell_type": "code",
   "execution_count": null,
   "metadata": {},
   "outputs": [],
   "source": []
  },
  {
   "cell_type": "markdown",
   "metadata": {},
   "source": [
    "To get the index of the first instance of a substring from the left, we can use the `find` method:\n",
    "\n",
    "```python\n",
    "paragraph.find('Tarantino')\n",
    "```"
   ]
  },
  {
   "cell_type": "code",
   "execution_count": null,
   "metadata": {},
   "outputs": [],
   "source": []
  },
  {
   "cell_type": "markdown",
   "metadata": {},
   "source": [
    "To do the same from the right, we can use the `rfind` method:\n",
    "\n",
    "```python\n",
    "paragraph.rfind('Tarantino')\n",
    "```"
   ]
  },
  {
   "cell_type": "code",
   "execution_count": null,
   "metadata": {},
   "outputs": [],
   "source": []
  },
  {
   "cell_type": "markdown",
   "metadata": {},
   "source": [
    "> ## TRY IT\n",
    "\n",
    "One of the most important things you can learn as any kind of programmer is to learn how to read the documentation for the language and modules / packages that you plan to use. Let's take a look at the Python language documentation to learn more about the built in string method `find` and it's arguments. [Check out the docs here.](https://docs.python.org/2/library/stdtypes.html#str.find)\n",
    "\n",
    "> NOTE: **functions** take two different kinds of arguments: \n",
    "> - **positional arguments**: \n",
    ">   - the first few arguments to a **function** need to be input into the function in a specific order. \n",
    ">   - For example, you may have a function called `whisperThanYell` that expects two string arguments, first the whispered string (which will be transformed to all lowercase) then second, the yelled string (which will be transformed to all uppercase). \n",
    ">   - If you ran `whisperThanYell('I\\'ll tell you a secret', 'you better not tell')` you'd get back `\"i'll tell you a secret, YOU BETTER NOT TELL\"`, but if you ran `whisperThanYell('you better not tell', 'I\\'ll tell you a secret')`, `you better not tell, \"I'LL TELL YOU A SECRET\"`. \n",
    ">   - Notice how these are two different outcomes, ie with positional arguments, order matters!\n",
    "> - **keyword arguments**:\n",
    ">   - some functions let you pass arguments using `<keyword>=<some value>` notation in the arguments list **AFTER** all of the positional arguments, and these are called keyword arguments\n",
    ">   - these arguments can go in any order\n",
    "> - either, both, or neither type of argument can be applicable to a given function, and any one of the arguments in particular can be required or optional\n",
    "\n",
    "Now, let's find the index of the second `of` occurrence in `paragraph` using `find`:\n",
    "\n",
    "```python\n",
    "paragraph = '''In the works of Tarantino, a predominant concept is the distinction between\n",
    "ground and figure. In a sense, Sartre suggests the use of rationalism to attack\n",
    "colonialist perceptions of sexuality. Marx uses the term ‘subcapitalist\n",
    "materialism’ to denote the rubicon, and subsequent futility, of conceptualist\n",
    "class.\n",
    "“Society is used in the service of class divisions,” says Derrida. Thus,\n",
    "Sargeant[1] suggests that the works of Tarantino are\n",
    "empowering. The main theme of Finnis’s[2] model of\n",
    "rationalism is the role of the participant as artist.'''\n",
    "```\n",
    "\n",
    "<details>\n",
    "<summary>Solution</summary>\n",
    "\n",
    "First we find the index of the first `of` from the left, then we pass that index + 1 (so it doesn't match again), as the second optional `start` positional argument to `find`:\n",
    "\n",
    "```python\n",
    "first_index = paragraph.find('of')\n",
    "paragraph.find('of', first_index + 1)\n",
    "```\n",
    "\n",
    "</details>"
   ]
  },
  {
   "cell_type": "code",
   "execution_count": null,
   "metadata": {},
   "outputs": [],
   "source": []
  },
  {
   "cell_type": "markdown",
   "metadata": {},
   "source": [
    "## replacement\n",
    "\n",
    "Using the bulitin `replace` string method, we can replace characters or substring in an existing string. If we're clever, we can remove characters and substrings as well using the same method (think about it).\n",
    "\n",
    "This time, you are going to read about the `replace` method and try to implement it yourself.\n",
    "[Check out the docs here.](https://docs.python.org/2/library/stdtypes.html#str.replace)\n",
    "\n",
    "> ## TRY IT\n",
    "\n",
    "In `quote`, replace the first 'th' with 'the' and make the string all lowercase other than the first word.\n",
    "- hint: [another string method...](https://docs.python.org/2/library/stdtypes.html#str.capitalize)\n",
    "\n",
    "```python\n",
    "quote = 'In th End, we will remember not the words of our Enemies, but the silence of our Friends.'\n",
    "```\n",
    "\n",
    "<details>\n",
    "<summary>Solution</summary>\n",
    "\n",
    "We can string the and `capitalize` and `replace` methods to return a string transformed by both. We have to be careful with `replace` because simply replacing `th` with `the` will turn the `the` before `silence` into `thee`. In order to change only the first `th` substring, we can either using the optional `count` positional argument to stop replacing after `1` instance, or we can cleverly notice that replacing `th ` gets around the issues of replacing `th`.\n",
    "\n",
    "```python\n",
    "quote.capitalize().replace('th', 'the', 1)\n",
    "# or\n",
    "quote.capitalize().replace('th ', 'the ')\n",
    "```\n",
    "\n",
    "</details>"
   ]
  },
  {
   "cell_type": "code",
   "execution_count": null,
   "metadata": {},
   "outputs": [],
   "source": []
  },
  {
   "cell_type": "markdown",
   "metadata": {},
   "source": [
    "## string substitution\n",
    "\n",
    "Strings containing `{}` characters can have those characters replaced with variable value using the `format` string method. Inserting variable into strings in this way is called either **string substitution** or **interpolation**. A string with `{}` values is called a template string as it's the template from which string can be formatted by\n",
    "inserting variable values.\n",
    "\n",
    "By the way, _this_ is a more elegant way to combine variables into a string than concatenation and using the `str` function.\n",
    "\n",
    "> NOTE: The `{}` can contain values that determine the index of the variable to be inserted, or it's name, or other cool magical stuff([see here for more info on these tricks](https://pyformat.info/)). Also, **Python3** supports yet another way to do **interpolation** using [**f-Strings**](https://cito.github.io/blog/f-strings/).\n",
    "\n",
    "Let's insert some values into a template string by passing several positional values to the `format` method:\n",
    "\n",
    "```python\n",
    "print 'my name is {} and I am {} years old'.format('Arjun', 33)\n",
    "```"
   ]
  },
  {
   "cell_type": "code",
   "execution_count": null,
   "metadata": {},
   "outputs": [],
   "source": []
  },
  {
   "cell_type": "markdown",
   "metadata": {},
   "source": [
    "We can specify the order that the positional arguments are inserted by putting integers inside the curly braces:\n",
    "\n",
    "```python\n",
    "print 'I want to substitute the {1} and {0} value in a different order'.format('second', 'first')\n",
    "```"
   ]
  },
  {
   "cell_type": "code",
   "execution_count": null,
   "metadata": {},
   "outputs": [],
   "source": []
  },
  {
   "cell_type": "markdown",
   "metadata": {},
   "source": [
    "We can also name the insertion points and pass keyword arguments to `format` to replace named insertion points with their key-ed value:\n",
    "\n",
    "```python\n",
    "print 'Your name is {name}, today is {day_of_week} and we are in the {class_name} class' \\\n",
    "         .format(name='Sara', day_of_week='Saturday', class_name='Introduction to Python Bootcamp')\n",
    "```"
   ]
  },
  {
   "cell_type": "code",
   "execution_count": null,
   "metadata": {},
   "outputs": [],
   "source": []
  },
  {
   "cell_type": "markdown",
   "metadata": {},
   "source": [
    "> ## TRY IT\n",
    "\n",
    "Generate a **multiline** template string in the form of a short written letter that uses the values of the following variables, and sign your nickname in capital letters\n",
    "\n",
    "- variables: `day_of_week`, `favorite_color`, `nickname`, and `salutation`\n",
    "- hint: you need to declare these variable before using `format` if you are going to use positional arguments\n",
    "\n",
    "<details>\n",
    "<summary>Solution</summary>\n",
    "\n",
    "You need to start by making a multiline string using `'''` or `\"\"\"`. Within that string, you can use empty `{}` if you plan on using positional arguments, but if you use keyword arguments, you can name and define their values right in the `format` method's arguments.\n",
    "\n",
    "```python\n",
    "my_string = \\\n",
    "'''Dear nobody,\n",
    "I'm writing you this {day_of_week} to let you know that my favorite color is {favorite_color}.\n",
    "That is all.\n",
    "{salutation},\n",
    "{nickname}'''.format(day_of_week='Saturday', favorite_color='black', salutation='Regards', nickname='Arjuan'.upper())\n",
    "\n",
    "print(my_string)\n",
    "\n",
    "# OR\n",
    "\n",
    "day_of_week = 'Saturday'\n",
    "favorite_color = 'black'\n",
    "salutation = 'Regards'\n",
    "nickname = 'Arjuan'\n",
    "\n",
    "my_string = \\\n",
    "'''Dear nobody,\n",
    "I'm writing you this {} to let you know that my favorite color is {}.\n",
    "That is all.\n",
    "{},\n",
    "{}'''.format(day_of_week, favorite_color, salutation, nickname.upper())\n",
    "\n",
    "print(my_string)\n",
    "```\n",
    "\n",
    "</details>"
   ]
  },
  {
   "cell_type": "code",
   "execution_count": null,
   "metadata": {},
   "outputs": [],
   "source": []
  },
  {
   "cell_type": "markdown",
   "metadata": {},
   "source": [
    "## Bonus Control Flows"
   ]
  },
  {
   "cell_type": "markdown",
   "metadata": {},
   "source": [
    "## Fizz Buzz\n",
    "\n",
    "> ## TRY IT\n",
    "\n",
    "This is a famous programming interview question called FizzBuzz that was designed to filter out \"the 99.5% of\n",
    "programming job candidates who can't seem to program their way out of a wet paper bag\". Give it a shot!\n",
    "write a program that prints the numbers from `1` to `100`, but for multiples of `3` print `“Fizz”` instead of the number\n",
    "and for the multiples of `5` print `“Buzz”`. For numbers which are multiples of both `3` and `5` print `“FizzBuzz”`:\n",
    "\n",
    "```python\n",
    "\n",
    "```\n",
    "\n",
    "<details>\n",
    "<summary>Solution</summary>\n",
    "\n",
    "The most important thing to realize here is that only one conditional block will run in an `if`, `elif`, `else` chain, so the order you put the conditions in can be important. In this case, if you were to check `i % 3 == 0` or `i % 5 == 0` before `i % 15 == 0`, you would never see `\"Fizzbuzz\"` for numbers divisible by `15` since one of the other two conditions would have been true before it every reached the `i % 15 == 0` condition. Therefore, the `i % 15 == 0` condition has to be checked first in each iteration. It's also important to note that `i % 15 == 0` is a stand in for `i % 5 == 0 and i % 3 == 0` since any number divisible by `5` and `3` must be divisible by `15`:\n",
    "\n",
    "```python\n",
    "for i in range(1,101):\n",
    "   if i % 15 == 0:\n",
    "       print('FizzBuzz')\n",
    "   elif i % 3 == 0:\n",
    "       print('Fizz')\n",
    "   elif i % 5 == 0:\n",
    "       print('Buzz')\n",
    "   else:\n",
    "       print(i)\n",
    "```\n",
    "\n",
    "</details>"
   ]
  },
  {
   "cell_type": "code",
   "execution_count": null,
   "metadata": {},
   "outputs": [],
   "source": []
  },
  {
   "cell_type": "markdown",
   "metadata": {},
   "source": [
    "## Functions with args  and **kwargs"
   ]
  },
  {
   "cell_type": "markdown",
   "metadata": {},
   "source": [
    "Functions can take a variable number of arguments and make a local list with those arguments. You use the `*<list name>` parameter to do this, and this must come after all of the positional arguments:\n",
    "\n",
    "```python\n",
    "def print_before_each_in_list(before_text, *args):\n",
    "   for item in args:\n",
    "       print( '{} {}'.format(before_text, item))\n",
    "print_before_each_in_list('Here\\'s an item', 'cat', 'hairbrush', 'VCR', 'telephoto lens')\n",
    "```"
   ]
  },
  {
   "cell_type": "code",
   "execution_count": 5,
   "metadata": {},
   "outputs": [
    {
     "name": "stdout",
     "output_type": "stream",
     "text": [
      "Here's an item cat\n",
      "Here's an item hairbrush\n",
      "Here's an item VCR\n",
      "Here's an item telephoto lens\n"
     ]
    }
   ],
   "source": []
  },
  {
   "cell_type": "markdown",
   "metadata": {},
   "source": [
    "Functions can also take `<key>=<value` arguments and make a local dictionary with those arguments. You use the `**<dict name>` parameter to do this, and this must come after all of the individual named arguments, and list argument:\n",
    "\n",
    "```python\n",
    "def print_kwargs(**kwargs):\n",
    "   for key, val in kwargs.items():\n",
    "       print('{}: {}'.format(key, val))\n",
    "\n",
    "print_kwargs(name=\"Arjun\", age=33, occupation=\"?\")\n",
    "```"
   ]
  },
  {
   "cell_type": "code",
   "execution_count": null,
   "metadata": {},
   "outputs": [],
   "source": []
  }
 ],
 "metadata": {
  "kernelspec": {
   "display_name": "Python 3",
   "language": "python",
   "name": "python3"
  },
  "language_info": {
   "codemirror_mode": {
    "name": "ipython",
    "version": 3
   },
   "file_extension": ".py",
   "mimetype": "text/x-python",
   "name": "python",
   "nbconvert_exporter": "python",
   "pygments_lexer": "ipython3",
   "version": "3.6.8"
  }
 },
 "nbformat": 4,
 "nbformat_minor": 2
}
