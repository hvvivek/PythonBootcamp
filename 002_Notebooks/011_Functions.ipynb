{
 "cells": [
  {
   "cell_type": "markdown",
   "metadata": {},
   "source": [
    "# FUNCTIONS\n",
    "\n",
    "Functions define blocks of code which take in arguments, perform some logical operations on those argument and then return something. To declare a function, we use the `def` keyword followed by the name of the function, then a `()` containing comma separated parameters (sometimes none), then `:`.\n",
    "\n",
    "Parameters are all of the variables the function needs to execute as defined between the `()`. When a function is run, the actual values passed in for each parameter name are called the arguments.\n",
    "\n",
    "As we have seen, functions must be called using '<function name>(<function arguments>)' in order to run it. A function block execution finishes when it reaches the end of it's indented code block, or it hits a `return` statement, which ends function execution and returns a value. Functions that reach their end without hitting a `return` keyword automatically return the `undefined` value.\n",
    "\n"
   ]
  },
  {
   "cell_type": "markdown",
   "metadata": {},
   "source": [
    "## A simple function"
   ]
  },
  {
   "cell_type": "markdown",
   "metadata": {},
   "source": [
    "Let's assume I am writing some python code and it seems like I often need to add two numbers and then printing the result out in the format \"The sum of the numbers a and b is c\". \n",
    "\n",
    "When you face a scenario such as the one above, you should consider writing a function (even if you may only repeat it twice!)"
   ]
  },
  {
   "cell_type": "code",
   "execution_count": 2,
   "metadata": {},
   "outputs": [],
   "source": [
    "def addTwoNumbers():\n",
    "    4 + 5"
   ]
  },
  {
   "cell_type": "markdown",
   "metadata": {},
   "source": [
    "## \"Calling\"\" a function"
   ]
  },
  {
   "cell_type": "code",
   "execution_count": 3,
   "metadata": {},
   "outputs": [],
   "source": [
    "addTwoNumbers()"
   ]
  },
  {
   "cell_type": "markdown",
   "metadata": {},
   "source": [
    "Not a particularly useful function. Lets make it print the results at least. \n",
    "You can write any python code you wrote outside of a function inside a function too. Works just the same. "
   ]
  },
  {
   "cell_type": "code",
   "execution_count": null,
   "metadata": {},
   "outputs": [],
   "source": [
    "def addTwoNumbers():\n",
    "    print(4 + 5)\n",
    "    \n",
    "addTwoNumbers()"
   ]
  },
  {
   "cell_type": "markdown",
   "metadata": {},
   "source": [
    "You are writing a function because you want to generalize something so you dont have repeat what you do often. So lets generalize it by using parameters! Parameters go into the () after the function name. These parameters are a way for the function to receive data from the outside world. Think of them as buckets - in this case named 'num1' and 'num2'"
   ]
  },
  {
   "cell_type": "code",
   "execution_count": null,
   "metadata": {},
   "outputs": [],
   "source": [
    "def addTwoNumbers(num1, num2):\n",
    "    print(num1 + num2)\n",
    "    \n",
    "addTwoNumbers()"
   ]
  },
  {
   "cell_type": "markdown",
   "metadata": {},
   "source": [
    "It throws an error!\n",
    "\n",
    "That's because we now the function needs to receive data from outside the function to do it's job. Lets make that happen by calling the function with values inside."
   ]
  },
  {
   "cell_type": "code",
   "execution_count": null,
   "metadata": {},
   "outputs": [],
   "source": [
    "addTwoNumbers(7, 8)"
   ]
  },
  {
   "cell_type": "markdown",
   "metadata": {},
   "source": [
    "Alright we are close. All we have to do is format the string"
   ]
  },
  {
   "cell_type": "code",
   "execution_count": null,
   "metadata": {},
   "outputs": [],
   "source": [
    "def addTwoNumbers(num1, num2):\n",
    "    print(\"The sum of\", num1,\"and\",num2,\"is\",num1+num2)\n",
    "    \n",
    "addTwoNumbers(7,8)"
   ]
  },
  {
   "cell_type": "markdown",
   "metadata": {},
   "source": [
    "## What if I want the function to not print but return a value for me to store for some future work?\n",
    "\n",
    "A `return` keyword can be useful to return data to the line where a function is run from, allowing us to save the value in a variable. In the example below, `my_func` is declared using `def my_func(name, age):`, and then it returns the value of a template string which has interpolated the parameter values for `name` and `age`. When the function is run using the argument `\"Vivek\"` for the `name` parameter and `77` for the `age` parameter, we save the returned string as `info_str`, allowing us to print it:"
   ]
  },
  {
   "cell_type": "code",
   "execution_count": null,
   "metadata": {},
   "outputs": [],
   "source": [
    "def my_func(name, age):\n",
    "    return 'my name is {} and I am {} years old'.format(name, age)\n",
    "\n",
    "info_str = my_func('Vivek', 55)\n",
    "print(info_str)"
   ]
  },
  {
   "cell_type": "markdown",
   "metadata": {},
   "source": [
    "## parameters\n",
    "\n",
    "You can set default parameters for functions, which is the value they will take on if no argument is passed for that parameter.\n",
    "\n",
    "> NOTE: Parameters with default values **must** always come after arguments that do not have default values."
   ]
  },
  {
   "cell_type": "code",
   "execution_count": null,
   "metadata": {},
   "outputs": [],
   "source": [
    "def say_it(exclamation, name='You'):\n",
    "    print('{} {}!'.format(exclamation ,name.upper())\n",
    "\n",
    "say_it('Wow')\n",
    "say_it('Oh my god', 'Becky')"
   ]
  },
  {
   "cell_type": "markdown",
   "metadata": {},
   "source": [
    "___\n",
    "## PRACTICE\n",
    "\n",
    "Write a function called `print_if_key_in_list` that takes a `prefix` argument with a default value of `'\\t'`, a list\n",
    "argument as `*args` and a dict arguments as `**kwargs`. For every key in `kwargs`, if the key is also in `args`, print\n",
    "the `prefix` and the key value:\n",
    "___"
   ]
  },
  {
   "cell_type": "markdown",
   "metadata": {},
   "source": [
    "## Scope\n",
    "\n",
    "The indented block of code inside a function `def` statement is scoped to the function, which means that it only available locally within the function block. If you declare new variables inside of the function block, they will not be accessible outside the function block. However,\n",
    "you can access values of pre-existing variable from the outer scope from within the function.\n",
    "\n",
    "You can access the variables made outside of the function within it:"
   ]
  },
  {
   "cell_type": "code",
   "execution_count": null,
   "metadata": {},
   "outputs": [],
   "source": [
    "my_var = 20\n",
    "\n",
    "def get_my_var():\n",
    "    print(my_var)\n",
    "\n",
    "get_my_var()"
   ]
  },
  {
   "cell_type": "markdown",
   "metadata": {},
   "source": [
    "However, you cannot change the variable in the outer scope:\n"
   ]
  },
  {
   "cell_type": "code",
   "execution_count": null,
   "metadata": {},
   "outputs": [],
   "source": [
    "my_var = 20\n",
    "\n",
    "\n",
    "def change_my_var():\n",
    "    my_var = 30\n",
    "    # this is a different 'my_var' variable than what is in the outer scope\n",
    "    print(my_var)\n",
    "\n",
    "change_my_var()\n",
    "print(my_var)"
   ]
  },
  {
   "cell_type": "markdown",
   "metadata": {},
   "source": [
    "The outer scope cannot access variables declared within the function:\n"
   ]
  },
  {
   "cell_type": "code",
   "execution_count": null,
   "metadata": {},
   "outputs": [],
   "source": [
    "def in_the_block():\n",
    "    block_var = 'hi'\n",
    "\n",
    "in_the_block()\n",
    "print(block_var)"
   ]
  }
 ],
 "metadata": {
  "kernelspec": {
   "display_name": "Python 3",
   "language": "python",
   "name": "python3"
  },
  "language_info": {
   "codemirror_mode": {
    "name": "ipython",
    "version": 3
   },
   "file_extension": ".py",
   "mimetype": "text/x-python",
   "name": "python",
   "nbconvert_exporter": "python",
   "pygments_lexer": "ipython3",
   "version": "3.6.4"
  }
 },
 "nbformat": 4,
 "nbformat_minor": 2
}
