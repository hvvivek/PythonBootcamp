{
 "cells": [
  {
   "cell_type": "markdown",
   "metadata": {},
   "source": [
    "# ADDITIONAL TOPICS\n",
    "\n",
    "'''\n",
    "> TRY, CATCH AND EXCEPTION HANDLING\n",
    "'''\n",
    "\n",
    "'''\n",
    "> ADVANCED ENUMERABLE METHODS\n",
    "'''\n",
    "# map\n",
    "# list comprehensions\n",
    "\n",
    "'''\n",
    "> CLASSES\n",
    "'''\n",
    "# classes and instances\n",
    "# constructor\n",
    "# class methods and properties\n",
    "# instance methods and properties\n",
    "# private methods/vars\n",
    "# inheritance\n",
    "\n",
    "'''\n",
    "> READING AND WRITING FILES\n",
    "'''\n",
    "\n",
    "'''\n",
    "> INSTALLING PACKAGES\n",
    "'''\n",
    "# get pip\n",
    "# pip install\n",
    "# pip list\n",
    "\n",
    "'''\n",
    "> EXAMPLE USEAGE: TEMPLATED EMAILER SCRIPT <\n",
    "'''\n",
    "\n",
    "'''\n",
    "> EXAMPLE USEAGE: BASIC DATA ANALYTICS <\n",
    "'''\n",
    "\n"
   ]
  },
  {
   "cell_type": "code",
   "execution_count": null,
   "metadata": {},
   "outputs": [],
   "source": []
  }
 ],
 "metadata": {
  "kernelspec": {
   "display_name": "Python 3",
   "language": "python",
   "name": "python3"
  },
  "language_info": {
   "codemirror_mode": {
    "name": "ipython",
    "version": 3
   },
   "file_extension": ".py",
   "mimetype": "text/x-python",
   "name": "python",
   "nbconvert_exporter": "python",
   "pygments_lexer": "ipython3",
   "version": "3.6.5"
  }
 },
 "nbformat": 4,
 "nbformat_minor": 2
}
