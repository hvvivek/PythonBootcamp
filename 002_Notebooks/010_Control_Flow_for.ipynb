{
 "cells": [
  {
   "cell_type": "markdown",
   "metadata": {},
   "source": [
    "## for\n",
    "\n",
    "For loops are used when you have a known number of loops you want to perform. You can use for loops to iterate through all of the elements in an iterable variable type, types that include lists, dicts, strings, and ranges.\n",
    "\n",
    "> NOTE: A range is actually just two values, a **start**, and a **stop** value within a range, such as `4` and `10`. When the range is actually declared, all you write is:\n",
    "> ```python\n",
    "> my_range = range(<start>, <stop>)\n",
    "> ```\n",
    "> When the range is actually used, Python automatically expands the range into a list, starting at the **start** value (inclusive) and ending _before_ the **stop** value (exclusive) so that `my_range` would turn into `[4,5,6,7,8,9]` when it was then used for something after it's declaration. Storing ranges in this way takes up less memory as the ranges are only expanded into list if and when they are used, as opposed to lists which take up their full amount of memory right when they are declared whether or not they end up being used.\n",
    "\n",
    "For loops always start with a `for` keyword, and then there is an expression that describes how you want to handle receiving each element in your iteration within the block of the `for` loop then a `:`. Notice below that the block is simply the indented region immediately following the `for` line, all of whose lines will be run for each iteration of the loop. The block will have each element available within it for each iteration, named as whatever you called it in the expression.\n",
    "\n",
    "Let's look at an example of how to use `for` loops on a list. Out iteration expression is `item in our_list` which tells the for loop that you want to iterate through elements in `our_list` and within the block of the `for` loop, have access to that element as the local variable (only available inside the block) called `item`. See how this works:\n"
   ]
  },
  {
   "cell_type": "code",
   "execution_count": null,
   "metadata": {},
   "outputs": [],
   "source": [
    "our_list = ['hi', 'there', 'how', 'are', 'you?']\n",
    "for item in our_list:\n",
    "    print(item)"
   ]
  },
  {
   "cell_type": "markdown",
   "metadata": {},
   "source": [
    "You can use for loops to iterate through values in a range:\n"
   ]
  },
  {
   "cell_type": "code",
   "execution_count": null,
   "metadata": {},
   "outputs": [],
   "source": [
    "for n in range(0,200):\n",
    "    print(n)"
   ]
  },
  {
   "cell_type": "markdown",
   "metadata": {},
   "source": [
    "Sometimes you also want to get the index of the element you are on during iteration, not just the value. For that, you can use the `enumerate` built in function which turns an iterable variable into a list of `(<index>, <value>)` pairs, allowing you to capture them both as named local variable in the `for` block and use them:\n"
   ]
  },
  {
   "cell_type": "code",
   "execution_count": null,
   "metadata": {},
   "outputs": [],
   "source": [
    "for index, item in enumerate(our_list):\n",
    "    print('index of item: {}\\nvalue of item: {}\\n'.format(index, item))"
   ]
  },
  {
   "cell_type": "markdown",
   "metadata": {},
   "source": [
    "> ## TRY IT\n",
    "\n",
    "How might we iterate through the first `4` items in a list of length `8`?"
   ]
  },
  {
   "cell_type": "markdown",
   "metadata": {},
   "source": [
    "You may have notices that string act pretty much like lists, and indeed, you can iterate through a string's characters:"
   ]
  },
  {
   "cell_type": "code",
   "execution_count": null,
   "metadata": {},
   "outputs": [],
   "source": [
    "# iterate through string\n",
    "for char in 'hello':\n",
    "    print char"
   ]
  },
  {
   "cell_type": "markdown",
   "metadata": {},
   "source": [
    "Importantly, you can always break out a `for` loop by using the `break` keyword:\n"
   ]
  },
  {
   "cell_type": "code",
   "execution_count": null,
   "metadata": {},
   "outputs": [],
   "source": [
    "for i in range(0, 10000000):\n",
    "    print(i)\n",
    "    if i == 100:\n",
    "        break"
   ]
  },
  {
   "cell_type": "markdown",
   "metadata": {},
   "source": [
    "Similarly, you can skip particular iterations by using the `continue` keyword, which forces the `for` loop to go to the next iteration without running any more lines of code in the current iteration:"
   ]
  },
  {
   "cell_type": "code",
   "execution_count": null,
   "metadata": {},
   "outputs": [],
   "source": [
    "for i in range(0,10):\n",
    "    if i % 2 == 0:\n",
    "        continue\n",
    "    print(i)"
   ]
  },
  {
   "cell_type": "markdown",
   "metadata": {},
   "source": [
    "___\n",
    "## PRACTICE\n",
    "\n",
    "This is a famous programming interview question called FizzBuzz that was designed to filter out \"the 99.5% of\n",
    "programming job candidates who can't seem to program their way out of a wet paper bag\". Give it a shot!\n",
    "write a program that prints the numbers from `1` to `100`, but for multiples of `3` print `“Fizz”` instead of the number\n",
    "and for the multiples of `5` print `“Buzz”`. For numbers which are multiples of both `3` and `5` print `“FizzBuzz”`:\n",
    "___"
   ]
  },
  {
   "cell_type": "code",
   "execution_count": null,
   "metadata": {},
   "outputs": [],
   "source": []
  }
 ],
 "metadata": {
  "kernelspec": {
   "display_name": "Python 3",
   "language": "python",
   "name": "python3"
  },
  "language_info": {
   "codemirror_mode": {
    "name": "ipython",
    "version": 3
   },
   "file_extension": ".py",
   "mimetype": "text/x-python",
   "name": "python",
   "nbconvert_exporter": "python",
   "pygments_lexer": "ipython3",
   "version": "3.6.4"
  }
 },
 "nbformat": 4,
 "nbformat_minor": 2
}
