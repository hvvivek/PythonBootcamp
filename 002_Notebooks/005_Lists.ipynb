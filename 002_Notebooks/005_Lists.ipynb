{
 "cells": [
  {
   "cell_type": "markdown",
   "metadata": {},
   "source": [
    "# LISTS\n",
    "\n",
    "Lists are collections of values in a set order, and the values are **mutable** ie changeable, addable and deleteable. Lists is Python are **heterogenous** meaning all of the List values do not have to be of the same type.\n",
    "\n",
    "Lists are declared as a collection or values separated by commas, between square brackets.\n",
    "\n",
    "## Declaration\n",
    "\n",
    "A heterogeneous list:"
   ]
  },
  {
   "cell_type": "code",
   "execution_count": 1,
   "metadata": {},
   "outputs": [],
   "source": [
    "my_list = [\"string\", 20, True, 36.33, [0,1,2]]"
   ]
  },
  {
   "cell_type": "markdown",
   "metadata": {},
   "source": [
    "Two-dimensional homogeneous (all of same type) list:\n"
   ]
  },
  {
   "cell_type": "code",
   "execution_count": 2,
   "metadata": {},
   "outputs": [],
   "source": [
    "tic_tac_toe_pos = [[0,1,1],\n",
    "                   [1,2,0],\n",
    "                   [0,2,0]]"
   ]
  },
  {
   "cell_type": "code",
   "execution_count": 3,
   "metadata": {},
   "outputs": [],
   "source": [
    "tic_tac_toe_pos = [[0, 1, 1], [1, 2, 0], [0, 2, 0]]\n"
   ]
  },
  {
   "cell_type": "markdown",
   "metadata": {},
   "source": [
    "## Length\n",
    "\n",
    "Calculating the length from a list uses the same builtin function `len` as when we calculated string length:"
   ]
  },
  {
   "cell_type": "code",
   "execution_count": 5,
   "metadata": {},
   "outputs": [
    {
     "data": {
      "text/plain": [
       "5"
      ]
     },
     "execution_count": 5,
     "metadata": {},
     "output_type": "execute_result"
    }
   ],
   "source": [
    "my_list = [\"string\", 20, True, 36.33, [0,1,2]]\n",
    "len(my_list)"
   ]
  },
  {
   "cell_type": "markdown",
   "metadata": {},
   "source": [
    "## Indexing / Slicing\n",
    "\n",
    "Since lists have a set element order, you can select elements by index, or slice parts of them, just like with strings:"
   ]
  },
  {
   "cell_type": "code",
   "execution_count": 6,
   "metadata": {},
   "outputs": [
    {
     "data": {
      "text/plain": [
       "['string', 36.33]"
      ]
     },
     "execution_count": 6,
     "metadata": {},
     "output_type": "execute_result"
    }
   ],
   "source": [
    "my_list[0]\n",
    "my_list[-2]\n",
    "my_list[0:1]\n",
    "my_list[::3]"
   ]
  },
  {
   "cell_type": "markdown",
   "metadata": {},
   "source": [
    "## Indexing Multidimensional Lists\n",
    "\n",
    "Sometimes you end up with lists inside of lists. How do you index a value when it's in a list nested within another list? You simply index into the outer list, to select one of the inner lists, and then you index into that inner list!\n",
    "\n",
    "For example, consider this tic-tac-toe board again:"
   ]
  },
  {
   "cell_type": "code",
   "execution_count": 7,
   "metadata": {},
   "outputs": [],
   "source": [
    "tic_tac_toe_pos = [[0,1,1],\n",
    "                   [1,2,0],\n",
    "                   [0,2,0]]\n",
    "row0 = tic_tac_toe_pos[0]\n",
    "row0_col2 = tic_tac_toe_pos[0][2]"
   ]
  },
  {
   "cell_type": "markdown",
   "metadata": {},
   "source": [
    "___\n",
    "## PRACTICE\n",
    "\n",
    "Index the `'Jaguar'` value from `list3`\n",
    "___"
   ]
  },
  {
   "cell_type": "code",
   "execution_count": 8,
   "metadata": {},
   "outputs": [],
   "source": [
    "list1 = [['Irish Wolfhound', 'Great Dane'], ['Beagle', 'Collie'], ['Chihuahua', 'Toy Poodle']]\n",
    "list2 = [['Tiger', 'Lion'], ['Jaguar', 'Bobcat'], ['Ocelot', 'Maine Coon']]\n",
    "list3 = [list1, list2]"
   ]
  },
  {
   "cell_type": "markdown",
   "metadata": {},
   "source": [
    "## List ordering\n",
    "\n",
    "When working with lists, there are some methods and tricks to manipulate the ordering of a list efficiently.\n",
    "\n",
    "We can reverse a list using both the slice operator `[]` skip argument:"
   ]
  },
  {
   "cell_type": "code",
   "execution_count": 9,
   "metadata": {},
   "outputs": [
    {
     "data": {
      "text/plain": [
       "[[0, 1, 2], 36.33, True, 20, 'string']"
      ]
     },
     "execution_count": 9,
     "metadata": {},
     "output_type": "execute_result"
    }
   ],
   "source": [
    "my_list[::-1]\n"
   ]
  },
  {
   "cell_type": "markdown",
   "metadata": {},
   "source": [
    "Or with the list `reverse` method:\n"
   ]
  },
  {
   "cell_type": "code",
   "execution_count": 10,
   "metadata": {},
   "outputs": [],
   "source": [
    "my_list.reverse()\n"
   ]
  },
  {
   "cell_type": "markdown",
   "metadata": {},
   "source": [
    "Sorting a list can be done two ways:\n",
    "\n",
    "- list `sort` method: sort a list in-place\n",
    "  - sort the actual list itself\n",
    "- `sorted` builtin function: return a sorted copy of the list\n",
    "  - leave the original list alone\n",
    "\n",
    "\n",
    "Returning a new sorted list:"
   ]
  },
  {
   "cell_type": "code",
   "execution_count": 11,
   "metadata": {},
   "outputs": [
    {
     "name": "stdout",
     "output_type": "stream",
     "text": [
      "[0, 6, 2, 7, 8, 3, 1]\n"
     ]
    }
   ],
   "source": [
    "out_of_order = [0,6,2,7,8,3,1]\n",
    "\n",
    "sorted(out_of_order)\n",
    "print(out_of_order)"
   ]
  },
  {
   "cell_type": "markdown",
   "metadata": {},
   "source": [
    "In-place list sorting:\n"
   ]
  },
  {
   "cell_type": "code",
   "execution_count": 12,
   "metadata": {},
   "outputs": [
    {
     "name": "stdout",
     "output_type": "stream",
     "text": [
      "[0, 1, 2, 3, 6, 7, 8]\n"
     ]
    }
   ],
   "source": [
    "out_of_order = [0,6,2,7,8,3,1]\n",
    "out_of_order.sort()\n",
    "print(out_of_order)"
   ]
  },
  {
   "cell_type": "markdown",
   "metadata": {},
   "source": [
    "## Adding / Deleting / Changing values\n",
    "\n",
    "We can add, delete, or change list values (otherwise known as mutating the list) using a variety of methods.\n",
    "\n",
    "### Changing values\n",
    "\n",
    "We can use the index to change list values using the assignment `=` operator:"
   ]
  },
  {
   "cell_type": "code",
   "execution_count": 13,
   "metadata": {},
   "outputs": [
    {
     "name": "stdout",
     "output_type": "stream",
     "text": [
      "20\n",
      "[[0, 1, 2], 36.33, True, 'changed', 'string']\n"
     ]
    }
   ],
   "source": [
    "print(my_list[3])\n",
    "my_list[3] = 'changed'\n",
    "print(my_list)"
   ]
  },
  {
   "cell_type": "markdown",
   "metadata": {},
   "source": [
    "\n",
    "### Adding values\n",
    "\n",
    "We can add values at a certain index in a list using the `insert` list method:"
   ]
  },
  {
   "cell_type": "code",
   "execution_count": 14,
   "metadata": {},
   "outputs": [],
   "source": [
    "colors = ['Red', 'Orange', 'Yellow', 'Green', 'Blue', 'Indigo', 'Violet']\n",
    "colors.insert(1, 'Red-Orange')"
   ]
  },
  {
   "cell_type": "markdown",
   "metadata": {},
   "source": [
    "We can also add values to the end of the list using `append` and `extend` list methods\"\n",
    "\n",
    "- `append`: takes the value you pass it and adds it as the next index in the list\n",
    "- `extend`: takes the value you pass it as an list, and adds the contents of that list to the end of the list\n",
    "\n",
    "Let's use `append` to add a value to our `topics` list:"
   ]
  },
  {
   "cell_type": "code",
   "execution_count": 15,
   "metadata": {},
   "outputs": [],
   "source": [
    "topics = ['Statistics', 'Biology', 'Architecture', 'Microeconomics', 'Computational Complexity', 'Art', 'Composition']\n",
    "topics.append('English')"
   ]
  },
  {
   "cell_type": "markdown",
   "metadata": {},
   "source": [
    "Now let's use `extend` to add another two values to our `topics` list. Notice the difference in syntax for the arguments to each method:"
   ]
  },
  {
   "cell_type": "code",
   "execution_count": 16,
   "metadata": {},
   "outputs": [],
   "source": [
    "topics.extend(['French', 'Skiing'])"
   ]
  },
  {
   "cell_type": "markdown",
   "metadata": {},
   "source": [
    "### Deleting values\n",
    "\n",
    "We can remove a list item both by it's value or by it's index using:\n",
    "\n",
    "- `remove` list method: remove element by value\n",
    "- `del` keyword: remove element by index\n",
    "- `pop` list method: remove element by index and return it\n",
    "  - this allows us to save the \"popped\" value in a variable if we choose\n",
    "\n",
    "You can remove a list element by it's value:"
   ]
  },
  {
   "cell_type": "code",
   "execution_count": 17,
   "metadata": {},
   "outputs": [],
   "source": [
    "colors.remove('Red-Orange')\n"
   ]
  },
  {
   "cell_type": "markdown",
   "metadata": {},
   "source": [
    "You can remove a list element by it's index:\n"
   ]
  },
  {
   "cell_type": "code",
   "execution_count": 18,
   "metadata": {},
   "outputs": [
    {
     "name": "stdout",
     "output_type": "stream",
     "text": [
      "['Red', 'Yellow', 'Green', 'Blue', 'Indigo', 'Violet']\n"
     ]
    }
   ],
   "source": [
    "del colors[1]\n",
    "print(colors)"
   ]
  },
  {
   "cell_type": "markdown",
   "metadata": {},
   "source": [
    "And you can remove a list element by it's index and save the removed element:\n"
   ]
  },
  {
   "cell_type": "code",
   "execution_count": 19,
   "metadata": {},
   "outputs": [
    {
     "name": "stdout",
     "output_type": "stream",
     "text": [
      "Violet ['Red', 'Yellow', 'Green', 'Blue', 'Indigo']\n"
     ]
    }
   ],
   "source": [
    "popped_color = colors.pop(-1)\n",
    "print(popped_color, colors)"
   ]
  },
  {
   "cell_type": "markdown",
   "metadata": {},
   "source": [
    "___\n",
    "## PRACTICE\n",
    "\n",
    "What happens when you run this? Why?\n",
    "___"
   ]
  },
  {
   "cell_type": "code",
   "execution_count": 20,
   "metadata": {},
   "outputs": [],
   "source": [
    "topics = ['Statistics', 'Biology', 'Architecture', 'Microeconomics', 'Computational Complexity', 'Art', 'Composition']\n",
    "topics.extend('World History')"
   ]
  },
  {
   "cell_type": "markdown",
   "metadata": {},
   "source": [
    "___\n",
    "## PRACTICE\n",
    "\n",
    "Replace the colors `'Red'` and `'Orange'` from `colors` with `'Red-Orange'` and add `'Ultraviolet'` and add `'X-Ray'` to the end of the list:\n",
    "___"
   ]
  },
  {
   "cell_type": "code",
   "execution_count": 21,
   "metadata": {},
   "outputs": [],
   "source": [
    "colors = ['Red', 'Orange', 'Yellow', 'Green', 'Blue', 'Indigo', 'Violet']\n"
   ]
  },
  {
   "cell_type": "markdown",
   "metadata": {},
   "source": [
    "## Unpacking\n",
    "\n",
    "You can get the values from a list and automatically declare multiple vars with those values simultaneously:"
   ]
  },
  {
   "cell_type": "code",
   "execution_count": null,
   "metadata": {},
   "outputs": [],
   "source": [
    "topic1, topic2 =  topics[0:2]\n",
    "print(topic1, topic2)"
   ]
  }
 ],
 "metadata": {
  "kernelspec": {
   "display_name": "Python 3",
   "language": "python",
   "name": "python3"
  },
  "language_info": {
   "codemirror_mode": {
    "name": "ipython",
    "version": 3
   },
   "file_extension": ".py",
   "mimetype": "text/x-python",
   "name": "python",
   "nbconvert_exporter": "python",
   "pygments_lexer": "ipython3",
   "version": "3.6.4"
  }
 },
 "nbformat": 4,
 "nbformat_minor": 2
}
