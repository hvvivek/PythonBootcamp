{
 "cells": [
  {
   "cell_type": "markdown",
   "metadata": {},
   "source": [
    "# Classes\n",
    "\n",
    "All cars have things that make them a Car. Although the details might be different, every type of car has the same basics — it’s off the same blueprint, with the same properties and actions.\n",
    "\n",
    "\n",
    "    * Property: A shape (could be hatchback or sedan).\n",
    "    * Property: A color (could be red, black, blue, or silver).\n",
    "    * Property: Seats (could be between 2 and 5).\n",
    "    * Action: Can drive.\n",
    "    * Action: Can park.\n",
    "    \n",
    "These properties and behaviors can be thought of as **variables** and **functions**.\n",
    "\n",
    "\n"
   ]
  },
  {
   "cell_type": "markdown",
   "metadata": {},
   "source": [
    "**Properties - Variables**:\n",
    "- shape = \"hatchback\"\n",
    "- color = \"red\", \"black\", \"blue\", or \"silver\"\n",
    "- seats = 2\n",
    "\n",
    "**Actions - Functions:**\n",
    "- drive()\n",
    "- park()\n",
    "- reverse()"
   ]
  },
  {
   "cell_type": "markdown",
   "metadata": {},
   "source": [
    "## Declaration"
   ]
  },
  {
   "cell_type": "code",
   "execution_count": 1,
   "metadata": {},
   "outputs": [],
   "source": [
    "class Dog:\n",
    "\n",
    "    def __init__(self, name=\"\", age=0):\n",
    "        # Note the defaults.\n",
    "        self.name = name # All dogs have a name.\n",
    "        self.age = age # All dogs have an age.\n",
    "\n",
    "    # All dogs have a bark function.\n",
    "    \"\"\"Prints a message stating name and age to stdout\"\"\"\n",
    "    def bark_hello(self):\n",
    "        print(\"Woof! I am called\", self.name, \"; I am\", self.age, \"human-years old.\")"
   ]
  },
  {
   "cell_type": "markdown",
   "metadata": {},
   "source": [
    "## Instantiating Objects"
   ]
  },
  {
   "cell_type": "code",
   "execution_count": 3,
   "metadata": {},
   "outputs": [],
   "source": [
    "gracie = Dog(\"Gracie\", 8)\n",
    "spitz = Dog(\"Spitz\", 5)\n",
    "buck = Dog(\"Buck\", 3)"
   ]
  },
  {
   "cell_type": "markdown",
   "metadata": {},
   "source": [
    "## Calling the object methods"
   ]
  },
  {
   "cell_type": "code",
   "execution_count": 5,
   "metadata": {},
   "outputs": [
    {
     "name": "stdout",
     "output_type": "stream",
     "text": [
      "Woof! I am called Gracie ; I am 8 human-years old.\n",
      "Woof! I am called Spitz ; I am 5 human-years old.\n",
      "Woof! I am called Buck ; I am 3 human-years old.\n"
     ]
    }
   ],
   "source": [
    "gracie.bark_hello()\n",
    "spitz.bark_hello()\n",
    "buck.bark_hello()"
   ]
  },
  {
   "cell_type": "markdown",
   "metadata": {},
   "source": [
    "## Accessing object properties"
   ]
  },
  {
   "cell_type": "code",
   "execution_count": 6,
   "metadata": {},
   "outputs": [
    {
     "name": "stdout",
     "output_type": "stream",
     "text": [
      "This dog's name is Gracie\n",
      "This dog's age is 8\n"
     ]
    }
   ],
   "source": [
    "print(\"This dog's name is\", gracie.name)\n",
    "print(\"This dog's age is\", gracie.age)"
   ]
  },
  {
   "cell_type": "markdown",
   "metadata": {},
   "source": [
    "___\n",
    "## Practice\n",
    "\n",
    "Create a `TeaCup` class. Think about what variables and functions it could have.\n",
    "    > **Hint**: Variables could be `capacity` and `amount`. Functions could be `fill()`, `empty()` and \n",
    "___"
   ]
  },
  {
   "cell_type": "markdown",
   "metadata": {},
   "source": [
    "# Modules and Libraries"
   ]
  },
  {
   "cell_type": "markdown",
   "metadata": {},
   "source": [
    "Modules are collections of useful Python code and functions that we can use.\n",
    "\n",
    "This is much like a class that someone else has written.\n",
    "It’s free - less work for us!\n",
    "\n",
    "Use a function by `import <module>` at the top of your code, then `<module>.function_you_want()`.\n",
    "\n"
   ]
  },
  {
   "cell_type": "markdown",
   "metadata": {},
   "source": [
    "The Python Standard Library bundles all common modules, so we can just import (use) them. Let's look at one of them called `random`"
   ]
  },
  {
   "cell_type": "code",
   "execution_count": 3,
   "metadata": {},
   "outputs": [
    {
     "name": "stdout",
     "output_type": "stream",
     "text": [
      "4\n"
     ]
    }
   ],
   "source": [
    "import random\n",
    "# Done! Now we can use any functions in the random module!\n",
    "\n",
    "# randint is a function in the random module\n",
    "my_random_number = random.randint(2,8)\n",
    "\n",
    "# This could be 2, 3, 4, 5, 6, 7, or 8\n",
    "print(my_random_number)"
   ]
  },
  {
   "cell_type": "markdown",
   "metadata": {},
   "source": [
    "Lets look at the documentation for `random` module. You can find it [here](https://docs.python.org/3/library/random.html)"
   ]
  },
  {
   "cell_type": "markdown",
   "metadata": {},
   "source": [
    "___\n",
    "## Practice\n",
    "Find the random function in the documentation. (Yes, a function can have the same name as the module).\n",
    "Print out a randomly generated number using random().\n",
    "Run the program several times; is your random number different every time?\n",
    "___"
   ]
  },
  {
   "cell_type": "markdown",
   "metadata": {},
   "source": [
    "___\n",
    "## Practice\n",
    "Pick another function of your choice from the `random` module. Test out the function. Did it do what you expected it to do?\n",
    "___"
   ]
  },
  {
   "cell_type": "markdown",
   "metadata": {},
   "source": [
    "**Packages**/**Libraries** are a collection of modules. Usually a package is made of multiple related modules. There are a lot of great modules out there. Some important ones are `pandas`, `numpy`, `opencv`, `matplotlib` and more."
   ]
  },
  {
   "cell_type": "code",
   "execution_count": 4,
   "metadata": {},
   "outputs": [],
   "source": [
    "import pandas as pd"
   ]
  },
  {
   "cell_type": "code",
   "execution_count": 14,
   "metadata": {},
   "outputs": [],
   "source": [
    "data = pd.read_csv(\"data/data.csv\")\n",
    "data.head()"
   ]
  },
  {
   "cell_type": "code",
   "execution_count": 15,
   "metadata": {},
   "outputs": [],
   "source": [
    "data.describe()"
   ]
  },
  {
   "cell_type": "code",
   "execution_count": null,
   "metadata": {},
   "outputs": [],
   "source": []
  }
 ],
 "metadata": {
  "kernelspec": {
   "display_name": "Python 3",
   "language": "python",
   "name": "python3"
  },
  "language_info": {
   "codemirror_mode": {
    "name": "ipython",
    "version": 3
   },
   "file_extension": ".py",
   "mimetype": "text/x-python",
   "name": "python",
   "nbconvert_exporter": "python",
   "pygments_lexer": "ipython3",
   "version": "3.6.4"
  }
 },
 "nbformat": 4,
 "nbformat_minor": 2
}
