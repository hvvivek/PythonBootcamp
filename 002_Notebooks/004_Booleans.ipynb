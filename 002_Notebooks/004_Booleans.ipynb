{
 "cells": [
  {
   "cell_type": "markdown",
   "metadata": {},
   "source": [
    "# BOOLEANS\n",
    "\n",
    "Booleans are simply `True` and `False` values and are an extremely important and powerful part of any programming language's logic. When you use a logical operator for a set of expressions, it will return a boolean value of `True` or `False`. For example, the expression `5 > 3` resolves to (basically turns into) `True`.\n",
    "\n",
    "## logical operators\n",
    "\n",
    "Python provides several standard operators for performing comparative and associative logic:\n",
    "\n",
    "- `==` :          equal in value\n",
    "- `is` :          identity\n",
    "- `!=` :           not equal in value\n",
    "- `<` :           less than\n",
    "- `>` :           greater than\n",
    "- `<=` :          less than or equal to\n",
    "- `>=` :          greater than or equal to\n",
    "- `and` :         and operator\n",
    "- `or` :          or operator\n",
    "- `not` :         inverse modifier\n",
    "- `in` :          membership operator\n",
    "\n",
    "Logical operators always compare **2** values against eachother and return a Boolean:\n"
   ]
  },
  {
   "cell_type": "code",
   "execution_count": null,
   "metadata": {},
   "outputs": [],
   "source": [
    "5 < 6\n",
    "\n",
    "3 in [3, 4, 6]"
   ]
  },
  {
   "cell_type": "markdown",
   "metadata": {},
   "source": [
    "## Logical combinations\n",
    "Statements joined with `and` are all required to be `True` to return `True`, otherwise they return `False`. One way to think of it is that one bad `False` spoils the bunch.\n",
    "\n",
    "Let's see what happens when we combine Boolean values with `and` associative logic:\n",
    "```python\n",
    "True and True\n",
    "True and False\n",
    "False and False\n",
    "True and True and True and True and False\n",
    "```\n",
    "\n",
    "Statements joined with `or` require any of the statements to be `True` to return `True`, otherwise they return `False`.\n",
    "\n",
    "Let's see what happens when we combine Boolean values with `or` associative logic:\n",
    "\n",
    "```python\n",
    "True or False\n",
    "False or False\n",
    "False or False or False or False or True\n",
    "```\n",
    "\n",
    "So what happens if you combine `and` and `or`? what if you use `not` as well?\n",
    "The following precedence is followed for logical operators:\n",
    "\n",
    "HIGHEST PRECEDENCE\n",
    "\n",
    "- `not`\n",
    "- `and`\n",
    "- `or`\n",
    "\n",
    "LOWEST PRECEDENCE\n",
    "\n",
    "[more info on logical operator precedence](https://docs.python.org/2/reference/expressions.html#operator-precedence)\n",
    "\n",
    "Let's test out some of these combinations, using parentheses to emphasize the natural order or precedence for the logic:"
   ]
  },
  {
   "cell_type": "code",
   "execution_count": null,
   "metadata": {},
   "outputs": [],
   "source": [
    "True and False or False\n",
    "\n",
    "# equivalent to\n",
    "(True and False) or False"
   ]
  },
  {
   "cell_type": "code",
   "execution_count": null,
   "metadata": {},
   "outputs": [],
   "source": [
    "not True and False or False\n",
    "\n",
    "# equivalent to\n",
    "(not (True and False)) or False"
   ]
  },
  {
   "cell_type": "markdown",
   "metadata": {},
   "source": [
    "## in operator\n",
    "\n",
    "The `in` operator can be used to check if a value exists within a collection variable (such as a dict, list, tuple, and it works with strings as well)."
   ]
  },
  {
   "cell_type": "code",
   "execution_count": null,
   "metadata": {},
   "outputs": [],
   "source": [
    "'hello' in 'hello world'"
   ]
  },
  {
   "cell_type": "code",
   "execution_count": null,
   "metadata": {},
   "outputs": [],
   "source": [
    "5 in [1, 2, 3, 4, 5]"
   ]
  },
  {
   "cell_type": "code",
   "execution_count": null,
   "metadata": {},
   "outputs": [],
   "source": [
    "'5' in [1, 2, 3, 4, 5]"
   ]
  },
  {
   "cell_type": "code",
   "execution_count": null,
   "metadata": {},
   "outputs": [],
   "source": [
    "'5' not in [1, 2, 3, 4, 5]"
   ]
  },
  {
   "cell_type": "code",
   "execution_count": null,
   "metadata": {},
   "outputs": [],
   "source": [
    "'my_key' in {'first_key': 0, 'my_key': 1}"
   ]
  },
  {
   "cell_type": "markdown",
   "metadata": {},
   "source": [
    "___\n",
    "## PRACTICE\n",
    "\n",
    "Make the following comparisons:\n",
    "\n",
    "1. 4 is greater than 5\n",
    "2. 5 is not equal to 4\n",
    "3. 5 is greater than or equal to 4 and 4 is greater than or equal to 6\n",
    "___\n"
   ]
  }
 ],
 "metadata": {
  "kernelspec": {
   "display_name": "Python 3",
   "language": "python",
   "name": "python3"
  },
  "language_info": {
   "codemirror_mode": {
    "name": "ipython",
    "version": 3
   },
   "file_extension": ".py",
   "mimetype": "text/x-python",
   "name": "python",
   "nbconvert_exporter": "python",
   "pygments_lexer": "ipython3",
   "version": "3.6.4"
  }
 },
 "nbformat": 4,
 "nbformat_minor": 2
}
