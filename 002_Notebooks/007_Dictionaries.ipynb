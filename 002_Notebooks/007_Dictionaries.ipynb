{
 "cells": [
  {
   "cell_type": "markdown",
   "metadata": {},
   "source": [
    "# DICTIONARIES\n",
    "\n",
    "Dictionaries (dicts) store key-value pairs, where the key must be a string, and the value can be any variable type. Below vesion **Python3.6**, the keys are ambiguously ordered, unlike list indices, but in **Python3.6** and above, their order is based on the order they are put in the dictionary.\n",
    "\n",
    "## Declaration\n",
    "\n",
    "Dicts use curly braces to enclose key value pairs, where the key is a quotation enclosed string, and the value is\n",
    "written however the type you'd like to assign to the key is normally written. Instead of using `=` to assign values,\n",
    "dicts use `:`, and the key value pairs are separated by commas.\n",
    "\n",
    "Here's an example of a simple dict:"
   ]
  },
  {
   "cell_type": "code",
   "execution_count": null,
   "metadata": {},
   "outputs": [],
   "source": [
    "simple_dict = {\n",
    "    'food': 'sandwich',\n",
    "    'amount': 1,\n",
    "    'calories': 200,\n",
    "    'eaten': False\n",
    "}"
   ]
  },
  {
   "cell_type": "markdown",
   "metadata": {},
   "source": [
    "And here is a more complex dict, where some of the key's values are dicts themselves:\n"
   ]
  },
  {
   "cell_type": "code",
   "execution_count": null,
   "metadata": {},
   "outputs": [],
   "source": [
    "my_dict = {\n",
    "   'first_name': 'Arjun',\n",
    "   'last_name': 'Ray',\n",
    "   'birthday': {\n",
    "       'year': 1984,\n",
    "       'month': 'September',\n",
    "       'day': 11\n",
    "   },\n",
    "   'fav_colors': [\n",
    "       'black',\n",
    "       'red'\n",
    "   ],\n",
    "   'alive': True,\n",
    "}"
   ]
  },
  {
   "cell_type": "markdown",
   "metadata": {},
   "source": [
    "## Pretty-printing a dictionary\n",
    "\n",
    "JSON (JavaScript Object Notation) is a nearly universal data format that uses key value pairs. Python dicts are\n",
    "interconvertible to this data type which is essentially a string that other language can parse back into data objects.\n",
    "Pythons `json` module methods also allow us to print out data structures in more readable ways\n",
    "\n",
    "Let's use `json.dumps` again to print out `my_dict` in a more readable way:"
   ]
  },
  {
   "cell_type": "code",
   "execution_count": null,
   "metadata": {},
   "outputs": [],
   "source": [
    "# without json.dumps\n",
    "print(my_dict)\n",
    "\n",
    "# with json.dumps\n",
    "import json\n",
    "print(json.dumps(my_dict, indent=4))"
   ]
  },
  {
   "cell_type": "markdown",
   "metadata": {},
   "source": [
    "\n",
    "\n",
    "## Indexing\n",
    "\n",
    "Dictionary values are selected by their key name:"
   ]
  },
  {
   "cell_type": "code",
   "execution_count": null,
   "metadata": {},
   "outputs": [],
   "source": [
    "my_dict['first_name']\n",
    "my_dict['birthday']"
   ]
  },
  {
   "cell_type": "markdown",
   "metadata": {},
   "source": [
    "Dictionaries can be nested inside of dictionaries, and we index into nested dicts the same general way we index into nested lists:"
   ]
  },
  {
   "cell_type": "code",
   "execution_count": null,
   "metadata": {},
   "outputs": [],
   "source": [
    "my_dict['birthday']['year']\n"
   ]
  },
  {
   "cell_type": "markdown",
   "metadata": {},
   "source": [
    "## Listing keys and values\n",
    "\n",
    "Dicts have methods for getting back a list of either their keys or values, called `keys` and `values`:"
   ]
  },
  {
   "cell_type": "code",
   "execution_count": null,
   "metadata": {},
   "outputs": [],
   "source": [
    "my_dict.keys()\n",
    "my_dict.values()"
   ]
  },
  {
   "cell_type": "markdown",
   "metadata": {},
   "source": [
    "> ## TRY IT\n",
    "\n",
    "Make a dictionary with a bunch of keys in non alphabetical order called `test`\n",
    "look at output from `test.keys()`. what do you notice?"
   ]
  },
  {
   "cell_type": "markdown",
   "metadata": {},
   "source": [
    "## Adding / Removing / Changing key values\n",
    "\n",
    "You can change a pre-existing key value the same way you add a new key, using the key string within square brackets and the assignment operator to assign a new value.\n",
    "\n",
    "### Adding / Changing\n",
    "\n",
    "Changing a pre-existing key value:"
   ]
  },
  {
   "cell_type": "code",
   "execution_count": null,
   "metadata": {},
   "outputs": [],
   "source": [
    "my_dict['alive'] = False\n"
   ]
  },
  {
   "cell_type": "markdown",
   "metadata": {},
   "source": [
    "Adding a new key with a new value:\n"
   ]
  },
  {
   "cell_type": "code",
   "execution_count": null,
   "metadata": {},
   "outputs": [],
   "source": [
    "my_dict['occupation'] = 'instructor'\n"
   ]
  },
  {
   "cell_type": "markdown",
   "metadata": {},
   "source": [
    "### Removing\n",
    "\n",
    "Two methods are available for removing key-value pairs from a Dict:\n",
    "\n",
    "- `del` operator: remove element by key\n",
    "- `pop` list method: remove element by key and return it's value\n",
    "\n",
    "You can remove a key-value pair using `del`:"
   ]
  },
  {
   "cell_type": "code",
   "execution_count": null,
   "metadata": {},
   "outputs": [],
   "source": [
    "del my_dict['alive']\n",
    "print(my_dict)"
   ]
  },
  {
   "cell_type": "markdown",
   "metadata": {},
   "source": [
    "You can remove a key-value pair and save the value using `pop`:\n"
   ]
  },
  {
   "cell_type": "code",
   "execution_count": null,
   "metadata": {},
   "outputs": [],
   "source": [
    "occupation = my_dict.pop('occupation')\n",
    "print(occupation, my_dict)"
   ]
  },
  {
   "cell_type": "markdown",
   "metadata": {},
   "source": [
    "___\n",
    "## TRY IT\n",
    "\n",
    "Rename the `alive` key in `my_dict` to `hungry`:\n",
    "\n",
    "- hint: You aren't actually renaming the key. Think about the add / remove methods above\n",
    "___"
   ]
  },
  {
   "cell_type": "markdown",
   "metadata": {},
   "source": [
    "## JSON to dictionary\n",
    "\n",
    "The JSON data format is used for all kinds of language-agnostic things these days. For example, JSON is the main data format that is used for sending and receiving data over the internet. In Python, you can easily load JSON data directly into a python dictionary as the two data structures are interconvertible.\n",
    "\n",
    "Let's get a JSON string loaded into Python:\n",
    "\n",
    "> NOTE: Notice how this is actually not a Dict, even though it has the same \"shape\"\n",
    "it is in fact a long multi-line string with very strict (JSON) formatting."
   ]
  },
  {
   "cell_type": "code",
   "execution_count": null,
   "metadata": {},
   "outputs": [],
   "source": [
    "json_string = \\\n",
    "'''{\n",
    "   \"id\": \"0001\",\n",
    "   \"type\": \"donut\",\n",
    "   \"name\": \"Cake\",\n",
    "   \"ppu\": 0.55,\n",
    "   \"batters\":\n",
    "       {\n",
    "           \"batter\":\n",
    "               [\n",
    "                   { \"id\": \"1001\", \"type\": \"Regular\" },\n",
    "                   { \"id\": \"1002\", \"type\": \"Chocolate\" },\n",
    "                   { \"id\": \"1003\", \"type\": \"Blueberry\" },\n",
    "                   { \"id\": \"1004\", \"type\": \"Devil's Food\" }\n",
    "               ]\n",
    "       },\n",
    "   \"topping\":\n",
    "       [\n",
    "           { \"id\": \"5001\", \"type\": \"None\" },\n",
    "           { \"id\": \"5002\", \"type\": \"Glazed\" },\n",
    "           { \"id\": \"5005\", \"type\": \"Sugar\" },\n",
    "           { \"id\": \"5007\", \"type\": \"Powdered Sugar\" },\n",
    "           { \"id\": \"5006\", \"type\": \"Chocolate with Sprinkles\" },\n",
    "           { \"id\": \"5003\", \"type\": \"Chocolate\" },\n",
    "           { \"id\": \"5004\", \"type\": \"Maple\" }\n",
    "       ]\n",
    "}'''"
   ]
  },
  {
   "cell_type": "markdown",
   "metadata": {},
   "source": [
    "Now we can convert it to a Dict using the `loads` method from the aforementioned Python `json` module:\n"
   ]
  },
  {
   "cell_type": "code",
   "execution_count": null,
   "metadata": {},
   "outputs": [],
   "source": [
    "import json\n",
    "cake_dict = json.loads(json_string)"
   ]
  },
  {
   "cell_type": "markdown",
   "metadata": {},
   "source": [
    "And now we can access data inside `cake_dict` just like we would any other Python Dict!\n"
   ]
  },
  {
   "cell_type": "code",
   "execution_count": null,
   "metadata": {},
   "outputs": [],
   "source": [
    "print (cake_dict['batters']['batter'][0])\n"
   ]
  },
  {
   "cell_type": "markdown",
   "metadata": {},
   "source": [
    "___\n",
    "## PRACTICE\n",
    "\n",
    "Pretty print the `topping` key list within `cake_dict` with an indent of `5` using `json.dumps`:\n",
    "___"
   ]
  },
  {
   "cell_type": "code",
   "execution_count": null,
   "metadata": {},
   "outputs": [],
   "source": []
  }
 ],
 "metadata": {
  "kernelspec": {
   "display_name": "Python 3",
   "language": "python",
   "name": "python3"
  },
  "language_info": {
   "codemirror_mode": {
    "name": "ipython",
    "version": 3
   },
   "file_extension": ".py",
   "mimetype": "text/x-python",
   "name": "python",
   "nbconvert_exporter": "python",
   "pygments_lexer": "ipython3",
   "version": "3.6.5"
  }
 },
 "nbformat": 4,
 "nbformat_minor": 2
}
