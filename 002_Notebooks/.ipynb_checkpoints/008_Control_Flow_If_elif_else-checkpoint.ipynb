{
 "cells": [
  {
   "cell_type": "markdown",
   "metadata": {},
   "source": [
    "# CONTROL FLOW\n",
    "\n",
    "Control flow is a way of breaking up the flow of execution in a program based on logical conditions.\n",
    "\n",
    "The main control flow statements are `for`, `if`/`elif`/`else`, and `while`. \n",
    "\n",
    "## if statements\n",
    "\n",
    "`if` statements allow us to evaluate whether a logic statement is `True`, and if so, it will run the indented code block, ie:\n",
    "\n",
    "```python\n",
    "if some_logic_statement_is_True:\n",
    "   # do something\n",
    "```\n",
    "\n",
    "Notice how one of these blocks will **always** run because `5 > 4` will always be `True`, and one of these blocks will **never** run becasue `5 < 4` will always be `False`:"
   ]
  },
  {
   "cell_type": "code",
   "execution_count": 1,
   "metadata": {},
   "outputs": [
    {
     "name": "stdout",
     "output_type": "stream",
     "text": [
      "5 is greater than 4\n",
      "great\n"
     ]
    }
   ],
   "source": [
    "if 5 > 4:\n",
    "    print('5 is greater than 4')\n",
    "    print('great')\n",
    "\n",
    "if 5 < 4:\n",
    "    print('5 is less than 4')"
   ]
  },
  {
   "cell_type": "markdown",
   "metadata": {},
   "source": [
    "___"
   ]
  },
  {
   "cell_type": "markdown",
   "metadata": {},
   "source": [
    "You can chain multiple conditions using `elif` (else if) statements after an `if`. the program will try each condition\n",
    "until it reaches one that evaluated to `True`, and only run the indented code block for that condition. If it passes\n",
    "through all `if` and `elif` conditions without a True evaluation, it will run the indented code block within the\n",
    "`else` statement, if it is provided."
   ]
  },
  {
   "cell_type": "code",
   "execution_count": 6,
   "metadata": {},
   "outputs": [],
   "source": [
    "my_val = 20\n",
    "if my_val > 10:\n",
    "    print('greater than 10')\n",
    "elif my_val < 0:\n",
    "    print('is negative')\n",
    "elif my_val == 0:\n",
    "    print('is 0')\n",
    "else:\n",
    "    print('neither greater than 10 nor negative')"
   ]
  },
  {
   "cell_type": "markdown",
   "metadata": {},
   "source": [
    "# Breakout Rooms!"
   ]
  },
  {
   "cell_type": "markdown",
   "metadata": {},
   "source": [
    "___\n",
    "## PRACTICE\n",
    "\n",
    "Try running the statement below. Why doesn't it work?\n",
    "___"
   ]
  },
  {
   "cell_type": "code",
   "execution_count": 5,
   "metadata": {},
   "outputs": [],
   "source": [
    "if 5 > 4:\n",
    "print('5 is greater than 4')"
   ]
  },
  {
   "cell_type": "markdown",
   "metadata": {},
   "source": [
    "\n",
    "___\n",
    "## PRACTICE\n",
    "\n",
    "Write an `if`/`elif`/`else` block that will check if a string var called `my_val2`:\n",
    "\n",
    "1. if it contains the letter `'a'`, print `'contains the letter a'`\n",
    "2. or else if it is greater than `5` characters long, print `'is greater than 5 characters long'`\n",
    "3. or else --> print `'oh well'`"
   ]
  },
  {
   "cell_type": "code",
   "execution_count": 4,
   "metadata": {},
   "outputs": [],
   "source": [
    "my_val2 = 'hello my name is'"
   ]
  },
  {
   "cell_type": "markdown",
   "metadata": {},
   "source": [
    "___"
   ]
  },
  {
   "cell_type": "markdown",
   "metadata": {},
   "source": [
    "___\n",
    "## PRACTICE\n",
    "\n",
    "Reverse the order of the first two conditions in the above solution. What happens? Why?\n",
    "___"
   ]
  },
  {
   "cell_type": "code",
   "execution_count": null,
   "metadata": {},
   "outputs": [],
   "source": []
  }
 ],
 "metadata": {
  "kernelspec": {
   "display_name": "Python 3",
   "language": "python",
   "name": "python3"
  },
  "language_info": {
   "codemirror_mode": {
    "name": "ipython",
    "version": 3
   },
   "file_extension": ".py",
   "mimetype": "text/x-python",
   "name": "python",
   "nbconvert_exporter": "python",
   "pygments_lexer": "ipython3",
   "version": "3.6.4"
  }
 },
 "nbformat": 4,
 "nbformat_minor": 2
}
