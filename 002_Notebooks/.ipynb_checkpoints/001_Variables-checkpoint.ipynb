{
 "cells": [
  {
   "cell_type": "markdown",
   "metadata": {},
   "source": [
    "# VARIABLES\n",
    "\n",
    "Python has a few important and commonly used variable types, along with some more exotic types you don't see used quite as often.\n",
    "\n",
    "This block of code loops through all the different variable types in Python and prints them out. Don't worry about understanding exactly how it loops yet, this code is simply for demonstration of Python builtin types:"
   ]
  },
  {
   "cell_type": "code",
   "execution_count": 3,
   "metadata": {},
   "outputs": [],
   "source": [
    "import builtins\n",
    "\n",
    "for name in dir(builtins):\n",
    "    if isinstance(getattr(builtins, name), type):\n",
    "        print(name)"
   ]
  },
  {
   "cell_type": "markdown",
   "metadata": {},
   "source": [
    "We are going to be concerned with the following types:\n",
    "\n",
    "- **Booleans**: `True` or `False` values\n",
    "- **Strings**: ordered collections of characters, ex. `\"General Assembly\"`\n",
    "- **Integers/Floats**: numeric values, integer (ex. `5`) of floating point (ex. `3.14`)\n",
    "- **Lists**: ordered collections of values that can be modified programatically\n",
    "- **Tuples**: exactly like lists, but a Tuple cannot be changed one declared\n",
    "- **Dicts**: collections of values that can be referenced by their names (called **keys**)\n",
    "- **Functions**: blocks of code that received some value, execute some logic / calculation, and return a result\n",
    "- **Classes**: blueprints for making objects which are simplified models of real world objects and their characteristics and behaviors"
   ]
  },
  {
   "cell_type": "markdown",
   "metadata": {},
   "source": [
    "# DECLARING VARIABLES\n",
    "\n",
    "We declare variables by name and set their value using the `=` assignment operator "
   ]
  },
  {
   "cell_type": "code",
   "execution_count": 4,
   "metadata": {},
   "outputs": [],
   "source": [
    "my_first_var = \"Hello\"\n",
    "my_second_var = \"Hi\"\n",
    "my_third_var = 2\n",
    "my_fourth_var = True\n",
    "my_fifth_var = 36.2"
   ]
  },
  {
   "cell_type": "markdown",
   "metadata": {},
   "source": [
    "Python is a dynamically-typed language; this means that Python determines the type of the \n",
    "variable for you automatically given the context that the variable is declared in \n",
    "and the value passed to the variable"
   ]
  },
  {
   "cell_type": "code",
   "execution_count": 6,
   "metadata": {},
   "outputs": [],
   "source": [
    "print(type(my_first_var))\n",
    "print(type(my_second_var))\n",
    "print(type(my_third_var))\n",
    "print(type(my_fourth_var))\n",
    "print(type(my_fifth_var))"
   ]
  },
  {
   "cell_type": "markdown",
   "metadata": {},
   "source": [
    "Variable naming conventions: all lowercase, starting with a letter or \n",
    "underscore, with underscores between words don't use special characters! \n",
    "don't use dashes!\n",
    "[PEP-8 naming standards for Python](https://www.python.org/dev/peps/pep-0008/)"
   ]
  },
  {
   "cell_type": "code",
   "execution_count": 8,
   "metadata": {},
   "outputs": [],
   "source": [
    "my_var = 1\n",
    "invalid-var = 1\n",
    "0invalid_var = 1\n",
    "invalid_var@ = 1"
   ]
  },
  {
   "cell_type": "markdown",
   "metadata": {},
   "source": [
    "You can declare multiple variables at once:"
   ]
  },
  {
   "cell_type": "code",
   "execution_count": 9,
   "metadata": {},
   "outputs": [],
   "source": [
    "name, age, sex = 'Vivek', 27, 'M'"
   ]
  },
  {
   "cell_type": "markdown",
   "metadata": {},
   "source": [
    "Overwriting a variable is as simply as reassigning it:"
   ]
  },
  {
   "cell_type": "code",
   "execution_count": 10,
   "metadata": {},
   "outputs": [],
   "source": [
    "my_var = 'Hello'"
   ]
  },
  {
   "cell_type": "markdown",
   "metadata": {},
   "source": [
    "A re-assigned variable can be of any type; it is not constrained to be of the\n",
    "same type as it was originally declared:"
   ]
  },
  {
   "cell_type": "code",
   "execution_count": 12,
   "metadata": {},
   "outputs": [],
   "source": [
    "print(type(my_var))"
   ]
  },
  {
   "cell_type": "markdown",
   "metadata": {},
   "source": [
    "___\n",
    "## PRACTICE\n",
    "Declare `name`, `sex`, and `age` variables with your own information:"
   ]
  },
  {
   "cell_type": "code",
   "execution_count": null,
   "metadata": {},
   "outputs": [],
   "source": []
  }
 ],
 "metadata": {
  "kernelspec": {
   "display_name": "Python 3",
   "language": "python",
   "name": "python3"
  },
  "language_info": {
   "codemirror_mode": {
    "name": "ipython",
    "version": 3
   },
   "file_extension": ".py",
   "mimetype": "text/x-python",
   "name": "python",
   "nbconvert_exporter": "python",
   "pygments_lexer": "ipython3",
   "version": "3.6.5"
  }
 },
 "nbformat": 4,
 "nbformat_minor": 2
}
