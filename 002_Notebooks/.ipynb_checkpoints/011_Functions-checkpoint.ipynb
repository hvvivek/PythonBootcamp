{
 "cells": [
  {
   "cell_type": "markdown",
   "metadata": {},
   "source": [
    "# FUNCTIONS\n",
    "\n",
    "Functions define blocks of code which take in arguments, perform some logical operations on those argument and then return something. To declare a function, we use the `def` keyword followed by the name of the function, then a `()` containing comma separated parameters (sometimes none), then `:`.\n",
    "\n",
    "Parameters are all of the variables the function needs to execute as defined between the `()`. When a function is run, the actual values passed in for each parameter name are called the arguments.\n",
    "\n",
    "As we have seen, functions must be called using '<function name>(<function arguments>)' in order to run it. A function block execution finishes when it reaches the end of it's indented code block, or it hits a `return` statement, which ends function execution and returns a value. Functions that reach their end without hitting a `return` keyword automatically return the `undefined` value.\n",
    "\n",
    "## declaration\n",
    "\n",
    "A `return` keyword can be useful to return data to the line where a function is run from, allowing us to save the value in a variable. In the example below, `my_func` is declared using `def my_func(name, age):`, and then it returns the value of a template string which has interpolated the parameter values for `name` and `age`. When the function is run using the argument `\"Arjun\"` for the `name` parameter and `33` for the `age` parameter, we save the returned string as `info_str`, allowing us to print it:"
   ]
  },
  {
   "cell_type": "code",
   "execution_count": null,
   "metadata": {},
   "outputs": [],
   "source": [
    "def my_func(name, age):\n",
    "    return 'my name is {} and I am {} years old'.format(name, age)\n",
    "\n",
    "info_str = my_func('Arjun', 33)\n",
    "print(info_str)"
   ]
  },
  {
   "cell_type": "markdown",
   "metadata": {},
   "source": [
    "## parameters\n",
    "\n",
    "You can set default parameters for functions, which is the value they will take on if no argument is passed for that parameter.\n",
    "\n",
    "> NOTE: Parameters with default values **must** always come after arguments that do not have default values."
   ]
  },
  {
   "cell_type": "code",
   "execution_count": null,
   "metadata": {},
   "outputs": [],
   "source": [
    "def say_it(exclamation, name='You'):\n",
    "    print('{} {}!'.format(exclamation ,name.upper())\n",
    "\n",
    "say_it('Wow')\n",
    "say_it('Oh my god', 'Becky')"
   ]
  },
  {
   "cell_type": "markdown",
   "metadata": {},
   "source": [
    "Functions can take a variable number of arguments and make a local list with those arguments. You use the `*<list name>` parameter to do this, and this must come after all of the positional arguments:"
   ]
  },
  {
   "cell_type": "code",
   "execution_count": null,
   "metadata": {},
   "outputs": [],
   "source": [
    "def print_before_each_in_list(before_text, *args):\n",
    "    for item in args:\n",
    "        print '{} {}'.format(before_text, item)\n",
    "print_before_each_in_list('Here\\'s an item', 'cat', 'hairbrush', 'VCR', 'telephoto lens')"
   ]
  },
  {
   "cell_type": "markdown",
   "metadata": {},
   "source": [
    "Functions can also take `<key>=<value` arguments and make a local dictionary with those arguments. You use the `**<dict name>` parameter to do this, and this must come after all of the individual named arguments, and list argument:"
   ]
  },
  {
   "cell_type": "code",
   "execution_count": null,
   "metadata": {},
   "outputs": [],
   "source": [
    "def print_kwargs(**kwargs):\n",
    "    for key, val in kwargs.iteritems():\n",
    "        print('{}: {}'.format(key, val))\n",
    "\n",
    "print_kwargs(name=\"Arjun\", age=33, occupation=\"?\")"
   ]
  },
  {
   "cell_type": "markdown",
   "metadata": {},
   "source": [
    "___\n",
    "## PRACTICE\n",
    "\n",
    "Write a function called `print_if_key_in_list` that takes a `prefix` argument with a default value of `'\\t'`, a list\n",
    "argument as `*args` and a dict arguments as `**kwargs`. For every key in `kwargs`, if the key is also in `args`, print\n",
    "the `prefix` and the key value:\n",
    "___"
   ]
  },
  {
   "cell_type": "markdown",
   "metadata": {},
   "source": [
    "## Scope\n",
    "\n",
    "The indented block of code inside a function `def` statement is scoped to the function, which means that it only available locally within the function block. If you declare new variables inside of the function block, they will not be accessible outside the function block. However,\n",
    "you can access values of pre-existing variable from the outer scope from within the function.\n",
    "\n",
    "You can access the variables made outside of the function within it:"
   ]
  },
  {
   "cell_type": "code",
   "execution_count": null,
   "metadata": {},
   "outputs": [],
   "source": [
    "my_var = 20\n",
    "\n",
    "def get_my_var():\n",
    "    print(my_var)\n",
    "\n",
    "get_my_var()"
   ]
  },
  {
   "cell_type": "markdown",
   "metadata": {},
   "source": [
    "However, you cannot change the variable in the outer scope:\n"
   ]
  },
  {
   "cell_type": "code",
   "execution_count": null,
   "metadata": {},
   "outputs": [],
   "source": [
    "my_var = 20\n",
    "\n",
    "\n",
    "def change_my_var():\n",
    "    my_var = 30\n",
    "    # this is a different 'my_var' variable than what is in the outer scope\n",
    "    print(my_var)\n",
    "\n",
    "change_my_var()\n",
    "print(my_var)"
   ]
  },
  {
   "cell_type": "markdown",
   "metadata": {},
   "source": [
    "The outer scope cannot access variables declared within the function:\n"
   ]
  },
  {
   "cell_type": "code",
   "execution_count": null,
   "metadata": {},
   "outputs": [],
   "source": [
    "def in_the_block():\n",
    "    block_var = 'hi'\n",
    "\n",
    "in_the_block()\n",
    "print(block_var)"
   ]
  }
 ],
 "metadata": {
  "kernelspec": {
   "display_name": "Python 3",
   "language": "python",
   "name": "python3"
  },
  "language_info": {
   "codemirror_mode": {
    "name": "ipython",
    "version": 3
   },
   "file_extension": ".py",
   "mimetype": "text/x-python",
   "name": "python",
   "nbconvert_exporter": "python",
   "pygments_lexer": "ipython3",
   "version": "3.6.5"
  }
 },
 "nbformat": 4,
 "nbformat_minor": 2
}
