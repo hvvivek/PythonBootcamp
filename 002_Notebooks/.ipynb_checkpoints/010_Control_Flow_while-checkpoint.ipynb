{
 "cells": [
  {
   "cell_type": "markdown",
   "metadata": {},
   "source": [
    "## while\n",
    "\n",
    "`while` loops should be used when you want to wait for some process that takes an unknown amount of time to finish. If you know how many loop iterations you will have, such as in the case of iterating over a enumerable variable, consider using a `for` loop instead. `while` loops keep looping as long as the condition following the `while` statement remains `True`. `while` loops can also be ended using the `break` keyword and loops can be continued using the `continue` keyword.\n",
    "\n",
    "Let's create a process that takes a random amount of time to finish:"
   ]
  },
  {
   "cell_type": "code",
   "execution_count": 2,
   "metadata": {},
   "outputs": [],
   "source": [
    "import time\n",
    "import random\n",
    "\n",
    "milliseconds = 0\n",
    "# here is the random number of milliseconds this process will run for\n",
    "# between 20 and 200 milliseconds\n",
    "max_milliseconds = random.randint(20, 200)\n",
    "\n",
    "while milliseconds <= max_milliseconds:\n",
    "    print('{} milliseconds elapsed'.format(milliseconds))\n",
    "\n",
    "    # this method will pause the the program for 1 millisecond\n",
    "    time.sleep(0.1)\n",
    "    milliseconds += 1"
   ]
  },
  {
   "cell_type": "code",
   "execution_count": null,
   "metadata": {},
   "outputs": [],
   "source": []
  }
 ],
 "metadata": {
  "kernelspec": {
   "display_name": "Python 3",
   "language": "python",
   "name": "python3"
  },
  "language_info": {
   "codemirror_mode": {
    "name": "ipython",
    "version": 3
   },
   "file_extension": ".py",
   "mimetype": "text/x-python",
   "name": "python",
   "nbconvert_exporter": "python",
   "pygments_lexer": "ipython3",
   "version": "3.6.5"
  }
 },
 "nbformat": 4,
 "nbformat_minor": 2
}
