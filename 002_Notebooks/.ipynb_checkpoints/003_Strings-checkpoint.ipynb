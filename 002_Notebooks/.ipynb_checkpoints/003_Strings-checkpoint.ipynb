{
 "cells": [
  {
   "cell_type": "markdown",
   "metadata": {},
   "source": [
    "# STRINGS\n",
    "\n",
    "Strings are ordered collections of characters which are enclosed in single or double quotation marks. Single letters, words, sentences, paragraphs, emojis, kanji... these are all represented as strings. "
   ]
  },
  {
   "cell_type": "markdown",
   "metadata": {},
   "source": [
    "## Declaration"
   ]
  },
  {
   "cell_type": "code",
   "execution_count": 13,
   "metadata": {},
   "outputs": [],
   "source": [
    "my_string = 'this'\n",
    "# or\n",
    "my_string = \"this\""
   ]
  },
  {
   "cell_type": "markdown",
   "metadata": {},
   "source": [
    "## Length\n",
    "You can use a builtin function called `len` to calculate the length of variables:"
   ]
  },
  {
   "cell_type": "code",
   "execution_count": 15,
   "metadata": {},
   "outputs": [],
   "source": [
    "len(my_string)"
   ]
  },
  {
   "cell_type": "markdown",
   "metadata": {},
   "source": [
    "___\n",
    "## PRACTICE\n",
    "Look at the contents of `my_string` by both viewing it using `print` or just entering it's name. What is the difference? Why?"
   ]
  },
  {
   "cell_type": "code",
   "execution_count": null,
   "metadata": {},
   "outputs": [],
   "source": [
    "my_string = 'first line\\nsecond line'"
   ]
  },
  {
   "cell_type": "markdown",
   "metadata": {},
   "source": [
    "___"
   ]
  },
  {
   "cell_type": "markdown",
   "metadata": {},
   "source": [
    "## Escaped characters\n",
    "These characters are called **escaped characters** because the `\\` \"escapes\" / changes the normal meaning of the following letter(s), and they return a special designated string when printed, instead of just their\n",
    "character contents.\n",
    "\n",
    "Here are some common string **escape character**:\n",
    "> NOTE: these work in many / most programming languages!\n",
    "\n",
    "- `\\n` - newline\n",
    "- `\\t` - tab\n",
    "- `\\'` - escaped single quote\n",
    "  - allows you to use a `'` in the middle of a string which has starting and ending `'` characters without prematurely ending the string declaration\n",
    "- `\\\"` - escaped double quote\n",
    "  - same as escaped single quote but for string declared with `\"` starting and ending characters"
   ]
  },
  {
   "cell_type": "code",
   "execution_count": null,
   "metadata": {},
   "outputs": [],
   "source": [
    "print('first line\\n\\ttabbed second line\\n\\'I can use single quotes if I escape them\\'')"
   ]
  },
  {
   "cell_type": "markdown",
   "metadata": {},
   "source": [
    "You can get unicode characters outside of the standard alphanumeric characters by using\n",
    "strings starting with \"u\" to indicate unicode, and `\\u<unicode char number>` for unicode symbols references.\n",
    "\n",
    "[Here are a ton of unicode character code mappings](http://unicode.org/charts/)\n"
   ]
  },
  {
   "cell_type": "code",
   "execution_count": null,
   "metadata": {},
   "outputs": [],
   "source": [
    "ustring = u'I have to get to work, \\u2602 or \\u2600..\\u2639'\n",
    "print(ustring)"
   ]
  },
  {
   "cell_type": "code",
   "execution_count": null,
   "metadata": {},
   "outputs": [],
   "source": []
  },
  {
   "cell_type": "markdown",
   "metadata": {},
   "source": [
    "## Multiline Strings\n",
    "Multiline strings are exactly the same as multiline comments, but you can in fact save their values in variable for later use:"
   ]
  },
  {
   "cell_type": "code",
   "execution_count": 2,
   "metadata": {},
   "outputs": [],
   "source": [
    "multiline_string = '''\n",
    "my name is Vivek\n",
    "and I'm a teacher at General Assembly\n",
    "'''\n",
    "# or\n",
    "multiline_string = \"\"\"\n",
    "my name is Vivek\n",
    "and I'm a teacher at General Assembly\n",
    "\"\"\""
   ]
  },
  {
   "cell_type": "markdown",
   "metadata": {},
   "source": [
    "## String Concatenation\n",
    "Concatenation means adding two values together, in this case, joining to strings end to end.\n",
    "\n",
    "A string can simply be added together using the `+` operator:"
   ]
  },
  {
   "cell_type": "code",
   "execution_count": 4,
   "metadata": {},
   "outputs": [],
   "source": [
    "str_1 = 'In the beginning, '\n",
    "str_2 = 'there was Assembly'\n",
    "str_3 = str_1 + str_2\n",
    "print(str_3)"
   ]
  },
  {
   "cell_type": "markdown",
   "metadata": {},
   "source": [
    "You can also use the `+=` operator as a shorthand way of saying incrementing an existing value by another value. In the case of strings, you end up concatenating a string value to a preexisting on:"
   ]
  },
  {
   "cell_type": "code",
   "execution_count": 6,
   "metadata": {},
   "outputs": [],
   "source": [
    "str_4 = \"PROLOGUE: \"\n",
    "str_4 += str_3\n",
    "print(str_4)\n",
    "# vs the longer way\n",
    "str_5 = \"PROLUGUE: \"\n",
    "str_5 = str_5 + str_3\n",
    "print(str_5)"
   ]
  },
  {
   "cell_type": "markdown",
   "metadata": {},
   "source": [
    "In order to add non-string variables with strings, you must convert them to strings first using the builtin `str` function:\n",
    "> NOTE: This is not always the most elegant way to combine variables and string (we'll learn better ways in the **STRING SUBSTITUTION** section below)"
   ]
  },
  {
   "cell_type": "code",
   "execution_count": null,
   "metadata": {},
   "outputs": [],
   "source": [
    "# notice the difference in the value printed for these two statements\n",
    "print(5)\n",
    "print(str(5))\n",
    "\n",
    "# now use str method to convert an integer to a string for concatenation\n",
    "print('Here is a string plus a number: ' + str(5))"
   ]
  },
  {
   "cell_type": "markdown",
   "metadata": {},
   "source": [
    "___"
   ]
  },
  {
   "cell_type": "markdown",
   "metadata": {},
   "source": [
    "## Text transformations\n",
    "\n",
    "String comes pre-packaged with all kinds of handy methods that allow us to transform them. \n",
    "> NOTE: Notice that when we talk about calling a function by it's name such as `len` or `str`, we call them **functions** whereas when we use a function with the syntax `<my variable>.<function name>`, we call these **methods**. Methods are simply functions that belong to variables, and are specialized to be used with those variable. All functions are run by using parentheses where we put any required data called **arguments** to the function between the parentheses: `<function name>(<arguments>)`\n",
    "thods in other types:"
   ]
  },
  {
   "cell_type": "code",
   "execution_count": null,
   "metadata": {},
   "outputs": [],
   "source": [
    "sentence = \"I aim to become a Python hacker!\"\n",
    "sentence.upper()\n",
    "sentence.lower()\n",
    "sentence.capitalize()"
   ]
  },
  {
   "cell_type": "markdown",
   "metadata": {},
   "source": [
    "Some methods allow you to chain one method after another. It runs the methods in order, outputting the resultant value. Method chaining is also possible with some but not all me"
   ]
  },
  {
   "cell_type": "code",
   "execution_count": null,
   "metadata": {},
   "outputs": [],
   "source": [
    "sentence = \"i AIm tO BeCoMe a PytHOn HaCkEr!\"\n",
    "sentence.lower().capitalize()"
   ]
  },
  {
   "cell_type": "markdown",
   "metadata": {},
   "source": [
    "\n",
    "## Stripping\n",
    "\n",
    "Stripping allows the removal of trailing space or characters around a string using the `strip` method. To remove spaces / characters from left and right sides, you can use `lstrip` or `rstrip`, respectively:"
   ]
  },
  {
   "cell_type": "code",
   "execution_count": null,
   "metadata": {},
   "outputs": [],
   "source": [
    "padded = '\\t    There are a lot of spaces and tabs around this string\\'s contents    \\t\\t'\n",
    "padded.strip()\n",
    "padded.lstrip()\n",
    "padded.rstrip()"
   ]
  },
  {
   "cell_type": "markdown",
   "metadata": {},
   "source": [
    "All of the stripping methods optionally take an argument for what kind of character to strip. By default, this character is set to `' '` (a single space), so running `strip()` is the same as running `strip(' ')`\n",
    "\n",
    "Let's try stripping a non-space character:"
   ]
  },
  {
   "cell_type": "code",
   "execution_count": null,
   "metadata": {},
   "outputs": [],
   "source": [
    "num_padded = '00000why are there zeros surrounding this string?0000'\n",
    "num_padded.strip('0')"
   ]
  },
  {
   "cell_type": "markdown",
   "metadata": {},
   "source": [
    "## Splitting\n",
    "\n",
    "The `split` method allows a string can be split into a list of substrings. We have not talked abut list variables yet, but all you need to know for now is that they are a ordered set of comma-separated values inside of square brackets, ex. `['the', 'quick', 'brown', 'fox']`.\n",
    "\n",
    "\n",
    "`split` also has a default \"split-at\" value of `' '`. Let's try using the default value and other values:"
   ]
  },
  {
   "cell_type": "code",
   "execution_count": null,
   "metadata": {},
   "outputs": [],
   "source": [
    "sentence = \"i AIm tO BeCoMe a PytHOn HaCkEr!\"\n",
    "\n",
    "# split at every space (default)\n",
    "sentence.split()\n",
    "\n",
    "# split at every 'a'\n",
    "sentence.split('a')"
   ]
  },
  {
   "cell_type": "markdown",
   "metadata": {},
   "source": [
    "A very easy way to split a string into a list of characters is using the `list` method, with the string as the argument:\n"
   ]
  },
  {
   "cell_type": "code",
   "execution_count": null,
   "metadata": {},
   "outputs": [],
   "source": [
    "list(sentence)"
   ]
  },
  {
   "cell_type": "markdown",
   "metadata": {},
   "source": [
    "\n",
    "## Slicing\n",
    "\n",
    "Python provides a way to get parts of a string by specifying start and stop positions. This is called **slicing**, and later we will see that this syntax works on lists as well.\n",
    "\n",
    "Slicing takes three positional arguments separated by ':' and placed within square brackets:\n",
    "\n",
    "- starting index (inclusive) _default value: `0`_\n",
    "- ending index (exclusive) _default value: the end of the string_\n",
    "- skipping - how many positions to move forward between each retrieved value, starting at starting index until the ending index is reached _default value: `1`_\n",
    "\n",
    "> NOTE: string indices, and counting in general in Python and other programming languages starts at `0`. For example, in this string `'hello'` the index of the letter `h` is `0`, not `1`!\n"
   ]
  },
  {
   "cell_type": "code",
   "execution_count": null,
   "metadata": {},
   "outputs": [],
   "source": [
    "sentence[2:5]\n",
    "sentence[:5]\n",
    "sentence[5:]\n",
    "sentence[:]\n",
    "sentence[::2]"
   ]
  },
  {
   "cell_type": "markdown",
   "metadata": {},
   "source": [
    "\n",
    "## Searching\n",
    "\n",
    "There are a few different ways that we can search within a string to see if a substring exists within it.\n",
    "\n",
    "Let's consider this `paragraph`"
   ]
  },
  {
   "cell_type": "code",
   "execution_count": 6,
   "metadata": {},
   "outputs": [],
   "source": [
    "paragraph = '''In the works of Tarantino, a predominant concept is the distinction between\n",
    "ground and figure. In a sense, Sartre suggests the use of rationalism to attack\n",
    "colonialist perceptions of sexuality. Marx uses the term ‘subcapitalist\n",
    "materialism’ to denote the rubicon, and subsequent futility, of conceptualist\n",
    "class.\n",
    "“Society is used in the service of class divisions,” says Derrida. Thus,\n",
    "Sargeant[1] suggests that the works of Tarantino are\n",
    "empowering. The main theme of Finnis’s[2] model of\n",
    "rationalism is the role of the participant as artist.'''"
   ]
  },
  {
   "cell_type": "markdown",
   "metadata": {},
   "source": [
    "To simply check for the presence of a substring, we can use the `in` operator:"
   ]
  },
  {
   "cell_type": "code",
   "execution_count": 8,
   "metadata": {},
   "outputs": [],
   "source": [
    "'Tarantino' in paragraph"
   ]
  },
  {
   "cell_type": "markdown",
   "metadata": {},
   "source": [
    "To get the index of the first instance of a substring from the left, we can use the `find` method:\n"
   ]
  },
  {
   "cell_type": "code",
   "execution_count": null,
   "metadata": {},
   "outputs": [],
   "source": [
    "paragraph.find('Tarantino')"
   ]
  },
  {
   "cell_type": "markdown",
   "metadata": {},
   "source": [
    "To do the same from the right, we can use the `rfind` method:\n"
   ]
  },
  {
   "cell_type": "code",
   "execution_count": null,
   "metadata": {},
   "outputs": [],
   "source": [
    "paragraph.rfind('Tarantino')"
   ]
  },
  {
   "cell_type": "markdown",
   "metadata": {},
   "source": [
    "\n",
    "## String substitution\n",
    "\n",
    "Strings containing `{}` characters can have those characters replaced with variable value using the `format` string method. Inserting variable into strings in this way is called either **string substitution** or **interpolation**. A string with `{}` values is called a template string as it's the template from which string can be formatted by\n",
    "inserting variable values.\n",
    "\n",
    "By the way, _this_ is a more elegant way to combine variables into a string than concatenation and using the `str` function.\n",
    "\n",
    "> NOTE: The `{}` can contain values that determine the index of the variable to be inserted, or it's name, or other cool magical stuff([see here for more info on these tricks](https://pyformat.info/)). Also, **Python3** supports yet another way to do **interpolation** using [**f-Strings**](https://cito.github.io/blog/f-strings/).\n",
    "\n",
    "Let's insert some values into a template string by passing several positional values to the `format` method:"
   ]
  },
  {
   "cell_type": "code",
   "execution_count": 13,
   "metadata": {},
   "outputs": [],
   "source": [
    "print('my name is {} and I am {} years old'.format('Vivek', 27))"
   ]
  },
  {
   "cell_type": "markdown",
   "metadata": {},
   "source": [
    "We can specify the order that the positional arguments are inserted by putting integers inside the curly braces:"
   ]
  },
  {
   "cell_type": "code",
   "execution_count": 15,
   "metadata": {},
   "outputs": [],
   "source": [
    "# print('I want to substitute the {1} and {0} value in a different order'.format('second', 'first'))"
   ]
  },
  {
   "cell_type": "markdown",
   "metadata": {},
   "source": [
    "We can also name the insertion points and pass keyword arguments to `format` to replace named insertion points with their key-ed value:"
   ]
  },
  {
   "cell_type": "code",
   "execution_count": 17,
   "metadata": {},
   "outputs": [],
   "source": [
    "print('Your name is {name}, today is {day_of_week} and we are in the {class_name} class' \\\n",
    "         .format(name='Sara', day_of_week='Saturday', class_name='Introduction to Python Bootcamp'))"
   ]
  },
  {
   "cell_type": "markdown",
   "metadata": {},
   "source": [
    "\n",
    "\n",
    "\n"
   ]
  },
  {
   "cell_type": "markdown",
   "metadata": {},
   "source": [
    "# Breakout Rooms!"
   ]
  },
  {
   "cell_type": "markdown",
   "metadata": {},
   "source": [
    "___\n",
    "## PRACTICE\n",
    "Generate a **multiline** template string in the form of a short written letter that uses the values of the following variables, and sign your nickname in capital letters\n",
    "\n",
    "- variables: `day_of_week`, `favorite_color`, `nickname`, and `salutation`\n",
    "- hint: you need to declare these variable before using `format` if you are going to use positional arguments\n",
    "___"
   ]
  },
  {
   "cell_type": "markdown",
   "metadata": {},
   "source": [
    "___\n",
    "## PRACTICE\n",
    "\n",
    "Unscramble the message in `scrambled`.\n",
    "\n",
    "- hint 1: the first letter of the hidden message is `y`\n",
    "- hint 2: the message is embedded in scrambled at regular intervals\n",
    "___"
   ]
  },
  {
   "cell_type": "code",
   "execution_count": 2,
   "metadata": {},
   "outputs": [],
   "source": [
    "scrambled = 'T{vSzXyJ^osatoCJuWZOurtwnDi cAIxMFhXkB\\\\caaoTpLVnvSqIppfe_TYDAc TrJrbamRuPvGPas[rGqWniqfduIahZ_YvVgHxWpVheXDYy_{dsIur{^ L[hQTrt`j^n`voaPKzpF IIOnWodrxpEcjehcThaTcbtoJZ`obH[aSZdEuVfT[eK]fptE TfcCs]t[RX]e\\\\hxcgtOairYORWcsNNekoB wqp^FmsHRkExGenyRlrGnUc\\\\pTrtgW{rHheUYOIUJnUREozScYjwH\\\\ae'"
   ]
  },
  {
   "cell_type": "markdown",
   "metadata": {},
   "source": [
    "<details>\n",
    "<summary>Solution</summary>\n",
    "\n",
    "The first thing to do is start at the left and find the index of the first `y`, which is `6`, then try different skipping values until a meaningful message appears.\n",
    "If your curious how the message was made, here was the code that generated it:\n",
    "\n",
    "```python\n",
    "import random\n",
    "hidden_message = 'you have managed to decode this sentence'\n",
    "scrambled = ''\n",
    "gap = 6\n",
    "for i in hidden_message:\n",
    "    for n in range(gap):\n",
    "        scrambled += chr(random.randint(65, 123))\n",
    "    scrambled += i\n",
    "\n",
    "print(scrambled)\n",
    "```\n",
    "</details>\n"
   ]
  },
  {
   "cell_type": "markdown",
   "metadata": {},
   "source": [
    "___\n",
    "## PRACTICE\n",
    "\n",
    "Take the `weird_string` below, remove the trailing spaces on the left and the trailing repetitions of the word 'end' from the right, then split it into words:\n",
    "___"
   ]
  },
  {
   "cell_type": "code",
   "execution_count": null,
   "metadata": {},
   "outputs": [],
   "source": [
    "weird_string = '\\n\\t   well~isn\\'t~this~a~weird~string?endendend'"
   ]
  },
  {
   "cell_type": "markdown",
   "metadata": {},
   "source": [
    "___\n",
    "## PRACTICE\n",
    "Declare a string that prints the following string value (double quotation\n",
    "marks and new lines included, but you can ignore the ''' characters):\n",
    "```python\n",
    "'''\n",
    "\"We may have all come on different ships, but we're in the same boat now.\"\n",
    "     - MLK\n",
    "'''\n",
    "```\n",
    "___"
   ]
  },
  {
   "cell_type": "code",
   "execution_count": null,
   "metadata": {},
   "outputs": [],
   "source": []
  },
  {
   "cell_type": "markdown",
   "metadata": {},
   "source": [
    "___\n",
    "## PRACTICE\n",
    "Replace the double quotes in the above string with special character \\u2036 (open quotation), and \\u2033 (closed\n",
    "quotation)\n",
    "___"
   ]
  },
  {
   "cell_type": "markdown",
   "metadata": {},
   "source": [
    "___\n",
    "## PRACTICE\n",
    "Print a string that says `\"my name is <name>, and I am <age> years old\"` using the `name` and `age` vars\n",
    "provided below:\n"
   ]
  },
  {
   "cell_type": "code",
   "execution_count": null,
   "metadata": {},
   "outputs": [],
   "source": [
    "name = 'Jerermy'\n",
    "age = 4"
   ]
  },
  {
   "cell_type": "code",
   "execution_count": null,
   "metadata": {},
   "outputs": [],
   "source": []
  },
  {
   "cell_type": "code",
   "execution_count": null,
   "metadata": {},
   "outputs": [],
   "source": []
  },
  {
   "cell_type": "markdown",
   "metadata": {},
   "source": [
    "\n",
    "## Replacement\n",
    "\n",
    "Using the bulitin `replace` string method, we can replace characters or substring in an existing string. If we're clever, we can remove characters and substrings as well using the same method (think about it).\n",
    "\n",
    "This time, you are going to read about the `replace` method and try to implement it yourself.\n",
    "[Check out the docs here.](https://docs.python.org/2/library/stdtypes.html#str.replace)\n",
    "\n",
    "___\n",
    "## PRACTICE\n",
    "\n",
    "In `quote`, replace the first 'th' with 'the' and make the string all lowercase other than the first word.\n",
    "- hint: [another string method...](https://docs.python.org/2/library/stdtypes.html#str.capitalize)"
   ]
  },
  {
   "cell_type": "code",
   "execution_count": 10,
   "metadata": {},
   "outputs": [],
   "source": [
    "quote = 'In th End, we will remember not the words of our Enemies, but the silence of our Friends.'"
   ]
  },
  {
   "cell_type": "markdown",
   "metadata": {},
   "source": [
    "___\n",
    "## PRACTICE\n",
    "\n",
    "One of the most important things you can learn as any kind of programmer is to learn how to read the documentation for the language and modules / packages that you plan to use. Let's take a look at the Python language documentation to learn more about the built in string method `find` and it's arguments. [Check out the docs here.](https://docs.python.org/2/library/stdtypes.html#str.find)\n",
    "\n",
    "> NOTE: **functions** take two different kinds of arguments: \n",
    "> - **positional arguments**: \n",
    ">   - the first few arguments to a **function** need to be input into the function in a specific order. \n",
    ">   - For example, you may have a function called `whisperThanYell` that expects two string arguments, first the whispered string (which will be transformed to all lowercase) then second, the yelled string (which will be transformed to all uppercase). \n",
    ">   - If you ran `whisperThanYell('I\\'ll tell you a secret', 'you better not tell')` you'd get back `\"i'll tell you a secret, YOU BETTER NOT TELL\"`, but if you ran `whisperThanYell('you better not tell', 'I\\'ll tell you a secret')`, `you better not tell, \"I'LL TELL YOU A SECRET\"`. \n",
    ">   - Notice how these are two different outcomes, ie with positional arguments, order matters!\n",
    "> - **keyword arguments**:\n",
    ">   - some functions let you pass arguments using `<keyword>=<some value>` notation in the arguments list **AFTER** all of the positional arguments, and these are called keyword arguments\n",
    ">   - these arguments can go in any order\n",
    "> - either, both, or neither type of argument can be applicable to a given function, and any one of the arguments in particular can be required or optional\n",
    "\n",
    "Now, let's find the index of the second `of` occurrence in `paragraph` using `find`:\n"
   ]
  },
  {
   "cell_type": "code",
   "execution_count": 9,
   "metadata": {},
   "outputs": [],
   "source": [
    "paragraph = '''In the works of Tarantino, a predominant concept is the distinction between\n",
    "ground and figure. In a sense, Sartre suggests the use of rationalism to attack\n",
    "colonialist perceptions of sexuality. Marx uses the term ‘subcapitalist\n",
    "materialism’ to denote the rubicon, and subsequent futility, of conceptualist\n",
    "class.\n",
    "“Society is used in the service of class divisions,” says Derrida. Thus,\n",
    "Sargeant[1] suggests that the works of Tarantino are\n",
    "empowering. The main theme of Finnis’s[2] model of\n",
    "rationalism is the role of the participant as artist.'''"
   ]
  },
  {
   "cell_type": "code",
   "execution_count": null,
   "metadata": {},
   "outputs": [],
   "source": []
  }
 ],
 "metadata": {
  "kernelspec": {
   "display_name": "Python 3",
   "language": "python",
   "name": "python3"
  },
  "language_info": {
   "codemirror_mode": {
    "name": "ipython",
    "version": 3
   },
   "file_extension": ".py",
   "mimetype": "text/x-python",
   "name": "python",
   "nbconvert_exporter": "python",
   "pygments_lexer": "ipython3",
   "version": "3.6.4"
  }
 },
 "nbformat": 4,
 "nbformat_minor": 2
}
