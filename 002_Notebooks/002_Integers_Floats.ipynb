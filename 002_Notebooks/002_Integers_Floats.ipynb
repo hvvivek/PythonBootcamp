{
 "cells": [
  {
   "cell_type": "markdown",
   "metadata": {},
   "source": [
    "# INTEGERS AND FLOATS\n",
    "\n",
    "Integer and Floats (floating point numbers) are some of the most commonly used numeric variable types. There are a few others but they are not used very often unless you are doing math with imaginary numbers, or math with very large or very small numbers (yes, a representation of infinity exists).\n",
    "\n",
    "Any number with a decimal in it will be determined as a float:\n",
    "- `3.14` is a float\n",
    "- so is `8.` and `1.000000` even though we might think of these as basically integer values"
   ]
  },
  {
   "cell_type": "markdown",
   "metadata": {},
   "source": [
    "## Declaration"
   ]
  },
  {
   "cell_type": "code",
   "execution_count": null,
   "metadata": {},
   "outputs": [],
   "source": [
    "my_int = 10\n",
    "my_float = 1.6\n",
    "type(my_int)\n",
    "type(my_float)"
   ]
  },
  {
   "cell_type": "markdown",
   "metadata": {},
   "source": [
    "## Operators\n",
    "\n",
    "Since we are talking about numbers, we expect to have all of the standard mathematical operators used with numeric computation. Here are the basic math operators in Python:\n",
    "\n",
    "- `+`   addition\n",
    "- `-`   subtraction\n",
    "- `*`   multiplication\n",
    "- `/`   division\n",
    "- `**`  power\n",
    "- `%`   remainder on division (modulus)\n",
    "\n",
    "> NOTE: In **Python2**, when you divide integers by other integers, it will only return whole integer values (rounded down), but in **Python3** it will output a floating point result if a non-integer result is to be expected."
   ]
  },
  {
   "cell_type": "code",
   "execution_count": null,
   "metadata": {},
   "outputs": [],
   "source": [
    "my_int = 20"
   ]
  },
  {
   "cell_type": "code",
   "execution_count": null,
   "metadata": {},
   "outputs": [],
   "source": [
    "my_int / 3"
   ]
  },
  {
   "cell_type": "code",
   "execution_count": null,
   "metadata": {},
   "outputs": [],
   "source": [
    "my_int % 3"
   ]
  },
  {
   "cell_type": "markdown",
   "metadata": {},
   "source": [
    "## Conversion\n",
    "\n",
    "You can easily convert Integers to Floats and vice versa.\n",
    "\n",
    "To convert an Integer to a Float, you simply need to have a decimal place somewhere in the calculation:"
   ]
  },
  {
   "cell_type": "code",
   "execution_count": null,
   "metadata": {},
   "outputs": [],
   "source": [
    "# notice how dividing / multiplying by 1. does not change the actual value of my_int\n",
    "my_int = 256\n",
    "\n",
    "type(my_int / 1.)"
   ]
  },
  {
   "cell_type": "code",
   "execution_count": null,
   "metadata": {},
   "outputs": [],
   "source": [
    "type(my_int * 1.)"
   ]
  },
  {
   "cell_type": "markdown",
   "metadata": {},
   "source": [
    "To convert a Float to an Integer, you can use the `int` builtin function:\n"
   ]
  },
  {
   "cell_type": "code",
   "execution_count": null,
   "metadata": {},
   "outputs": [],
   "source": [
    "my_float = 20\n",
    "\n",
    "int(my_float)"
   ]
  },
  {
   "cell_type": "code",
   "execution_count": null,
   "metadata": {},
   "outputs": [],
   "source": [
    "type(int(my_float))"
   ]
  },
  {
   "cell_type": "markdown",
   "metadata": {},
   "source": [
    "## Maximum sizes\n",
    "\n",
    "Since Python is a nice, friendly, high-level language, you don't have to worry about allocating memory and your variable values getting too large, unless you are dealing with very large or very small values. How large and how small?"
   ]
  },
  {
   "cell_type": "code",
   "execution_count": null,
   "metadata": {},
   "outputs": [],
   "source": [
    "import sys\n",
    "\n",
    "# the Maximum integer size for Python\n",
    "sys.maxsize"
   ]
  },
  {
   "cell_type": "code",
   "execution_count": null,
   "metadata": {},
   "outputs": [],
   "source": [
    "# a bunch of information on maxiumum Float sizes\n",
    "sys.float_info"
   ]
  },
  {
   "cell_type": "markdown",
   "metadata": {},
   "source": [
    "___\n",
    "## PRACTICE\n",
    "\n",
    "Let's play with these numbers at the extremities of what is allowed in Python:\n",
    "\n",
    "1. What happens when you add `1` to `sys.maxsize`?\n",
    "2. What happens when you multiply `sys.float_info[0]` (the max size) by `2`?\n",
    "___"
   ]
  },
  {
   "cell_type": "markdown",
   "metadata": {},
   "source": [
    "## Incrementing in place\n",
    "\n",
    "You can combine the arithmetic operators with the assignment operator (`=`) to create an increment operator to modify numeric values in place. We saw this before when we were learning about string methods, as strings also support the `+=` operator, albeit for to a different purpose.\n",
    "\n",
    "Let's try out some increment operators:"
   ]
  },
  {
   "cell_type": "code",
   "execution_count": null,
   "metadata": {},
   "outputs": [],
   "source": [
    "my_int = 24\n",
    "\n",
    "my_int += 2\n",
    "print(my_int)\n",
    "\n",
    "my_int -= 1\n",
    "print(my_int)\n",
    "\n",
    "my_int *= 6\n",
    "print(my_int)\n",
    "\n",
    "my_int /= 2\n",
    "print(my_int)"
   ]
  },
  {
   "cell_type": "markdown",
   "metadata": {},
   "source": [
    "## Rounding floats\n",
    "\n",
    "You can round Floats to their nearest Integer value using methods from the builtin `math` module.\n",
    "\n",
    "- `math.ceil` - round up\n",
    "- `math.floor` - round down"
   ]
  },
  {
   "cell_type": "code",
   "execution_count": null,
   "metadata": {},
   "outputs": [],
   "source": [
    "# you must import this module to access it's methods\n",
    "import math\n",
    "\n",
    "math.ceil(3.14157)\n",
    "math.floor(6.62607004)"
   ]
  },
  {
   "cell_type": "markdown",
   "metadata": {},
   "source": [
    "You can round floats to a set number of decimal places using the builtin `round` function.\n",
    "\n",
    "> NOTE: There are some significant issues with representing base 10 numbers as binary numbers, with binary being the representation that the computer actually stores. [These issues can show up in rounding amongst other places.](https://docs.python.org/2/tutorial/floatingpoint.html)\n"
   ]
  },
  {
   "cell_type": "code",
   "execution_count": null,
   "metadata": {},
   "outputs": [],
   "source": [
    "# default number of decimal places is 0\n",
    "\n",
    "round(3.14157) \n",
    "\n",
    "round(3.14157, 3)"
   ]
  },
  {
   "cell_type": "markdown",
   "metadata": {},
   "source": [
    "## Order of operations\n",
    "\n",
    "Python arithmetic operators have a set order of operations that is similar but not exactly the same as what was taught in math class in school. You can use the parentheses operator `()` (not the same as the function call `()`) to set an order to avoid arbitrary miscalculations due to remembering the order or Python operations incorrectly.\n",
    "\n",
    "**HIGHEST PRECEDENCE**\n",
    "\n",
    "- `()`\n",
    "- `**`\n",
    "- `*`\n",
    "- `/`\n",
    "- `+`\n",
    "- `-`\n",
    "\n",
    "**LOWEST PRECEDENCE**\n",
    "\n"
   ]
  },
  {
   "cell_type": "markdown",
   "metadata": {},
   "source": [
    "___\n",
    "## PRACTICE\n",
    "\n",
    "Calculate the surface area of a square-based pyramid using the set `height`, `width`, and `length` variable values below.\n",
    "\n",
    "[Here is the equation](https://www.google.com/search?q=surface+area+of+a+pyramid)\n",
    "\n",
    "- hint: to perform a square root, you simply raise a value to the power 0.5 (`value ** 0.5`)\n",
    "___"
   ]
  },
  {
   "cell_type": "code",
   "execution_count": null,
   "metadata": {},
   "outputs": [],
   "source": [
    "h = 225\n",
    "w = 200\n",
    "l = 200"
   ]
  }
 ],
 "metadata": {
  "file_extension": ".py",
  "kernelspec": {
   "display_name": "Python 3",
   "language": "python",
   "name": "python3"
  },
  "language_info": {
   "codemirror_mode": {
    "name": "ipython",
    "version": 3
   },
   "file_extension": ".py",
   "mimetype": "text/x-python",
   "name": "python",
   "nbconvert_exporter": "python",
   "pygments_lexer": "ipython3",
   "version": "3.6.4"
  },
  "mimetype": "text/x-python",
  "name": "python",
  "npconvert_exporter": "python",
  "pygments_lexer": "ipython3",
  "version": 3
 },
 "nbformat": 4,
 "nbformat_minor": 2
}
