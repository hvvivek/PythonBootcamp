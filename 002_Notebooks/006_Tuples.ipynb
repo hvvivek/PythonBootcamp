{
 "cells": [
  {
   "cell_type": "markdown",
   "metadata": {},
   "source": [
    "# TUPLES\n",
    "\n",
    "Tuples are just like lists except they are a fixed length and their values are immutable. This makes them more computationally efficient at scale than lists, since the mutability of lists requires more computational resources under the hood than an immutable tuple.\n",
    "\n",
    "\n",
    "## Declaration\n",
    "\n",
    "Tuples are declared as comma separated values between parentheses."
   ]
  },
  {
   "cell_type": "code",
   "execution_count": 1,
   "metadata": {},
   "outputs": [],
   "source": [
    "my_tuple = ('Yes', 'No', 'Maybe')\n"
   ]
  },
  {
   "cell_type": "markdown",
   "metadata": {},
   "source": [
    "Once declared, a tuple cannot be changes:\n"
   ]
  },
  {
   "cell_type": "code",
   "execution_count": 5,
   "metadata": {},
   "outputs": [],
   "source": [
    "# none of these will work since tuples are immutable and fixed length\n",
    "my_tuple[0] = 'Oui'\n",
    "my_tuple.append('Sort of')"
   ]
  },
  {
   "cell_type": "markdown",
   "metadata": {},
   "source": [
    "\n",
    "We can see that tuples are more efficient than lists if we run the following to\n",
    "see how long declaring either type takes when run each 10 million times:"
   ]
  },
  {
   "cell_type": "code",
   "execution_count": 6,
   "metadata": {},
   "outputs": [
    {
     "name": "stdout",
     "output_type": "stream",
     "text": [
      "0.1809270631056279\n",
      "0.8763411389663815\n"
     ]
    }
   ],
   "source": [
    "# timeit allows us to time our code, allowing us to \n",
    "# optimize our code for speed!\n",
    "import timeit\n",
    "\n",
    "print(timeit.timeit(\"x=(1,2,3,4,5,6,7,8)\", number=10000000))\n",
    "print(timeit.timeit(\"x=[1,2,3,4,5,6,7,8]\", number=10000000))"
   ]
  },
  {
   "cell_type": "markdown",
   "metadata": {},
   "source": [
    "It turns out that tuples also take far less low-level commands to store in physical memory. Keep in mind, the low level assembly language commands are the commands the machine uses to store bits and bytes, so efficiency at the level of computation can have big ramifications for efficiency at higher, more complex levels of computation such as in Python:\n"
   ]
  },
  {
   "cell_type": "code",
   "execution_count": 8,
   "metadata": {},
   "outputs": [],
   "source": [
    "# see how many operations each requires when the commands are disassembled into assembly\n",
    "\n",
    "import dis\n",
    "def a():\n",
    "   x=(1,2,3,4,5,6,7,8)\n",
    "\n",
    "\n",
    "def b():\n",
    "   x=[1,2,3,4,5,6,7,8]\n",
    "\n",
    "\n"
   ]
  },
  {
   "cell_type": "code",
   "execution_count": 9,
   "metadata": {},
   "outputs": [
    {
     "name": "stdout",
     "output_type": "stream",
     "text": [
      "  5           0 LOAD_CONST               9 ((1, 2, 3, 4, 5, 6, 7, 8))\n",
      "              2 STORE_FAST               0 (x)\n",
      "              4 LOAD_CONST               0 (None)\n",
      "              6 RETURN_VALUE\n",
      "None\n"
     ]
    }
   ],
   "source": [
    "print(dis.dis(a))\n"
   ]
  },
  {
   "cell_type": "code",
   "execution_count": 10,
   "metadata": {},
   "outputs": [
    {
     "name": "stdout",
     "output_type": "stream",
     "text": [
      "  9           0 LOAD_CONST               1 (1)\n",
      "              2 LOAD_CONST               2 (2)\n",
      "              4 LOAD_CONST               3 (3)\n",
      "              6 LOAD_CONST               4 (4)\n",
      "              8 LOAD_CONST               5 (5)\n",
      "             10 LOAD_CONST               6 (6)\n",
      "             12 LOAD_CONST               7 (7)\n",
      "             14 LOAD_CONST               8 (8)\n",
      "             16 BUILD_LIST               8\n",
      "             18 STORE_FAST               0 (x)\n",
      "             20 LOAD_CONST               0 (None)\n",
      "             22 RETURN_VALUE\n",
      "None\n"
     ]
    }
   ],
   "source": [
    "print(dis.dis(b))"
   ]
  },
  {
   "cell_type": "code",
   "execution_count": null,
   "metadata": {},
   "outputs": [],
   "source": []
  }
 ],
 "metadata": {
  "kernelspec": {
   "display_name": "Python 3",
   "language": "python",
   "name": "python3"
  },
  "language_info": {
   "codemirror_mode": {
    "name": "ipython",
    "version": 3
   },
   "file_extension": ".py",
   "mimetype": "text/x-python",
   "name": "python",
   "nbconvert_exporter": "python",
   "pygments_lexer": "ipython3",
   "version": "3.6.4"
  }
 },
 "nbformat": 4,
 "nbformat_minor": 2
}
